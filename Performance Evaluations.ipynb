{
 "cells": [
  {
   "cell_type": "markdown",
   "metadata": {
    "jp-MarkdownHeadingCollapsed": true,
    "tags": []
   },
   "source": [
    "### Week 7: Performance Evaluations\n",
    "###### Joel Konitzer\n",
    "###### 10/08/2022"
   ]
  },
  {
   "cell_type": "code",
   "execution_count": 12,
   "metadata": {},
   "outputs": [],
   "source": [
    "import pandas as pd\n",
    "import numpy as np\n",
    "\n",
    "import matplotlib.pyplot as plt\n",
    "%matplotlib inline\n",
    "import seaborn as sns\n",
    "\n",
    "from sklearn.model_selection import train_test_split\n",
    "\n",
    "import warnings\n",
    "warnings.filterwarnings(\"ignore\")\n",
    "\n",
    "import EDAFunctions\n",
    "\n",
    "import PerformanceMetrics\n",
    "import CARTFunctions"
   ]
  },
  {
   "cell_type": "code",
   "execution_count": 13,
   "metadata": {},
   "outputs": [],
   "source": [
    "df = pd.read_csv('bank-full.csv', sep=';')"
   ]
  },
  {
   "cell_type": "code",
   "execution_count": 14,
   "metadata": {},
   "outputs": [
    {
     "name": "stdout",
     "output_type": "stream",
     "text": [
      "<class 'pandas.core.frame.DataFrame'>\n",
      "RangeIndex: 45211 entries, 0 to 45210\n",
      "Data columns (total 17 columns):\n",
      " #   Column     Non-Null Count  Dtype \n",
      "---  ------     --------------  ----- \n",
      " 0   age        45211 non-null  int64 \n",
      " 1   job        45211 non-null  object\n",
      " 2   marital    45211 non-null  object\n",
      " 3   education  45211 non-null  object\n",
      " 4   default    45211 non-null  object\n",
      " 5   balance    45211 non-null  int64 \n",
      " 6   housing    45211 non-null  object\n",
      " 7   loan       45211 non-null  object\n",
      " 8   contact    45211 non-null  object\n",
      " 9   day        45211 non-null  int64 \n",
      " 10  month      45211 non-null  object\n",
      " 11  duration   45211 non-null  int64 \n",
      " 12  campaign   45211 non-null  int64 \n",
      " 13  pdays      45211 non-null  int64 \n",
      " 14  previous   45211 non-null  int64 \n",
      " 15  poutcome   45211 non-null  object\n",
      " 16  y          45211 non-null  object\n",
      "dtypes: int64(7), object(10)\n",
      "memory usage: 5.9+ MB\n"
     ]
    }
   ],
   "source": [
    "df.info()"
   ]
  },
  {
   "cell_type": "code",
   "execution_count": 15,
   "metadata": {},
   "outputs": [
    {
     "data": {
      "text/plain": [
       "(45211, 17)"
      ]
     },
     "execution_count": 15,
     "metadata": {},
     "output_type": "execute_result"
    }
   ],
   "source": [
    "df.shape"
   ]
  },
  {
   "cell_type": "code",
   "execution_count": 16,
   "metadata": {},
   "outputs": [
    {
     "data": {
      "text/html": [
       "<div>\n",
       "<style scoped>\n",
       "    .dataframe tbody tr th:only-of-type {\n",
       "        vertical-align: middle;\n",
       "    }\n",
       "\n",
       "    .dataframe tbody tr th {\n",
       "        vertical-align: top;\n",
       "    }\n",
       "\n",
       "    .dataframe thead th {\n",
       "        text-align: right;\n",
       "    }\n",
       "</style>\n",
       "<table border=\"1\" class=\"dataframe\">\n",
       "  <thead>\n",
       "    <tr style=\"text-align: right;\">\n",
       "      <th></th>\n",
       "      <th>age</th>\n",
       "      <th>job</th>\n",
       "      <th>marital</th>\n",
       "      <th>education</th>\n",
       "      <th>default</th>\n",
       "      <th>balance</th>\n",
       "      <th>housing</th>\n",
       "      <th>loan</th>\n",
       "      <th>contact</th>\n",
       "      <th>day</th>\n",
       "      <th>month</th>\n",
       "      <th>duration</th>\n",
       "      <th>campaign</th>\n",
       "      <th>pdays</th>\n",
       "      <th>previous</th>\n",
       "      <th>poutcome</th>\n",
       "      <th>y</th>\n",
       "    </tr>\n",
       "  </thead>\n",
       "  <tbody>\n",
       "    <tr>\n",
       "      <th>0</th>\n",
       "      <td>58</td>\n",
       "      <td>management</td>\n",
       "      <td>married</td>\n",
       "      <td>tertiary</td>\n",
       "      <td>no</td>\n",
       "      <td>2143</td>\n",
       "      <td>yes</td>\n",
       "      <td>no</td>\n",
       "      <td>unknown</td>\n",
       "      <td>5</td>\n",
       "      <td>may</td>\n",
       "      <td>261</td>\n",
       "      <td>1</td>\n",
       "      <td>-1</td>\n",
       "      <td>0</td>\n",
       "      <td>unknown</td>\n",
       "      <td>no</td>\n",
       "    </tr>\n",
       "    <tr>\n",
       "      <th>1</th>\n",
       "      <td>44</td>\n",
       "      <td>technician</td>\n",
       "      <td>single</td>\n",
       "      <td>secondary</td>\n",
       "      <td>no</td>\n",
       "      <td>29</td>\n",
       "      <td>yes</td>\n",
       "      <td>no</td>\n",
       "      <td>unknown</td>\n",
       "      <td>5</td>\n",
       "      <td>may</td>\n",
       "      <td>151</td>\n",
       "      <td>1</td>\n",
       "      <td>-1</td>\n",
       "      <td>0</td>\n",
       "      <td>unknown</td>\n",
       "      <td>no</td>\n",
       "    </tr>\n",
       "    <tr>\n",
       "      <th>2</th>\n",
       "      <td>33</td>\n",
       "      <td>entrepreneur</td>\n",
       "      <td>married</td>\n",
       "      <td>secondary</td>\n",
       "      <td>no</td>\n",
       "      <td>2</td>\n",
       "      <td>yes</td>\n",
       "      <td>yes</td>\n",
       "      <td>unknown</td>\n",
       "      <td>5</td>\n",
       "      <td>may</td>\n",
       "      <td>76</td>\n",
       "      <td>1</td>\n",
       "      <td>-1</td>\n",
       "      <td>0</td>\n",
       "      <td>unknown</td>\n",
       "      <td>no</td>\n",
       "    </tr>\n",
       "    <tr>\n",
       "      <th>3</th>\n",
       "      <td>47</td>\n",
       "      <td>blue-collar</td>\n",
       "      <td>married</td>\n",
       "      <td>unknown</td>\n",
       "      <td>no</td>\n",
       "      <td>1506</td>\n",
       "      <td>yes</td>\n",
       "      <td>no</td>\n",
       "      <td>unknown</td>\n",
       "      <td>5</td>\n",
       "      <td>may</td>\n",
       "      <td>92</td>\n",
       "      <td>1</td>\n",
       "      <td>-1</td>\n",
       "      <td>0</td>\n",
       "      <td>unknown</td>\n",
       "      <td>no</td>\n",
       "    </tr>\n",
       "    <tr>\n",
       "      <th>4</th>\n",
       "      <td>33</td>\n",
       "      <td>unknown</td>\n",
       "      <td>single</td>\n",
       "      <td>unknown</td>\n",
       "      <td>no</td>\n",
       "      <td>1</td>\n",
       "      <td>no</td>\n",
       "      <td>no</td>\n",
       "      <td>unknown</td>\n",
       "      <td>5</td>\n",
       "      <td>may</td>\n",
       "      <td>198</td>\n",
       "      <td>1</td>\n",
       "      <td>-1</td>\n",
       "      <td>0</td>\n",
       "      <td>unknown</td>\n",
       "      <td>no</td>\n",
       "    </tr>\n",
       "  </tbody>\n",
       "</table>\n",
       "</div>"
      ],
      "text/plain": [
       "   age           job  marital  education default  balance housing loan  \\\n",
       "0   58    management  married   tertiary      no     2143     yes   no   \n",
       "1   44    technician   single  secondary      no       29     yes   no   \n",
       "2   33  entrepreneur  married  secondary      no        2     yes  yes   \n",
       "3   47   blue-collar  married    unknown      no     1506     yes   no   \n",
       "4   33       unknown   single    unknown      no        1      no   no   \n",
       "\n",
       "   contact  day month  duration  campaign  pdays  previous poutcome   y  \n",
       "0  unknown    5   may       261         1     -1         0  unknown  no  \n",
       "1  unknown    5   may       151         1     -1         0  unknown  no  \n",
       "2  unknown    5   may        76         1     -1         0  unknown  no  \n",
       "3  unknown    5   may        92         1     -1         0  unknown  no  \n",
       "4  unknown    5   may       198         1     -1         0  unknown  no  "
      ]
     },
     "execution_count": 16,
     "metadata": {},
     "output_type": "execute_result"
    }
   ],
   "source": [
    "df.head()"
   ]
  },
  {
   "cell_type": "code",
   "execution_count": 17,
   "metadata": {},
   "outputs": [],
   "source": [
    "df_transformed, encoder, colsCat, colsNum = CARTFunctions.transform_categoricals(df.copy())"
   ]
  },
  {
   "cell_type": "code",
   "execution_count": 18,
   "metadata": {},
   "outputs": [
    {
     "data": {
      "image/png": "[encoded data removed]",
      "text/plain": [
       "<Figure size 600x800 with 2 Axes>"
      ]
     },
     "metadata": {},
     "output_type": "display_data"
    }
   ],
   "source": [
    "EDAFunctions.corr_to_target(df_transformed, 'y', title=None, file=None)"
   ]
  },
  {
   "cell_type": "code",
   "execution_count": 19,
   "metadata": {},
   "outputs": [],
   "source": [
    "#Divide age by duration to score financial maturity\n",
    "df_transformed['maturity'] = np.round(df_transformed.age / df_transformed.duration, decimals = 3)\n",
    "#Consolidate time references \n",
    "df_transformed['recent_contract'] = df_transformed.month * df_transformed.day\n",
    "#Identify stagnate or mature customers\n",
    "df_transformed['cooldown'] = np.round(df_transformed.balance / df_transformed.duration, decimals = 3)\n",
    "\n",
    "#Drop redundent columns\n",
    "cols = ['duration','balance','day','month']\n",
    "df_transformed = df_transformed.drop(cols, axis=1)"
   ]
  },
  {
   "cell_type": "code",
   "execution_count": 20,
   "metadata": {},
   "outputs": [],
   "source": [
    "#Drop any unwanted datatypes from previous transformations\n",
    "def clean_dataset(df):\n",
    "    assert isinstance(df, pd.DataFrame), \"data is not dataframe\"\n",
    "    df.dropna(inplace=True)\n",
    "    indices_to_keep = ~df.isin([np.nan, np.inf, -np.inf]).any(1)\n",
    "    return df[indices_to_keep].astype(np.float64)\n",
    "df_transformed = clean_dataset(df_transformed)"
   ]
  },
  {
   "cell_type": "markdown",
   "metadata": {},
   "source": [
    "Create multiple train & test sets for model evaluation"
   ]
  },
  {
   "cell_type": "code",
   "execution_count": 21,
   "metadata": {},
   "outputs": [],
   "source": [
    "x_train, x_test, y_train, y_test = CARTFunctions.train_test(df_transformed, 'y')"
   ]
  },
  {
   "cell_type": "code",
   "execution_count": 22,
   "metadata": {},
   "outputs": [],
   "source": [
    "x_train_norm, x_test_norm = CARTFunctions.norm(x_train, x_test, colsNum)"
   ]
  },
  {
   "cell_type": "code",
   "execution_count": 23,
   "metadata": {},
   "outputs": [],
   "source": [
    "x_train_scale, x_test_scale = CARTFunctions.scale(x_train, x_test, colsNum)"
   ]
  },
  {
   "cell_type": "code",
   "execution_count": 125,
   "metadata": {},
   "outputs": [
    {
     "data": {
      "text/html": [
       "<div>\n",
       "<style scoped>\n",
       "    .dataframe tbody tr th:only-of-type {\n",
       "        vertical-align: middle;\n",
       "    }\n",
       "\n",
       "    .dataframe tbody tr th {\n",
       "        vertical-align: top;\n",
       "    }\n",
       "\n",
       "    .dataframe thead th {\n",
       "        text-align: right;\n",
       "    }\n",
       "</style>\n",
       "<table border=\"1\" class=\"dataframe\">\n",
       "  <thead>\n",
       "    <tr style=\"text-align: right;\">\n",
       "      <th></th>\n",
       "      <th>age</th>\n",
       "      <th>job</th>\n",
       "      <th>marital</th>\n",
       "      <th>education</th>\n",
       "      <th>default</th>\n",
       "      <th>housing</th>\n",
       "      <th>loan</th>\n",
       "      <th>contact</th>\n",
       "      <th>campaign</th>\n",
       "      <th>pdays</th>\n",
       "      <th>previous</th>\n",
       "      <th>poutcome</th>\n",
       "      <th>y</th>\n",
       "      <th>maturity</th>\n",
       "      <th>recent_contract</th>\n",
       "      <th>cooldown</th>\n",
       "    </tr>\n",
       "  </thead>\n",
       "  <tbody>\n",
       "    <tr>\n",
       "      <th>0</th>\n",
       "      <td>58.0</td>\n",
       "      <td>4.0</td>\n",
       "      <td>1.0</td>\n",
       "      <td>2.0</td>\n",
       "      <td>0.0</td>\n",
       "      <td>1.0</td>\n",
       "      <td>0.0</td>\n",
       "      <td>2.0</td>\n",
       "      <td>1.0</td>\n",
       "      <td>-1.0</td>\n",
       "      <td>0.0</td>\n",
       "      <td>3.0</td>\n",
       "      <td>0.0</td>\n",
       "      <td>0.222</td>\n",
       "      <td>40.0</td>\n",
       "      <td>8.211</td>\n",
       "    </tr>\n",
       "    <tr>\n",
       "      <th>1</th>\n",
       "      <td>44.0</td>\n",
       "      <td>9.0</td>\n",
       "      <td>2.0</td>\n",
       "      <td>1.0</td>\n",
       "      <td>0.0</td>\n",
       "      <td>1.0</td>\n",
       "      <td>0.0</td>\n",
       "      <td>2.0</td>\n",
       "      <td>1.0</td>\n",
       "      <td>-1.0</td>\n",
       "      <td>0.0</td>\n",
       "      <td>3.0</td>\n",
       "      <td>0.0</td>\n",
       "      <td>0.291</td>\n",
       "      <td>40.0</td>\n",
       "      <td>0.192</td>\n",
       "    </tr>\n",
       "    <tr>\n",
       "      <th>2</th>\n",
       "      <td>33.0</td>\n",
       "      <td>2.0</td>\n",
       "      <td>1.0</td>\n",
       "      <td>1.0</td>\n",
       "      <td>0.0</td>\n",
       "      <td>1.0</td>\n",
       "      <td>1.0</td>\n",
       "      <td>2.0</td>\n",
       "      <td>1.0</td>\n",
       "      <td>-1.0</td>\n",
       "      <td>0.0</td>\n",
       "      <td>3.0</td>\n",
       "      <td>0.0</td>\n",
       "      <td>0.434</td>\n",
       "      <td>40.0</td>\n",
       "      <td>0.026</td>\n",
       "    </tr>\n",
       "    <tr>\n",
       "      <th>3</th>\n",
       "      <td>47.0</td>\n",
       "      <td>1.0</td>\n",
       "      <td>1.0</td>\n",
       "      <td>3.0</td>\n",
       "      <td>0.0</td>\n",
       "      <td>1.0</td>\n",
       "      <td>0.0</td>\n",
       "      <td>2.0</td>\n",
       "      <td>1.0</td>\n",
       "      <td>-1.0</td>\n",
       "      <td>0.0</td>\n",
       "      <td>3.0</td>\n",
       "      <td>0.0</td>\n",
       "      <td>0.511</td>\n",
       "      <td>40.0</td>\n",
       "      <td>16.370</td>\n",
       "    </tr>\n",
       "    <tr>\n",
       "      <th>4</th>\n",
       "      <td>33.0</td>\n",
       "      <td>11.0</td>\n",
       "      <td>2.0</td>\n",
       "      <td>3.0</td>\n",
       "      <td>0.0</td>\n",
       "      <td>0.0</td>\n",
       "      <td>0.0</td>\n",
       "      <td>2.0</td>\n",
       "      <td>1.0</td>\n",
       "      <td>-1.0</td>\n",
       "      <td>0.0</td>\n",
       "      <td>3.0</td>\n",
       "      <td>0.0</td>\n",
       "      <td>0.167</td>\n",
       "      <td>40.0</td>\n",
       "      <td>0.005</td>\n",
       "    </tr>\n",
       "  </tbody>\n",
       "</table>\n",
       "</div>"
      ],
      "text/plain": [
       "    age   job  marital  education  default  housing  loan  contact  campaign  \\\n",
       "0  58.0   4.0      1.0        2.0      0.0      1.0   0.0      2.0       1.0   \n",
       "1  44.0   9.0      2.0        1.0      0.0      1.0   0.0      2.0       1.0   \n",
       "2  33.0   2.0      1.0        1.0      0.0      1.0   1.0      2.0       1.0   \n",
       "3  47.0   1.0      1.0        3.0      0.0      1.0   0.0      2.0       1.0   \n",
       "4  33.0  11.0      2.0        3.0      0.0      0.0   0.0      2.0       1.0   \n",
       "\n",
       "   pdays  previous  poutcome    y  maturity  recent_contract  cooldown  \n",
       "0   -1.0       0.0       3.0  0.0     0.222             40.0     8.211  \n",
       "1   -1.0       0.0       3.0  0.0     0.291             40.0     0.192  \n",
       "2   -1.0       0.0       3.0  0.0     0.434             40.0     0.026  \n",
       "3   -1.0       0.0       3.0  0.0     0.511             40.0    16.370  \n",
       "4   -1.0       0.0       3.0  0.0     0.167             40.0     0.005  "
      ]
     },
     "execution_count": 125,
     "metadata": {},
     "output_type": "execute_result"
    }
   ],
   "source": [
    "#Prepared dataframe\n",
    "df_transformed.head()"
   ]
  },
  {
   "cell_type": "markdown",
   "metadata": {
    "tags": []
   },
   "source": [
    "#### Model development"
   ]
  },
  {
   "cell_type": "markdown",
   "metadata": {
    "tags": []
   },
   "source": [
    "##### i. Random Forest"
   ]
  },
  {
   "cell_type": "code",
   "execution_count": 25,
   "metadata": {},
   "outputs": [
    {
     "data": {
      "text/html": [
       "<style>#sk-container-id-1 {color: black;background-color: white;}#sk-container-id-1 pre{padding: 0;}#sk-container-id-1 div.sk-toggleable {background-color: white;}#sk-container-id-1 label.sk-toggleable__label {cursor: pointer;display: block;width: 100%;margin-bottom: 0;padding: 0.3em;box-sizing: border-box;text-align: center;}#sk-container-id-1 label.sk-toggleable__label-arrow:before {content: \"▸\";float: left;margin-right: 0.25em;color: #696969;}#sk-container-id-1 label.sk-toggleable__label-arrow:hover:before {color: black;}#sk-container-id-1 div.sk-estimator:hover label.sk-toggleable__label-arrow:before {color: black;}#sk-container-id-1 div.sk-toggleable__content {max-height: 0;max-width: 0;overflow: hidden;text-align: left;background-color: #f0f8ff;}#sk-container-id-1 div.sk-toggleable__content pre {margin: 0.2em;color: black;border-radius: 0.25em;background-color: #f0f8ff;}#sk-container-id-1 input.sk-toggleable__control:checked~div.sk-toggleable__content {max-height: 200px;max-width: 100%;overflow: auto;}#sk-container-id-1 input.sk-toggleable__control:checked~label.sk-toggleable__label-arrow:before {content: \"▾\";}#sk-container-id-1 div.sk-estimator input.sk-toggleable__control:checked~label.sk-toggleable__label {background-color: #d4ebff;}#sk-container-id-1 div.sk-label input.sk-toggleable__control:checked~label.sk-toggleable__label {background-color: #d4ebff;}#sk-container-id-1 input.sk-hidden--visually {border: 0;clip: rect(1px 1px 1px 1px);clip: rect(1px, 1px, 1px, 1px);height: 1px;margin: -1px;overflow: hidden;padding: 0;position: absolute;width: 1px;}#sk-container-id-1 div.sk-estimator {font-family: monospace;background-color: #f0f8ff;border: 1px dotted black;border-radius: 0.25em;box-sizing: border-box;margin-bottom: 0.5em;}#sk-container-id-1 div.sk-estimator:hover {background-color: #d4ebff;}#sk-container-id-1 div.sk-parallel-item::after {content: \"\";width: 100%;border-bottom: 1px solid gray;flex-grow: 1;}#sk-container-id-1 div.sk-label:hover label.sk-toggleable__label {background-color: #d4ebff;}#sk-container-id-1 div.sk-serial::before {content: \"\";position: absolute;border-left: 1px solid gray;box-sizing: border-box;top: 0;bottom: 0;left: 50%;z-index: 0;}#sk-container-id-1 div.sk-serial {display: flex;flex-direction: column;align-items: center;background-color: white;padding-right: 0.2em;padding-left: 0.2em;position: relative;}#sk-container-id-1 div.sk-item {position: relative;z-index: 1;}#sk-container-id-1 div.sk-parallel {display: flex;align-items: stretch;justify-content: center;background-color: white;position: relative;}#sk-container-id-1 div.sk-item::before, #sk-container-id-1 div.sk-parallel-item::before {content: \"\";position: absolute;border-left: 1px solid gray;box-sizing: border-box;top: 0;bottom: 0;left: 50%;z-index: -1;}#sk-container-id-1 div.sk-parallel-item {display: flex;flex-direction: column;z-index: 1;position: relative;background-color: white;}#sk-container-id-1 div.sk-parallel-item:first-child::after {align-self: flex-end;width: 50%;}#sk-container-id-1 div.sk-parallel-item:last-child::after {align-self: flex-start;width: 50%;}#sk-container-id-1 div.sk-parallel-item:only-child::after {width: 0;}#sk-container-id-1 div.sk-dashed-wrapped {border: 1px dashed gray;margin: 0 0.4em 0.5em 0.4em;box-sizing: border-box;padding-bottom: 0.4em;background-color: white;}#sk-container-id-1 div.sk-label label {font-family: monospace;font-weight: bold;display: inline-block;line-height: 1.2em;}#sk-container-id-1 div.sk-label-container {text-align: center;}#sk-container-id-1 div.sk-container {/* jupyter's `normalize.less` sets `[hidden] { display: none; }` but bootstrap.min.css set `[hidden] { display: none !important; }` so we also need the `!important` here to be able to override the default hidden behavior on the sphinx rendered scikit-learn.org. See: https://github.com/scikit-learn/scikit-learn/issues/21755 */display: inline-block !important;position: relative;}#sk-container-id-1 div.sk-text-repr-fallback {display: none;}</style><div id=\"sk-container-id-1\" class=\"sk-top-container\"><div class=\"sk-text-repr-fallback\"><pre>GridSearchCV(cv=RepeatedKFold(n_repeats=10, n_splits=10, random_state=41),\n",
       "             estimator=RandomForestClassifier(n_jobs=-1, random_state=41),\n",
       "             param_grid=[{&#x27;criterion&#x27;: [&#x27;gini&#x27;, &#x27;entropy&#x27;, &#x27;log_loss&#x27;],\n",
       "                          &#x27;max_features&#x27;: [&#x27;auto&#x27;, &#x27;sqrt&#x27;, &#x27;log2&#x27;]}],\n",
       "             scoring=&#x27;roc_auc&#x27;)</pre><b>In a Jupyter environment, please rerun this cell to show the HTML representation or trust the notebook. <br />On GitHub, the HTML representation is unable to render, please try loading this page with nbviewer.org.</b></div><div class=\"sk-container\" hidden><div class=\"sk-item sk-dashed-wrapped\"><div class=\"sk-label-container\"><div class=\"sk-label sk-toggleable\"><input class=\"sk-toggleable__control sk-hidden--visually\" id=\"sk-estimator-id-1\" type=\"checkbox\" ><label for=\"sk-estimator-id-1\" class=\"sk-toggleable__label sk-toggleable__label-arrow\">GridSearchCV</label><div class=\"sk-toggleable__content\"><pre>GridSearchCV(cv=RepeatedKFold(n_repeats=10, n_splits=10, random_state=41),\n",
       "             estimator=RandomForestClassifier(n_jobs=-1, random_state=41),\n",
       "             param_grid=[{&#x27;criterion&#x27;: [&#x27;gini&#x27;, &#x27;entropy&#x27;, &#x27;log_loss&#x27;],\n",
       "                          &#x27;max_features&#x27;: [&#x27;auto&#x27;, &#x27;sqrt&#x27;, &#x27;log2&#x27;]}],\n",
       "             scoring=&#x27;roc_auc&#x27;)</pre></div></div></div><div class=\"sk-parallel\"><div class=\"sk-parallel-item\"><div class=\"sk-item\"><div class=\"sk-label-container\"><div class=\"sk-label sk-toggleable\"><input class=\"sk-toggleable__control sk-hidden--visually\" id=\"sk-estimator-id-2\" type=\"checkbox\" ><label for=\"sk-estimator-id-2\" class=\"sk-toggleable__label sk-toggleable__label-arrow\">estimator: RandomForestClassifier</label><div class=\"sk-toggleable__content\"><pre>RandomForestClassifier(n_jobs=-1, random_state=41)</pre></div></div></div><div class=\"sk-serial\"><div class=\"sk-item\"><div class=\"sk-estimator sk-toggleable\"><input class=\"sk-toggleable__control sk-hidden--visually\" id=\"sk-estimator-id-3\" type=\"checkbox\" ><label for=\"sk-estimator-id-3\" class=\"sk-toggleable__label sk-toggleable__label-arrow\">RandomForestClassifier</label><div class=\"sk-toggleable__content\"><pre>RandomForestClassifier(n_jobs=-1, random_state=41)</pre></div></div></div></div></div></div></div></div></div></div>"
      ],
      "text/plain": [
       "GridSearchCV(cv=RepeatedKFold(n_repeats=10, n_splits=10, random_state=41),\n",
       "             estimator=RandomForestClassifier(n_jobs=-1, random_state=41),\n",
       "             param_grid=[{'criterion': ['gini', 'entropy', 'log_loss'],\n",
       "                          'max_features': ['auto', 'sqrt', 'log2']}],\n",
       "             scoring='roc_auc')"
      ]
     },
     "execution_count": 25,
     "metadata": {},
     "output_type": "execute_result"
    }
   ],
   "source": [
    "from sklearn.model_selection import GridSearchCV, RepeatedStratifiedKFold, RepeatedKFold\n",
    "from sklearn.ensemble import RandomForestClassifier\n",
    "\n",
    "#Additional hyperparameters to demonstrate gridsearch\n",
    "param_grid = [\n",
    "    {'criterion': ['gini','entropy','log_loss'],'max_features': ['auto','sqrt','log2']}\n",
    "]\n",
    "\n",
    "rf = RandomForestClassifier(n_jobs = -1, random_state=41)\n",
    "cv = RepeatedKFold(n_splits = 10, n_repeats = 10, random_state=41)\n",
    "\n",
    "#GridSearchCV scoring using ROC_AUC since this is of interest for this exercise\n",
    "search = GridSearchCV(estimator=rf, param_grid=param_grid, scoring=\"roc_auc\", cv=cv)\n",
    "#Using the normalized training set\n",
    "search.fit(x_train_scale, y_train)"
   ]
  },
  {
   "cell_type": "code",
   "execution_count": 27,
   "metadata": {},
   "outputs": [
    {
     "data": {
      "text/html": [
       "<div>\n",
       "<style scoped>\n",
       "    .dataframe tbody tr th:only-of-type {\n",
       "        vertical-align: middle;\n",
       "    }\n",
       "\n",
       "    .dataframe tbody tr th {\n",
       "        vertical-align: top;\n",
       "    }\n",
       "\n",
       "    .dataframe thead th {\n",
       "        text-align: right;\n",
       "    }\n",
       "</style>\n",
       "<table border=\"1\" class=\"dataframe\">\n",
       "  <thead>\n",
       "    <tr style=\"text-align: right;\">\n",
       "      <th></th>\n",
       "      <th>params</th>\n",
       "      <th>rank_test_score</th>\n",
       "      <th>mean_test_score</th>\n",
       "      <th>std_test_score</th>\n",
       "    </tr>\n",
       "    <tr>\n",
       "      <th>kernel</th>\n",
       "      <th></th>\n",
       "      <th></th>\n",
       "      <th></th>\n",
       "      <th></th>\n",
       "    </tr>\n",
       "  </thead>\n",
       "  <tbody>\n",
       "    <tr>\n",
       "      <th>entropy_auto</th>\n",
       "      <td>{'criterion': 'entropy', 'max_features': 'auto'}</td>\n",
       "      <td>1</td>\n",
       "      <td>0.910843</td>\n",
       "      <td>0.006263</td>\n",
       "    </tr>\n",
       "    <tr>\n",
       "      <th>entropy_sqrt</th>\n",
       "      <td>{'criterion': 'entropy', 'max_features': 'sqrt'}</td>\n",
       "      <td>1</td>\n",
       "      <td>0.910843</td>\n",
       "      <td>0.006263</td>\n",
       "    </tr>\n",
       "    <tr>\n",
       "      <th>entropy_log2</th>\n",
       "      <td>{'criterion': 'entropy', 'max_features': 'log2'}</td>\n",
       "      <td>1</td>\n",
       "      <td>0.910843</td>\n",
       "      <td>0.006263</td>\n",
       "    </tr>\n",
       "    <tr>\n",
       "      <th>log_loss_auto</th>\n",
       "      <td>{'criterion': 'log_loss', 'max_features': 'auto'}</td>\n",
       "      <td>1</td>\n",
       "      <td>0.910843</td>\n",
       "      <td>0.006263</td>\n",
       "    </tr>\n",
       "    <tr>\n",
       "      <th>log_loss_sqrt</th>\n",
       "      <td>{'criterion': 'log_loss', 'max_features': 'sqrt'}</td>\n",
       "      <td>1</td>\n",
       "      <td>0.910843</td>\n",
       "      <td>0.006263</td>\n",
       "    </tr>\n",
       "    <tr>\n",
       "      <th>log_loss_log2</th>\n",
       "      <td>{'criterion': 'log_loss', 'max_features': 'log2'}</td>\n",
       "      <td>1</td>\n",
       "      <td>0.910843</td>\n",
       "      <td>0.006263</td>\n",
       "    </tr>\n",
       "    <tr>\n",
       "      <th>gini_auto</th>\n",
       "      <td>{'criterion': 'gini', 'max_features': 'auto'}</td>\n",
       "      <td>7</td>\n",
       "      <td>0.909385</td>\n",
       "      <td>0.006692</td>\n",
       "    </tr>\n",
       "    <tr>\n",
       "      <th>gini_sqrt</th>\n",
       "      <td>{'criterion': 'gini', 'max_features': 'sqrt'}</td>\n",
       "      <td>7</td>\n",
       "      <td>0.909385</td>\n",
       "      <td>0.006692</td>\n",
       "    </tr>\n",
       "    <tr>\n",
       "      <th>gini_log2</th>\n",
       "      <td>{'criterion': 'gini', 'max_features': 'log2'}</td>\n",
       "      <td>7</td>\n",
       "      <td>0.909385</td>\n",
       "      <td>0.006692</td>\n",
       "    </tr>\n",
       "  </tbody>\n",
       "</table>\n",
       "</div>"
      ],
      "text/plain": [
       "                                                          params  \\\n",
       "kernel                                                             \n",
       "entropy_auto    {'criterion': 'entropy', 'max_features': 'auto'}   \n",
       "entropy_sqrt    {'criterion': 'entropy', 'max_features': 'sqrt'}   \n",
       "entropy_log2    {'criterion': 'entropy', 'max_features': 'log2'}   \n",
       "log_loss_auto  {'criterion': 'log_loss', 'max_features': 'auto'}   \n",
       "log_loss_sqrt  {'criterion': 'log_loss', 'max_features': 'sqrt'}   \n",
       "log_loss_log2  {'criterion': 'log_loss', 'max_features': 'log2'}   \n",
       "gini_auto          {'criterion': 'gini', 'max_features': 'auto'}   \n",
       "gini_sqrt          {'criterion': 'gini', 'max_features': 'sqrt'}   \n",
       "gini_log2          {'criterion': 'gini', 'max_features': 'log2'}   \n",
       "\n",
       "               rank_test_score  mean_test_score  std_test_score  \n",
       "kernel                                                           \n",
       "entropy_auto                 1         0.910843        0.006263  \n",
       "entropy_sqrt                 1         0.910843        0.006263  \n",
       "entropy_log2                 1         0.910843        0.006263  \n",
       "log_loss_auto                1         0.910843        0.006263  \n",
       "log_loss_sqrt                1         0.910843        0.006263  \n",
       "log_loss_log2                1         0.910843        0.006263  \n",
       "gini_auto                    7         0.909385        0.006692  \n",
       "gini_sqrt                    7         0.909385        0.006692  \n",
       "gini_log2                    7         0.909385        0.006692  "
      ]
     },
     "execution_count": 27,
     "metadata": {},
     "output_type": "execute_result"
    }
   ],
   "source": [
    "#View gridsearchCV results to find optimal hyperparameters \n",
    "results_df = pd.DataFrame(search.cv_results_)\n",
    "results_df = results_df.sort_values(by=[\"rank_test_score\"])\n",
    "results_df = results_df.set_index(\n",
    "    results_df[\"params\"].apply(lambda x: \"_\".join(str(val) for val in x.values()))\n",
    ").rename_axis(\"kernel\")\n",
    "results_df[[\"params\", \"rank_test_score\", \"mean_test_score\", \"std_test_score\"]]"
   ]
  },
  {
   "cell_type": "code",
   "execution_count": 46,
   "metadata": {},
   "outputs": [
    {
     "name": "stdout",
     "output_type": "stream",
     "text": [
      "maturity: ....... 29.31%\n",
      "cooldown: ....... 12.53%\n",
      "recent_contract:  11.81%\n",
      "age: ............ 11.71%\n",
      "job: ............ 5.21%\n",
      "poutcome: ....... 4.95%\n",
      "pdays: .......... 4.79%\n",
      "campaign: ....... 4.40%\n",
      "contact: ........ 3.23%\n",
      "housing: ........ 3.03%\n",
      "education: ...... 2.89%\n",
      "previous: ....... 2.49%\n",
      "marital: ........ 2.28%\n",
      "loan: ........... 1.17%\n",
      "default: ........ 0.18%\n"
     ]
    }
   ],
   "source": [
    "#View features by importance from optimal RF configuration\n",
    "from sklearn.ensemble import RandomForestClassifier\n",
    "\n",
    "#Create RF model using optimal hyper parameters \n",
    "rf_model = RandomForestClassifier(criterion='entropy',max_features='sqrt',n_jobs = -1, random_state=41)\n",
    "rf_model.fit(x_train_scale,y_train)\n",
    "rf_pred = rf_model.predict(x_test_scale) \n",
    "\n",
    "#Drop target column from feautre column set\n",
    "feature_cols = df_transformed.drop('y',axis=1).columns\n",
    "#Use scikitlearn feature_importances_ \n",
    "importance_list = list(zip(feature_cols,rf_model.feature_importances_))\n",
    "sorted_import_feature = sorted(importance_list, key = lambda x: x[1],reverse=True)\n",
    "#Generate ordered list of features by importance\n",
    "max_feature_len = len(max(feature_cols, key=len))\n",
    "for feature, rank in sorted_import_feature:\n",
    "    dots = max_feature_len - len(feature)\n",
    "    print(f'{feature}: {\".\"*dots} {rank*100:.2f}%')"
   ]
  },
  {
   "cell_type": "markdown",
   "metadata": {
    "tags": []
   },
   "source": [
    "##### ii. KNN"
   ]
  },
  {
   "cell_type": "code",
   "execution_count": 73,
   "metadata": {},
   "outputs": [
    {
     "name": "stdout",
     "output_type": "stream",
     "text": [
      "Evaluating 1 clusters\n",
      "Score 0.828\n",
      "Evaluating 2 clusters\n",
      "Score 0.872\n",
      "Evaluating 3 clusters\n",
      "Score 0.860\n",
      "Evaluating 4 clusters\n",
      "Score 0.879\n",
      "Evaluating 5 clusters\n",
      "Score 0.872\n"
     ]
    },
    {
     "data": {
      "text/plain": [
       "Text(0, 0.5, 'Score')"
      ]
     },
     "execution_count": 73,
     "metadata": {},
     "output_type": "execute_result"
    },
    {
     "data": {
      "image/png": "[encoded data removed]",
      "text/plain": [
       "<Figure size 600x300 with 1 Axes>"
      ]
     },
     "metadata": {},
     "output_type": "display_data"
    }
   ],
   "source": [
    "from sklearn.neighbors import KNeighborsClassifier\n",
    "#Loop through max 6 nearest neighbors to identify optimal k by \n",
    "#Scored by mean accuracy on test dataset\n",
    "scores = []\n",
    "for k in range(1, 6):\n",
    "    #Print cluser score\n",
    "    print(f'Evaluating {k} clusters')\n",
    "    knn_model = KNeighborsClassifier(n_neighbors=k, n_jobs=-1)\n",
    "    knn_model.fit(x_train_scale, y_train)\n",
    "    scores.append(knn_model.score(x_test_scale, y_test))\n",
    "    print('Score {:.3f}'.format(knn_model.score(x_test_scale, y_test)))\n",
    "    \n",
    "#View elbow plot\n",
    "plt.figure(figsize=(6,3))\n",
    "plt.plot(range(1,6),scores,color='blue', linestyle='dashed', \n",
    "         marker='o',markerfacecolor='red', markersize=10)\n",
    "plt.title('Score vs. K value')\n",
    "plt.xlabel('K')\n",
    "plt.ylabel('Score')"
   ]
  },
  {
   "cell_type": "code",
   "execution_count": 141,
   "metadata": {},
   "outputs": [],
   "source": [
    "#Get optimal k\n",
    "opt_K_S = scores.index(max(scores)) + 1\n",
    "\n",
    "#Create KNN model using optimal k from previous step\n",
    "model_knn = KNeighborsClassifier(n_neighbors=opt_K_S, n_jobs=-1)\n",
    "model_knn.fit(x_train_scale, y_train)\n",
    "knn_pred = model_knn.predict(x_test_scale)             "
   ]
  },
  {
   "cell_type": "markdown",
   "metadata": {
    "tags": []
   },
   "source": [
    "##### iii. SVM"
   ]
  },
  {
   "cell_type": "code",
   "execution_count": 71,
   "metadata": {},
   "outputs": [],
   "source": [
    "#Create SVM model default parameters. \n",
    "from sklearn.svm import SVC\n",
    "\n",
    "svm_model = SVC(kernel = 'rbf', random_state= 42, probability=True)\n",
    "svm_model.fit(x_train_scale, y_train)\n",
    "#Set prediction var\n",
    "svm_pred = svm_model.predict(x_test_scale)"
   ]
  },
  {
   "cell_type": "markdown",
   "metadata": {},
   "source": [
    "#### Performance evaluation & comparison"
   ]
  },
  {
   "cell_type": "code",
   "execution_count": 34,
   "metadata": {},
   "outputs": [],
   "source": [
    "#Performance metric functions\n",
    "from sklearn.metrics import classification_report, roc_auc_score, roc_curve"
   ]
  },
  {
   "cell_type": "code",
   "execution_count": 79,
   "metadata": {},
   "outputs": [
    {
     "name": "stdout",
     "output_type": "stream",
     "text": [
      "              precision    recall  f1-score   support\n",
      "\n",
      "         0.0       0.92      0.97      0.94      7964\n",
      "         1.0       0.61      0.36      0.45      1078\n",
      "\n",
      "    accuracy                           0.90      9042\n",
      "   macro avg       0.77      0.66      0.70      9042\n",
      "weighted avg       0.88      0.90      0.88      9042\n",
      "\n",
      "=======================================================\n",
      "RF test set performance metrics:\n",
      "Precision = 0.614 \n",
      "Recall = 0.356 \n",
      "f1 = 0.451 \n",
      "AUC ROC = 0.904\n",
      "_______________________________________________________\n",
      "RF train set performance metrics:\n",
      "Precision = 1.000 \n",
      "Recall = 1.000 \n",
      "f1 = 1.000 \n",
      "AUC ROC = 1.000\n"
     ]
    }
   ],
   "source": [
    "print(classification_report(y_test,rf_pred))\n",
    "print(\"=======================================================\")\n",
    "_rf ,precision_test_rf, recall_test_rf, f1_test_rf, accuracy_rf = PerformanceMetrics.eval_model_test(rf_model, x_test_scale, y_test)\n",
    "print(\"RF test set performance metrics:\")\n",
    "print(\"Precision = {:.3f} \\nRecall = {:.3f} \\nf1 = {:.3f} \\nAUC ROC = {:.3f}\".format(precision_test_rf, recall_test_rf, f1_test_rf, accuracy_rf))\n",
    "_rf ,precision_train_rf, recall_train_rf, f1_train_rf, accuracy_train_rf = PerformanceMetrics.eval_model_train(rf_model, x_train_scale, y_train)\n",
    "print(\"_______________________________________________________\")\n",
    "print(\"RF train set performance metrics:\")\n",
    "print(\"Precision = {:.3f} \\nRecall = {:.3f} \\nf1 = {:.3f} \\nAUC ROC = {:.3f}\".format(precision_train_rf, recall_train_rf, f1_train_rf, accuracy_train_rf))"
   ]
  },
  {
   "cell_type": "code",
   "execution_count": 78,
   "metadata": {},
   "outputs": [
    {
     "name": "stdout",
     "output_type": "stream",
     "text": [
      "              precision    recall  f1-score   support\n",
      "\n",
      "         0.0       0.89      0.98      0.93      7964\n",
      "         1.0       0.48      0.15      0.23      1078\n",
      "\n",
      "    accuracy                           0.88      9042\n",
      "   macro avg       0.69      0.56      0.58      9042\n",
      "weighted avg       0.85      0.88      0.85      9042\n",
      " \n",
      "\n",
      "=======================================================\n",
      "KNN test set performance metrics:\n",
      "Precision = 0.428 \n",
      "Recall = 0.206 \n",
      "f1 = 0.278 \n",
      "AUC ROC = 0.690\n",
      "_______________________________________________________\n",
      "KNN train set performance metrics:\n",
      "Precision = 0.701 \n",
      "Recall = 0.308 \n",
      "f1 = 0.428 \n",
      "AUC ROC = 0.916\n"
     ]
    }
   ],
   "source": [
    "print(classification_report(y_test,knn_pred), '\\n')\n",
    "print(\"=======================================================\")\n",
    "_knn , precision_test_knn, recall_test_knn, f1_test_knn, accuracy_knn = PerformanceMetrics.eval_model_test(knn_model, x_test_scale, y_test)\n",
    "print(\"KNN test set performance metrics:\")\n",
    "print(\"Precision = {:.3f} \\nRecall = {:.3f} \\nf1 = {:.3f} \\nAUC ROC = {:.3f}\".format(precision_test_knn, recall_test_knn, f1_test_knn, accuracy_knn))\n",
    "_knn , precision_train_knn, recall_train_knn, f1_train_knn, accuracy_train_knn = PerformanceMetrics.eval_model_train(knn_model, x_train_scale, y_train)\n",
    "print(\"_______________________________________________________\")\n",
    "print(\"KNN train set performance metrics:\")\n",
    "print(\"Precision = {:.3f} \\nRecall = {:.3f} \\nf1 = {:.3f} \\nAUC ROC = {:.3f}\".format(precision_train_knn, recall_train_knn, f1_train_knn, accuracy_train_knn))"
   ]
  },
  {
   "cell_type": "code",
   "execution_count": 72,
   "metadata": {},
   "outputs": [
    {
     "name": "stdout",
     "output_type": "stream",
     "text": [
      "Classification report, normalized test set:\n",
      "              precision    recall  f1-score   support\n",
      "\n",
      "         0.0       0.88      1.00      0.94      7964\n",
      "         1.0       0.60      0.00      0.01      1078\n",
      "\n",
      "    accuracy                           0.88      9042\n",
      "   macro avg       0.74      0.50      0.47      9042\n",
      "weighted avg       0.85      0.88      0.83      9042\n",
      "\n",
      "=======================================================\n",
      "SVM test set performance metrics:\n",
      "Precision = 0.333 \n",
      "Recall = 0.001 \n",
      "f1 = 0.002 \n",
      "AUC ROC = 0.622\n",
      "_______________________________________________________\n",
      "SVM train set performance metrics:\n",
      "Precision = 0.571 \n",
      "Recall = 0.002 \n",
      "f1 = 0.004 \n",
      "AUC ROC = 0.629\n"
     ]
    }
   ],
   "source": [
    "print(\"Classification report, normalized test set:\")\n",
    "print(classification_report(y_test, svm_pred))\n",
    "print(\"=======================================================\")\n",
    "_svm , precision_test_svm, recall_test_svm, f1_test_svm, accuracy_svm = PerformanceMetrics.eval_model_test(svm_model, x_test, y_test)\n",
    "print(\"SVM test set performance metrics:\")\n",
    "print(\"Precision = {:.3f} \\nRecall = {:.3f} \\nf1 = {:.3f} \\nAUC ROC = {:.3f}\".format(precision_test_svm, recall_test_svm, f1_test_svm, accuracy_svm))\n",
    "_svm , precision_train_svm, recall_train_svm, f1_train_svm, accuracy_train_svm = PerformanceMetrics.eval_model_train(svm_model, x_train, y_train)\n",
    "print(\"_______________________________________________________\")\n",
    "print(\"SVM train set performance metrics:\")\n",
    "print(\"Precision = {:.3f} \\nRecall = {:.3f} \\nf1 = {:.3f} \\nAUC ROC = {:.3f}\".format(precision_train_svm, recall_train_svm, f1_train_svm, accuracy_train_svm))"
   ]
  },
  {
   "cell_type": "code",
   "execution_count": 140,
   "metadata": {},
   "outputs": [
    {
     "name": "stdout",
     "output_type": "stream",
     "text": [
      "Random forest AUC: 0.663\n",
      "Constant AUC:  0.5\n",
      "Optimal threshold:  0.17\n"
     ]
    },
    {
     "data": {
      "image/png": "[encoded data removed]",
      "text/plain": [
       "<Figure size 640x480 with 1 Axes>"
      ]
     },
     "metadata": {},
     "output_type": "display_data"
    }
   ],
   "source": [
    "from matplotlib import pyplot\n",
    "#Generate constant range\n",
    "ns_probs = [0 for _ in range(len(y_test))]\n",
    "#Get thresholds from rf model\n",
    "thresholds_prob = rf_model.predict_proba(x_test_scale)[:,1]\n",
    "#Set roc curve\n",
    "fpr, tpr, thresholds = roc_curve(y_test, thresholds_prob)\n",
    "ns_fpr, ns_tpr, _ = roc_curve(y_test, ns_probs)\n",
    "\n",
    "#Calculate scores\n",
    "ns_auc = roc_auc_score(y_test, ns_probs)\n",
    "rf_auc = roc_auc_score(y_test, rf_pred)\n",
    "\n",
    "optimal_idx = np.argmax(tpr - fpr)\n",
    "optimal_threshold = thresholds[optimal_idx]\n",
    "pyplot.plot(fpr, tpr, marker='.', label='Random forest')\n",
    "pyplot.plot(ns_fpr, ns_tpr, linestyle='--', label='Constant')\n",
    "\n",
    "print('Random forest AUC: {:.3f}'.format(rf_auc))\n",
    "print('Constant AUC: ', ns_auc)\n",
    "print('Optimal threshold: ', optimal_threshold)\n",
    "\n",
    "#Axis labels\n",
    "pyplot.xlabel('False Positive Rate')\n",
    "pyplot.ylabel('True Positive Rate')\n",
    "#Show the legend\n",
    "pyplot.legend()\n",
    "#Show the plot\n",
    "pyplot.show()"
   ]
  },
  {
   "cell_type": "markdown",
   "metadata": {},
   "source": [
    "##### Analysis of results"
   ]
  },
  {
   "cell_type": "markdown",
   "metadata": {},
   "source": [
    "###### This analysis demonstrates model performance evaluation using various data science concepts and originates from marketing campaigns of a Portuguese banking institution. The models created were Random Forest, K- Nearest Neighbor, and Support Vector Machine. Data preparation included converting the categorical values to numeric and feature reduction to eliminate multicollinearity. Both standardized and normalized train and test sets were created and trained. \n",
    "###### The results of the test sets showed bias to the training sets. For example, for the KNN model, the test set AUC ROC is 0.69 while the train set AUC ROC is 0.91. The same results are seen in the other models, with the Random Forest having the highest AUC ROC of 1, which may have resulted from over-cross-validating the training set since that high value is not seen in other model evaluations. The random forest model ultimately showed this analysis's best test set performance. The threshold that was found to be optimal was 0.17,  taking the true positives and subtracting the false positives. For the case of the marketing data, the intention would be the retain customers - false positives would be highly discouraged. Because the data is imbalanced, the model does not perform optimally with new data, so further efforts should be explored, including alternative cross-validation methods and model optimization.\n"
   ]
  },
  {
   "cell_type": "code",
   "execution_count": null,
   "metadata": {},
   "outputs": [],
   "source": []
  }
 ],
 "metadata": {
  "kernelspec": {
   "display_name": "class",
   "language": "python",
   "name": "class"
  },
  "language_info": {
   "codemirror_mode": {
    "name": "ipython",
    "version": 3
   },
   "file_extension": ".py",
   "mimetype": "text/x-python",
   "name": "python",
   "nbconvert_exporter": "python",
   "pygments_lexer": "ipython3",
   "version": "3.10.4"
  }
 },
 "nbformat": 4,
 "nbformat_minor": 4
}
