{
 "cells": [
  {
   "cell_type": "markdown",
   "metadata": {},
   "source": [
    "- Joel Konitzer\n",
    "- 4/2/2022\n",
    "- Week 4 / Hypothesis Testing\n",
    "- Data Analytics"
   ]
  },
  {
   "cell_type": "markdown",
   "metadata": {},
   "source": [
    "I. Introduction:\n",
    "The purpose of this analysis was to demonstrate hypothesis testing using toothgrowth.csv dataset. The data is divided into two supplement categories and three dose categories. The aim was to assess if tooth growth differed between supplement groups and what supplement was associated with greater tooth length. Before hypothesis testing, the dataset quality was assessed using graphical and statistical tests to ensure adequate results."
   ]
  },
  {
   "cell_type": "markdown",
   "metadata": {},
   "source": [
    "*II. Methods & Code **III. Results/Output ***IV. Analysis of Results"
   ]
  },
  {
   "cell_type": "code",
   "execution_count": 40,
   "metadata": {},
   "outputs": [],
   "source": [
    "# some of the common imports that we will need\n",
    "import matplotlib.pyplot as plt\n",
    "import numpy as np\n",
    "import seaborn as sns\n",
    "from scipy import stats\n",
    "import pandas as pd\n",
    "\n",
    "%matplotlib inline\n",
    "sns.set()  "
   ]
  },
  {
   "cell_type": "code",
   "execution_count": 32,
   "metadata": {},
   "outputs": [],
   "source": [
    "df = pd.read_csv('ToothGrowth.csv').drop('Unnamed: 0', axis=1)"
   ]
  },
  {
   "cell_type": "code",
   "execution_count": 33,
   "metadata": {},
   "outputs": [
    {
     "data": {
      "text/html": [
       "<div>\n",
       "<style scoped>\n",
       "    .dataframe tbody tr th:only-of-type {\n",
       "        vertical-align: middle;\n",
       "    }\n",
       "\n",
       "    .dataframe tbody tr th {\n",
       "        vertical-align: top;\n",
       "    }\n",
       "\n",
       "    .dataframe thead th {\n",
       "        text-align: right;\n",
       "    }\n",
       "</style>\n",
       "<table border=\"1\" class=\"dataframe\">\n",
       "  <thead>\n",
       "    <tr style=\"text-align: right;\">\n",
       "      <th></th>\n",
       "      <th>len</th>\n",
       "      <th>supp</th>\n",
       "      <th>dose</th>\n",
       "    </tr>\n",
       "  </thead>\n",
       "  <tbody>\n",
       "    <tr>\n",
       "      <th>0</th>\n",
       "      <td>4.2</td>\n",
       "      <td>VC</td>\n",
       "      <td>0.5</td>\n",
       "    </tr>\n",
       "    <tr>\n",
       "      <th>1</th>\n",
       "      <td>11.5</td>\n",
       "      <td>VC</td>\n",
       "      <td>0.5</td>\n",
       "    </tr>\n",
       "    <tr>\n",
       "      <th>2</th>\n",
       "      <td>7.3</td>\n",
       "      <td>VC</td>\n",
       "      <td>0.5</td>\n",
       "    </tr>\n",
       "    <tr>\n",
       "      <th>3</th>\n",
       "      <td>5.8</td>\n",
       "      <td>VC</td>\n",
       "      <td>0.5</td>\n",
       "    </tr>\n",
       "    <tr>\n",
       "      <th>4</th>\n",
       "      <td>6.4</td>\n",
       "      <td>VC</td>\n",
       "      <td>0.5</td>\n",
       "    </tr>\n",
       "  </tbody>\n",
       "</table>\n",
       "</div>"
      ],
      "text/plain": [
       "    len supp  dose\n",
       "0   4.2   VC   0.5\n",
       "1  11.5   VC   0.5\n",
       "2   7.3   VC   0.5\n",
       "3   5.8   VC   0.5\n",
       "4   6.4   VC   0.5"
      ]
     },
     "execution_count": 33,
     "metadata": {},
     "output_type": "execute_result"
    }
   ],
   "source": [
    "#Preview dataset\n",
    "df.head()"
   ]
  },
  {
   "cell_type": "code",
   "execution_count": 34,
   "metadata": {},
   "outputs": [
    {
     "name": "stdout",
     "output_type": "stream",
     "text": [
      "===========================================================================================================\n",
      "Number of rows: 60\n",
      "Shape: (60, 3)\n",
      "===========================================================================================================\n",
      "Column quality:\n",
      "       Null     type\n",
      "len   False  float64\n",
      "supp  False   object\n",
      "dose  False  float64\n",
      "===========================================================================================================\n",
      "Dataset summary statistics:\n"
     ]
    },
    {
     "data": {
      "text/html": [
       "<div>\n",
       "<style scoped>\n",
       "    .dataframe tbody tr th:only-of-type {\n",
       "        vertical-align: middle;\n",
       "    }\n",
       "\n",
       "    .dataframe tbody tr th {\n",
       "        vertical-align: top;\n",
       "    }\n",
       "\n",
       "    .dataframe thead th {\n",
       "        text-align: right;\n",
       "    }\n",
       "</style>\n",
       "<table border=\"1\" class=\"dataframe\">\n",
       "  <thead>\n",
       "    <tr style=\"text-align: right;\">\n",
       "      <th></th>\n",
       "      <th>count</th>\n",
       "      <th>mean</th>\n",
       "      <th>std</th>\n",
       "      <th>min</th>\n",
       "      <th>25%</th>\n",
       "      <th>50%</th>\n",
       "      <th>75%</th>\n",
       "      <th>max</th>\n",
       "    </tr>\n",
       "  </thead>\n",
       "  <tbody>\n",
       "    <tr>\n",
       "      <th>len</th>\n",
       "      <td>60.0</td>\n",
       "      <td>18.813333</td>\n",
       "      <td>7.649315</td>\n",
       "      <td>4.2</td>\n",
       "      <td>13.075</td>\n",
       "      <td>19.25</td>\n",
       "      <td>25.275</td>\n",
       "      <td>33.9</td>\n",
       "    </tr>\n",
       "    <tr>\n",
       "      <th>dose</th>\n",
       "      <td>60.0</td>\n",
       "      <td>1.166667</td>\n",
       "      <td>0.628872</td>\n",
       "      <td>0.5</td>\n",
       "      <td>0.500</td>\n",
       "      <td>1.00</td>\n",
       "      <td>2.000</td>\n",
       "      <td>2.0</td>\n",
       "    </tr>\n",
       "  </tbody>\n",
       "</table>\n",
       "</div>"
      ],
      "text/plain": [
       "      count       mean       std  min     25%    50%     75%   max\n",
       "len    60.0  18.813333  7.649315  4.2  13.075  19.25  25.275  33.9\n",
       "dose   60.0   1.166667  0.628872  0.5   0.500   1.00   2.000   2.0"
      ]
     },
     "execution_count": 34,
     "metadata": {},
     "output_type": "execute_result"
    }
   ],
   "source": [
    "#Create two value pairs from df to identify the datatypes and null values\n",
    "def info(df):\n",
    "    null_ = df.isna().any()\n",
    "    dtypes = df.dtypes\n",
    "    info = pd.concat([null_,dtypes], axis=1,keys=['Null','type'])\n",
    "    print(info)\n",
    "\n",
    "#Use len() function to view total df row count and shape to view row and column count\n",
    "print(\"===========================================================================================================\")\n",
    "print(\"Number of rows:\", len(df))\n",
    "print(\"Shape:\", df.shape)\n",
    "print(\"===========================================================================================================\")\n",
    "print(\"Column quality:\")\n",
    "info(df)\n",
    "print(\"===========================================================================================================\")\n",
    "print(\"Dataset summary statistics:\")\n",
    "df.describe().T"
   ]
  },
  {
   "cell_type": "markdown",
   "metadata": {},
   "source": [
    "1. Graphically describe the dataset. "
   ]
  },
  {
   "cell_type": "code",
   "execution_count": 35,
   "metadata": {},
   "outputs": [],
   "source": [
    "#Create separate dataframes for each delivery mehtod\n",
    "sample_oj = df[df['supp'] == 'OJ'].copy()\n",
    "sample_vc = df[df['supp'] == 'VC'].copy()"
   ]
  },
  {
   "cell_type": "code",
   "execution_count": 36,
   "metadata": {},
   "outputs": [
    {
     "data": {
      "text/plain": [
       "[Text(0.5, 1.0, 'VC supplement test group')]"
      ]
     },
     "execution_count": 36,
     "metadata": {},
     "output_type": "execute_result"
    },
    {
     "data": {
      "image/png": "[encoded data removed]",
      "text/plain": [
       "<Figure size 1080x360 with 3 Axes>"
      ]
     },
     "metadata": {},
     "output_type": "display_data"
    }
   ],
   "source": [
    "#Box plot to view outliers\n",
    "fig, axes = plt.subplots(1, 3, figsize=(15, 5))\n",
    "# histogram plot - the kde argument add\n",
    "sns.histplot(ax=axes[0], x=df.len, kde=True).set(title='Full dataset')\n",
    "sns.histplot(ax=axes[1], x=sample_oj.len, kde=True).set(title='OJ supplement test group')\n",
    "sns.histplot(ax=axes[2], x=sample_vc.len, kde=True).set(title='VC supplement test group')"
   ]
  },
  {
   "cell_type": "markdown",
   "metadata": {},
   "source": [
    "The three histograms above display separate views of our original dataset and for each plot the y-axis represents the count of recorded tooth lengths seen on the x-axis. The leftmost plot represents the entire dataset, and the middle plot represents the OJ supplement test group; both are skewed slightly left. The rightmost plot then represents the VC supplement test group and is skewed slightly right."
   ]
  },
  {
   "cell_type": "code",
   "execution_count": 37,
   "metadata": {},
   "outputs": [
    {
     "data": {
      "image/png": "[encoded data removed]",
      "text/plain": [
       "<Figure size 1080x576 with 2 Axes>"
      ]
     },
     "metadata": {},
     "output_type": "display_data"
    }
   ],
   "source": [
    "#Box plot to view outliers\n",
    "fig, axes = plt.subplots(1, 2, figsize=(15, 8))\n",
    "sns.boxplot(ax=axes[0], data=df, x=df['supp'], y = df.len, hue = 'supp').set(title='Variance by supplement')\n",
    "sns.boxplot(ax=axes[1], data=df, x=df['dose'], y = df.len, hue = 'supp').set(title='Variance by supplement and dose')\n",
    "plt.show()"
   ]
  },
  {
   "cell_type": "markdown",
   "metadata": {},
   "source": [
    "The histograms above show us the variance of lengths across our dataset. The left plot represents the overall variance of length values for each supplement group and we see that there is appears to be more variance with the VC group. The right plot shows the variance for each dose & supplement group and implies that with increasing dose volume results in increaed length and reduced variance."
   ]
  },
  {
   "cell_type": "markdown",
   "metadata": {},
   "source": [
    "2. Check of data normality, using both methods "
   ]
  },
  {
   "cell_type": "code",
   "execution_count": 41,
   "metadata": {},
   "outputs": [
    {
     "data": {
      "image/png": "[encoded data removed]",
      "text/plain": [
       "<Figure size 432x288 with 1 Axes>"
      ]
     },
     "metadata": {},
     "output_type": "display_data"
    }
   ],
   "source": [
    "#Graphically checking normality using probplot\n",
    "stats.probplot(df.len, plot=plt)\n",
    "plt.show()"
   ]
  },
  {
   "cell_type": "markdown",
   "metadata": {},
   "source": [
    "Checking the data normality shows that it follows a more uniform distribution rather than the normal distribution that we would hope to see.  "
   ]
  },
  {
   "cell_type": "code",
   "execution_count": 42,
   "metadata": {},
   "outputs": [
    {
     "name": "stdout",
     "output_type": "stream",
     "text": [
      "Statistics=0.967, p=0.109\n",
      "Sample looks normally distributed\n"
     ]
    }
   ],
   "source": [
    "#Using the Shapiro-Wilk Test to statistically check for normality\n",
    "from scipy.stats import shapiro\n",
    "\n",
    "# normality test\n",
    "stat, p = shapiro(df.len)\n",
    "print('Statistics=%.3f, p=%.3f' % (stat, p))\n",
    "\n",
    "# interpret\n",
    "alpha = 0.05\n",
    "if p > alpha:\n",
    "    print('Sample looks normally distributed')\n",
    "else:\n",
    "    print('Sample does not look normally distributed')"
   ]
  },
  {
   "cell_type": "markdown",
   "metadata": {},
   "source": [
    "Using the Shapiro-Wilk test to statistically check for normality tells us that our dataset does follow a normal distribution."
   ]
  },
  {
   "cell_type": "markdown",
   "metadata": {},
   "source": [
    "3. Defined a null and alternative hypothesis (Ho and Ha) for the dataset"
   ]
  },
  {
   "cell_type": "markdown",
   "metadata": {},
   "source": [
    "Consuming Vitamin C from a natural source such as fruit promotes tooth growth more than consuming its raw form.\n",
    "- H0: mean difference between OJ & VC is 0\n",
    "- H1: mean difference between OJ & VC is not 0"
   ]
  },
  {
   "cell_type": "markdown",
   "metadata": {},
   "source": [
    "4. Hypothesis testing"
   ]
  },
  {
   "cell_type": "code",
   "execution_count": 43,
   "metadata": {},
   "outputs": [
    {
     "name": "stdout",
     "output_type": "stream",
     "text": [
      "p-value: 0.0025498424133060605\n",
      "Reject null hypothesis\n"
     ]
    }
   ],
   "source": [
    "import statsmodels.api as sm\n",
    "import numpy as np\n",
    "import matplotlib.pyplot as plt\n",
    "\n",
    "#paired t-test\n",
    "ttest,pval = stats.ttest_rel(sample_vc.len, sample_oj.len)\n",
    "print(f'p-value: {pval}')\n",
    "\n",
    "# eval p-value\n",
    "if pval < 0.05:    # alpha value is 0.05 or 5%\n",
    "   print('Reject null hypothesis')\n",
    "else:\n",
    "  print('Accept null hypothesis')"
   ]
  },
  {
   "cell_type": "markdown",
   "metadata": {},
   "source": [
    "The initial hypothesis aimed to determine if there was a significant mean difference in tooth length between supplement groups. To do this, we used the paired sample T-test because it allows us to compare the mean of each group and is recommended for smaller datasets over the two sample z-test recommended for larger datasets.  \n",
    "The findings from the hypothesis show a very small p-value of 0.0025 or 0.03%"
   ]
  },
  {
   "cell_type": "markdown",
   "metadata": {},
   "source": [
    "5. Conclusion based on your analysis"
   ]
  },
  {
   "cell_type": "markdown",
   "metadata": {},
   "source": [
    "The test shows that we can reject our null hypothesis because we obtained a very small p-value. The p-value obtained is smaller than our set level of significance (alpha) of 5%, which means that the likelihood of us observing an extreme value is higher than it occurring by chance. "
   ]
  },
  {
   "cell_type": "markdown",
   "metadata": {},
   "source": [
    "6. Refine your initial hypothesis and repeat steps 3 through 5"
   ]
  },
  {
   "cell_type": "markdown",
   "metadata": {},
   "source": [
    "Orange juice supplement has a lesser effect on tooth length than ascorbic acid supplement \n",
    "- H0: OJ <= VC\n",
    "- H1: OJ > VC"
   ]
  },
  {
   "cell_type": "code",
   "execution_count": 46,
   "metadata": {},
   "outputs": [
    {
     "name": "stdout",
     "output_type": "stream",
     "text": [
      "p-value: 0.0012749212066530302\n",
      "Reject null hypothesis\n"
     ]
    }
   ],
   "source": [
    "#paired t-test\n",
    "ttest,pval = stats.ttest_rel(sample_oj.len, sample_vc.len, alternative='greater')\n",
    "print(f'p-value: {pval}')\n",
    "\n",
    "# eval p-value\n",
    "if pval < 0.05:    # alpha value is 0.05 or 5%\n",
    "   print('Reject null hypothesis')\n",
    "else:\n",
    "  print('Accept null hypothesis')"
   ]
  },
  {
   "cell_type": "markdown",
   "metadata": {},
   "source": [
    "Diving deeper into our analysis, the following hypothesis test aimed to find if the observed tooth length was lower in the OJ test group than in the VC test group. The results show a p-value of 0.0012 or 0.01% greater than our defined alpha of 5%. This suggests that the null hypothesis can be rejected; the observed tooth length in the OJ test group is greater than that of the VC group."
   ]
  },
  {
   "cell_type": "markdown",
   "metadata": {},
   "source": [
    "V. Conclusion This analysis demonstrated the power of using statistical concepts to explain and validate data observations and assumptions. The frequency distribution and probability plot visuals show that our dataset conforms to a more uniform distribution than a normal distribution, and the boxplot visuals further support that. The boxplot visuals show the dataset has high variance and contains multiple outliers, which is characteristic of datasets that follow a more uniform distribution. However, graphical representations only give us clues about what may be, so it's important to quantify. The statistical test of normality showed that our dataset does follow a normal distribution despite our dataset appearing to follow a uniform distribution. \n",
    "The hypothesis test I employed aimed to determine if each supplement group's mean sample size was different. The results showed a difference between supplement groups, which led me to construct the following hypothesis to determine what supplement group was responsible for increased tooth length. The results supported that OJ is a better supplement to promote tooth length than VC; the p-value was exceptionally small, 0.0012, compared to our alpha of 0.05.  \n",
    "Future studies should use control data to determine if these supplements are causing any deleterious effects on tooth health. \n"
   ]
  },
  {
   "cell_type": "markdown",
   "metadata": {},
   "source": [
    "VI. Sources\n",
    "- Korstanje, J. (2020, February 17). 6 ways to test for a normal distribution - which one to use? Medium. Retrieved April 3, 2022, from https://towardsdatascience.com/6-ways-to-test-for-a-normal-distribution-which-one-to-use-9dcf47d8fa93 \n",
    "- Menon, P. (2017, August 5). Data Science Simplified Part 3: Hypothesis testing. Medium. Retrieved April 3, 2022, from https://towardsdatascience.com/data-science-simplified-hypothesis-testing-56e180ef2f71 \n",
    "- Sarkar, T. (2021, August 19). Demystifying hypothesis testing with simple python examples. Medium. Retrieved April 3, 2022, from https://towardsdatascience.com/demystifying-hypothesis-testing-with-simple-python-examples-4997ad3c5294 \n",
    "- Seaborn.catplot¶. seaborn.catplot - seaborn 0.11.2 documentation. (n.d.). Retrieved April 3, 2022, from https://seaborn.pydata.org/generated/seaborn.catplot.html?highlight=title "
   ]
  }
 ],
 "metadata": {
  "kernelspec": {
   "display_name": "General Data Science",
   "language": "python",
   "name": "ds600"
  },
  "language_info": {
   "codemirror_mode": {
    "name": "ipython",
    "version": 3
   },
   "file_extension": ".py",
   "mimetype": "text/x-python",
   "name": "python",
   "nbconvert_exporter": "python",
   "pygments_lexer": "ipython3",
   "version": "3.8.12"
  }
 },
 "nbformat": 4,
 "nbformat_minor": 4
}
