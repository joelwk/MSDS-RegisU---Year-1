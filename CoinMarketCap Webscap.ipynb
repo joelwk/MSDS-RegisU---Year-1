{
 "cells": [
  {
   "cell_type": "code",
   "execution_count": 6,
   "id": "ff6e622f-4a0f-47c0-a87e-78e01dbc500a",
   "metadata": {},
   "outputs": [],
   "source": [
    "from bs4 import BeautifulSoup as soup\n",
    "import requests\n",
    "import pandas as pd"
   ]
  },
  {
   "cell_type": "code",
   "execution_count": 7,
   "id": "d0891f65-cd3a-4022-8902-35c3fec5885d",
   "metadata": {},
   "outputs": [],
   "source": [
    "#Inital request\n",
    "url = 'https://coinmarketcap.com'\n",
    "res = requests.get(url)\n",
    "soup = soup(res.content, 'html.parser')"
   ]
  },
  {
   "cell_type": "code",
   "execution_count": 20,
   "id": "d3756d97-026f-4d6f-b860-06bf759116c6",
   "metadata": {},
   "outputs": [
    {
     "data": {
      "text/html": [
       "<div>\n",
       "<style scoped>\n",
       "    .dataframe tbody tr th:only-of-type {\n",
       "        vertical-align: middle;\n",
       "    }\n",
       "\n",
       "    .dataframe tbody tr th {\n",
       "        vertical-align: top;\n",
       "    }\n",
       "\n",
       "    .dataframe thead th {\n",
       "        text-align: right;\n",
       "    }\n",
       "</style>\n",
       "<table border=\"1\" class=\"dataframe\">\n",
       "  <thead>\n",
       "    <tr style=\"text-align: right;\">\n",
       "      <th></th>\n",
       "      <th>Price</th>\n",
       "    </tr>\n",
       "  </thead>\n",
       "  <tbody>\n",
       "    <tr>\n",
       "      <th>Bitcoin</th>\n",
       "      <td>$38,347.15</td>\n",
       "    </tr>\n",
       "    <tr>\n",
       "      <th>Ethereum</th>\n",
       "      <td>$2,640.05</td>\n",
       "    </tr>\n",
       "    <tr>\n",
       "      <th>Tether</th>\n",
       "      <td>$1.00</td>\n",
       "    </tr>\n",
       "    <tr>\n",
       "      <th>BNB</th>\n",
       "      <td>$382.07</td>\n",
       "    </tr>\n",
       "    <tr>\n",
       "      <th>USD Coin</th>\n",
       "      <td>$1.00</td>\n",
       "    </tr>\n",
       "    <tr>\n",
       "      <th>XRP</th>\n",
       "      <td>$0.7913</td>\n",
       "    </tr>\n",
       "    <tr>\n",
       "      <th>Cardano</th>\n",
       "      <td>$0.9418</td>\n",
       "    </tr>\n",
       "    <tr>\n",
       "      <th>Solana</th>\n",
       "      <td>$89.28</td>\n",
       "    </tr>\n",
       "    <tr>\n",
       "      <th>Avalanche</th>\n",
       "      <td>$79.65</td>\n",
       "    </tr>\n",
       "    <tr>\n",
       "      <th>Terra</th>\n",
       "      <td>$49.27</td>\n",
       "    </tr>\n",
       "  </tbody>\n",
       "</table>\n",
       "</div>"
      ],
      "text/plain": [
       "                Price\n",
       "Bitcoin    $38,347.15\n",
       "Ethereum    $2,640.05\n",
       "Tether          $1.00\n",
       "BNB           $382.07\n",
       "USD Coin        $1.00\n",
       "XRP           $0.7913\n",
       "Cardano       $0.9418\n",
       "Solana         $89.28\n",
       "Avalanche      $79.65\n",
       "Terra          $49.27"
      ]
     },
     "execution_count": 20,
     "metadata": {},
     "output_type": "execute_result"
    }
   ],
   "source": [
    "#Gather Asset names and prices \n",
    "asset_name = soup.find_all(\"div\", {\"class\":\"sc-16r8icm-0 escjiH\"})\n",
    "asset_price = soup.find_all(\"div\", {\"class\":\"sc-131di3y-0 cLgOOr\"})\n",
    "\n",
    "#Set inital conditions\n",
    "cnt = 0\n",
    "price_list = []\n",
    "asset_list = []\n",
    "df_list = []\n",
    "top10 = {}\n",
    "\n",
    "#Gather asset names\n",
    "# - I was only able to grab the first 10. I'm not sure if there is a security measure in place that prevents more than 10 returning but I didnt want to risk falling down a rabithole trying to figure that out.\n",
    "for asset in asset_name:\n",
    "    asset_list.append(asset.find('p', {'class': 'sc-1eb5slv-0 iworPT'}).text)\n",
    "    top10['Asset'] = asset_list\n",
    "    df_list.append(top10)\n",
    "    \n",
    "    #Retreving the associated price of the asset. \n",
    "    # - Prices for the entire page came back. So, this tells me the issue above does have to do only with asset names. I made this iteration dependent on the total count of  asset names gathered.\n",
    "    for price in asset_price:\n",
    "        if cnt != len(asset_name):\n",
    "            try:\n",
    "                price_list.append(price.find('a', {'class': 'cmc-link'}).text)\n",
    "                cnt +=1\n",
    "                top10['Price'] = price_list\n",
    "                df_list.append(top10)\n",
    "            except:\n",
    "                AttributeError\n",
    "                continue\n",
    "                \n",
    "#Pass both lists to a dictionary\n",
    "res = {}\n",
    "for key in asset_list:\n",
    "    for value in price_list:\n",
    "        res[key] = value\n",
    "        price_list.remove(value)\n",
    "        break\n",
    "        \n",
    "#Save to df\n",
    "df = pd.DataFrame.from_dict(res, orient ='index').rename(columns = {0:'Price'})\n",
    "df"
   ]
  },
  {
   "cell_type": "code",
   "execution_count": null,
   "id": "2d17c326-ceb3-4963-94ed-060218524023",
   "metadata": {},
   "outputs": [],
   "source": [
    "df['Price'] = df['Price'].str.replace(',', '')\n",
    "df['Price'] = df['Price'].str.replace('$', '')\n",
    "df['Price'] = df.Price.astype('float')"
   ]
  },
  {
   "cell_type": "code",
   "execution_count": 30,
   "id": "0785a697-bb3f-4a4e-ada7-cb91184d395c",
   "metadata": {},
   "outputs": [
    {
     "data": {
      "text/plain": [
       "<AxesSubplot:>"
      ]
     },
     "execution_count": 30,
     "metadata": {},
     "output_type": "execute_result"
    },
    {
     "data": {
      "image/png": "[encoded data removed]",
      "text/plain": [
       "<Figure size 432x288 with 1 Axes>"
      ]
     },
     "metadata": {
      "needs_background": "light"
     },
     "output_type": "display_data"
    }
   ],
   "source": [
    "df.plot.bar()"
   ]
  },
  {
   "cell_type": "code",
   "execution_count": null,
   "id": "a12215cb-652a-4ee2-91c1-b33cead7445f",
   "metadata": {},
   "outputs": [],
   "source": []
  }
 ],
 "metadata": {
  "kernelspec": {
   "display_name": "Data Harvest",
   "language": "python",
   "name": "harvest_api"
  },
  "language_info": {
   "codemirror_mode": {
    "name": "ipython",
    "version": 3
   },
   "file_extension": ".py",
   "mimetype": "text/x-python",
   "name": "python",
   "nbconvert_exporter": "python",
   "pygments_lexer": "ipython3",
   "version": "3.10.2"
  }
 },
 "nbformat": 4,
 "nbformat_minor": 5
}
