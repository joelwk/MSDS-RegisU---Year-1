{
 "cells": [
  {
   "cell_type": "markdown",
   "id": "ca51c4c7",
   "metadata": {},
   "source": [
    "# Assignment:"
   ]
  },
  {
   "cell_type": "markdown",
   "id": "b77e1ef2",
   "metadata": {},
   "source": [
    "1. Perform some movie recommendations and analysis for user 2:\n",
    "- How many movies has this user watched?\n",
    "- Plot a bar chart of their movie ratings. The bar chart should be the counts of the number of unique ratings.\n",
    "    - Hint: the `sort_index()` function from pandas might be helpful to make the bar plot look nicer.\n",
    "- What are some of user 2's top movies?\n",
    "    - Hint: to get the actual movie titles, you can use pandas [merge](https://pandas.pydata.org/docs/reference/api/pandas.DataFrame.merge.html) function, although using the movie IDs is OK too.\n",
    "- Find the most similar user in the movielens dataset to user 2 using at least 2 distance metrics. Be sure to use cosine distance as one of your choices.\n",
    "- Recommend a few movies for user 2 using similarity metrics.\n",
    "- Do the recommendations from this method make sense?\n",
    "- Write a short analysis of the results, and justify which similarity metric(s) you used.\n",
    "\n",
    "Optional challenges:\n",
    "- Perform other analyses (e.g. EDA, visualizations) of the movies watched from this dataset, or from a bigger part of the dataset for the movielens dataset: https://grouplens.org/datasets/movielens/\n",
    "- Add yourself as a user in the data with ratings for movies you've watched, and find recommendations for next movies to watch. \n",
    "- Use a more advanced collaborative or content-based recommender to make recommendations (e.g. using the surprise package in Python)\n",
    "    - Try making predictions for user 2. How do they compare with our basic model?\n",
    "    - Add your own movie ratings, or use another recommender dataset and add your own preferences, then get recommendations for yourself"
   ]
  },
  {
   "cell_type": "code",
   "execution_count": 220,
   "id": "08fabf6f",
   "metadata": {},
   "outputs": [],
   "source": [
    "import pandas as pd\n",
    "import numpy as np\n",
    "import matplotlib.pyplot as plt\n",
    "from scipy.spatial.distance import euclidean, cosine"
   ]
  },
  {
   "cell_type": "code",
   "execution_count": 221,
   "id": "ff6e82a2-686b-4d76-b172-3b6dc9fcfd07",
   "metadata": {},
   "outputs": [],
   "source": [
    "ratings = pd.read_csv(r'C:\\Users\\jwkon\\Desktop\\School\\MSDS600 - Introduction to Data Science\\Week 6\\Data\\ratings.csv')\n",
    "movies = pd.read_csv(r'C:\\Users\\jwkon\\Desktop\\School\\MSDS600 - Introduction to Data Science\\Week 6\\Data\\movies.csv')"
   ]
  },
  {
   "cell_type": "code",
   "execution_count": 222,
   "id": "00d55424-8543-4453-8385-78caed80b63d",
   "metadata": {},
   "outputs": [
    {
     "data": {
      "text/html": [
       "<div>\n",
       "<style scoped>\n",
       "    .dataframe tbody tr th:only-of-type {\n",
       "        vertical-align: middle;\n",
       "    }\n",
       "\n",
       "    .dataframe tbody tr th {\n",
       "        vertical-align: top;\n",
       "    }\n",
       "\n",
       "    .dataframe thead th {\n",
       "        text-align: right;\n",
       "    }\n",
       "</style>\n",
       "<table border=\"1\" class=\"dataframe\">\n",
       "  <thead>\n",
       "    <tr style=\"text-align: right;\">\n",
       "      <th></th>\n",
       "      <th>movieId</th>\n",
       "      <th>title</th>\n",
       "      <th>genres</th>\n",
       "    </tr>\n",
       "  </thead>\n",
       "  <tbody>\n",
       "    <tr>\n",
       "      <th>0</th>\n",
       "      <td>1</td>\n",
       "      <td>Toy Story (1995)</td>\n",
       "      <td>Adventure|Animation|Children|Comedy|Fantasy</td>\n",
       "    </tr>\n",
       "    <tr>\n",
       "      <th>1</th>\n",
       "      <td>2</td>\n",
       "      <td>Jumanji (1995)</td>\n",
       "      <td>Adventure|Children|Fantasy</td>\n",
       "    </tr>\n",
       "    <tr>\n",
       "      <th>2</th>\n",
       "      <td>3</td>\n",
       "      <td>Grumpier Old Men (1995)</td>\n",
       "      <td>Comedy|Romance</td>\n",
       "    </tr>\n",
       "    <tr>\n",
       "      <th>3</th>\n",
       "      <td>4</td>\n",
       "      <td>Waiting to Exhale (1995)</td>\n",
       "      <td>Comedy|Drama|Romance</td>\n",
       "    </tr>\n",
       "    <tr>\n",
       "      <th>4</th>\n",
       "      <td>5</td>\n",
       "      <td>Father of the Bride Part II (1995)</td>\n",
       "      <td>Comedy</td>\n",
       "    </tr>\n",
       "  </tbody>\n",
       "</table>\n",
       "</div>"
      ],
      "text/plain": [
       "   movieId                               title  \\\n",
       "0        1                    Toy Story (1995)   \n",
       "1        2                      Jumanji (1995)   \n",
       "2        3             Grumpier Old Men (1995)   \n",
       "3        4            Waiting to Exhale (1995)   \n",
       "4        5  Father of the Bride Part II (1995)   \n",
       "\n",
       "                                        genres  \n",
       "0  Adventure|Animation|Children|Comedy|Fantasy  \n",
       "1                   Adventure|Children|Fantasy  \n",
       "2                               Comedy|Romance  \n",
       "3                         Comedy|Drama|Romance  \n",
       "4                                       Comedy  "
      ]
     },
     "execution_count": 222,
     "metadata": {},
     "output_type": "execute_result"
    }
   ],
   "source": [
    "movies.head()"
   ]
  },
  {
   "cell_type": "code",
   "execution_count": 194,
   "id": "78802242-098d-472f-a667-2587a19b5085",
   "metadata": {},
   "outputs": [],
   "source": [
    "user2 = ratings[ratings['userId'] == 2]\n",
    "user2 = user2.set_index('movieId')"
   ]
  },
  {
   "cell_type": "code",
   "execution_count": 195,
   "id": "3f5a2b79-347a-43d1-b10f-296addb5ed79",
   "metadata": {},
   "outputs": [
    {
     "data": {
      "text/html": [
       "<div>\n",
       "<style scoped>\n",
       "    .dataframe tbody tr th:only-of-type {\n",
       "        vertical-align: middle;\n",
       "    }\n",
       "\n",
       "    .dataframe tbody tr th {\n",
       "        vertical-align: top;\n",
       "    }\n",
       "\n",
       "    .dataframe thead th {\n",
       "        text-align: right;\n",
       "    }\n",
       "</style>\n",
       "<table border=\"1\" class=\"dataframe\">\n",
       "  <thead>\n",
       "    <tr style=\"text-align: right;\">\n",
       "      <th></th>\n",
       "      <th>userId</th>\n",
       "      <th>rating</th>\n",
       "      <th>timestamp</th>\n",
       "    </tr>\n",
       "    <tr>\n",
       "      <th>movieId</th>\n",
       "      <th></th>\n",
       "      <th></th>\n",
       "      <th></th>\n",
       "    </tr>\n",
       "  </thead>\n",
       "  <tbody>\n",
       "    <tr>\n",
       "      <th>318</th>\n",
       "      <td>2</td>\n",
       "      <td>3.0</td>\n",
       "      <td>1445714835</td>\n",
       "    </tr>\n",
       "    <tr>\n",
       "      <th>333</th>\n",
       "      <td>2</td>\n",
       "      <td>4.0</td>\n",
       "      <td>1445715029</td>\n",
       "    </tr>\n",
       "    <tr>\n",
       "      <th>1704</th>\n",
       "      <td>2</td>\n",
       "      <td>4.5</td>\n",
       "      <td>1445715228</td>\n",
       "    </tr>\n",
       "    <tr>\n",
       "      <th>3578</th>\n",
       "      <td>2</td>\n",
       "      <td>4.0</td>\n",
       "      <td>1445714885</td>\n",
       "    </tr>\n",
       "    <tr>\n",
       "      <th>6874</th>\n",
       "      <td>2</td>\n",
       "      <td>4.0</td>\n",
       "      <td>1445714952</td>\n",
       "    </tr>\n",
       "  </tbody>\n",
       "</table>\n",
       "</div>"
      ],
      "text/plain": [
       "         userId  rating   timestamp\n",
       "movieId                            \n",
       "318           2     3.0  1445714835\n",
       "333           2     4.0  1445715029\n",
       "1704          2     4.5  1445715228\n",
       "3578          2     4.0  1445714885\n",
       "6874          2     4.0  1445714952"
      ]
     },
     "execution_count": 195,
     "metadata": {},
     "output_type": "execute_result"
    }
   ],
   "source": [
    "user2.head()"
   ]
  },
  {
   "cell_type": "markdown",
   "id": "808e28ec-d27c-4def-abba-b21fe62825c3",
   "metadata": {},
   "source": [
    "#### 1. How many movies has this user watched?"
   ]
  },
  {
   "cell_type": "code",
   "execution_count": 196,
   "id": "a7bff4ab-3b2d-4e40-ad61-70bcbcf57786",
   "metadata": {},
   "outputs": [
    {
     "name": "stdout",
     "output_type": "stream",
     "text": [
      "User 2 has watched 29 movies\n"
     ]
    }
   ],
   "source": [
    "num_movies = pd.unique(user2.index)\n",
    "print('User 2 has watched', len(num_movies), 'movies')"
   ]
  },
  {
   "cell_type": "markdown",
   "id": "bf32c6dd-c619-400d-8e8d-84fa624cf081",
   "metadata": {},
   "source": [
    "#### 2. Plot a bar chart of their movie ratings. The bar chart should be the counts of the number of unique ratings"
   ]
  },
  {
   "cell_type": "code",
   "execution_count": 197,
   "id": "56d91c06-67e0-4e54-81d2-c39c0f45c3ee",
   "metadata": {},
   "outputs": [
    {
     "data": {
      "image/png": "[encoded data removed]",
      "text/plain": [
       "<Figure size 432x288 with 1 Axes>"
      ]
     },
     "metadata": {
      "needs_background": "light"
     },
     "output_type": "display_data"
    }
   ],
   "source": [
    "user2['rating'] = user2['rating'].astype(int)\n",
    "num_movies = len(pd.unique(user2['rating']))\n",
    "plt.hist(user2['rating'])\n",
    "plt.show()"
   ]
  },
  {
   "cell_type": "markdown",
   "id": "ae494ce5-7bb5-4605-b78d-24274e230f07",
   "metadata": {},
   "source": [
    "#### 3. What are some of user 2's top movies?"
   ]
  },
  {
   "cell_type": "code",
   "execution_count": 198,
   "id": "e8067454-b10b-4291-b7a7-9382c6c4ff34",
   "metadata": {},
   "outputs": [],
   "source": [
    "user2Movies = user2.merge(movies, left_on='movieId', right_on='movieId', how='inner')"
   ]
  },
  {
   "cell_type": "code",
   "execution_count": 214,
   "id": "cf1f88b5-ab6f-4e68-aaca-f143e2ef4470",
   "metadata": {},
   "outputs": [
    {
     "data": {
      "text/html": [
       "<div>\n",
       "<style scoped>\n",
       "    .dataframe tbody tr th:only-of-type {\n",
       "        vertical-align: middle;\n",
       "    }\n",
       "\n",
       "    .dataframe tbody tr th {\n",
       "        vertical-align: top;\n",
       "    }\n",
       "\n",
       "    .dataframe thead th {\n",
       "        text-align: right;\n",
       "    }\n",
       "</style>\n",
       "<table border=\"1\" class=\"dataframe\">\n",
       "  <thead>\n",
       "    <tr style=\"text-align: right;\">\n",
       "      <th></th>\n",
       "      <th>movieId</th>\n",
       "      <th>userId</th>\n",
       "      <th>rating</th>\n",
       "      <th>timestamp</th>\n",
       "      <th>title</th>\n",
       "      <th>genres</th>\n",
       "    </tr>\n",
       "  </thead>\n",
       "  <tbody>\n",
       "    <tr>\n",
       "      <th>28</th>\n",
       "      <td>131724</td>\n",
       "      <td>2</td>\n",
       "      <td>5</td>\n",
       "      <td>1445714851</td>\n",
       "      <td>The Jinx: The Life and Deaths of Robert Durst ...</td>\n",
       "      <td>Documentary</td>\n",
       "    </tr>\n",
       "    <tr>\n",
       "      <th>27</th>\n",
       "      <td>122882</td>\n",
       "      <td>2</td>\n",
       "      <td>5</td>\n",
       "      <td>1445715272</td>\n",
       "      <td>Mad Max: Fury Road (2015)</td>\n",
       "      <td>Action|Adventure|Sci-Fi|Thriller</td>\n",
       "    </tr>\n",
       "    <tr>\n",
       "      <th>22</th>\n",
       "      <td>106782</td>\n",
       "      <td>2</td>\n",
       "      <td>5</td>\n",
       "      <td>1445714966</td>\n",
       "      <td>Wolf of Wall Street, The (2013)</td>\n",
       "      <td>Comedy|Crime|Drama</td>\n",
       "    </tr>\n",
       "    <tr>\n",
       "      <th>18</th>\n",
       "      <td>89774</td>\n",
       "      <td>2</td>\n",
       "      <td>5</td>\n",
       "      <td>1445715189</td>\n",
       "      <td>Warrior (2011)</td>\n",
       "      <td>Drama</td>\n",
       "    </tr>\n",
       "    <tr>\n",
       "      <th>16</th>\n",
       "      <td>80906</td>\n",
       "      <td>2</td>\n",
       "      <td>5</td>\n",
       "      <td>1445715172</td>\n",
       "      <td>Inside Job (2010)</td>\n",
       "      <td>Documentary</td>\n",
       "    </tr>\n",
       "  </tbody>\n",
       "</table>\n",
       "</div>"
      ],
      "text/plain": [
       "    movieId  userId  rating   timestamp  \\\n",
       "28   131724       2       5  1445714851   \n",
       "27   122882       2       5  1445715272   \n",
       "22   106782       2       5  1445714966   \n",
       "18    89774       2       5  1445715189   \n",
       "16    80906       2       5  1445715172   \n",
       "\n",
       "                                                title  \\\n",
       "28  The Jinx: The Life and Deaths of Robert Durst ...   \n",
       "27                          Mad Max: Fury Road (2015)   \n",
       "22                    Wolf of Wall Street, The (2013)   \n",
       "18                                     Warrior (2011)   \n",
       "16                                  Inside Job (2010)   \n",
       "\n",
       "                              genres  \n",
       "28                       Documentary  \n",
       "27  Action|Adventure|Sci-Fi|Thriller  \n",
       "22                Comedy|Crime|Drama  \n",
       "18                             Drama  \n",
       "16                       Documentary  "
      ]
     },
     "execution_count": 214,
     "metadata": {},
     "output_type": "execute_result"
    }
   ],
   "source": [
    "#View user 2's top 5 movies\n",
    "top_movies = user2Movies.sort_values(by='rating', ascending=False)\n",
    "top_movies.head()"
   ]
  },
  {
   "cell_type": "markdown",
   "id": "fd5ba95c-283d-448a-8eaf-4a6395d5c5d6",
   "metadata": {},
   "source": [
    "#### 4. Find the most similar user in the movielens dataset to user 2 using at least 2 distance metrics. Be sure to use cosine distance as one of your choices."
   ]
  },
  {
   "cell_type": "code",
   "execution_count": 315,
   "id": "8c7aa255-6498-406d-ae80-29e38f31521e",
   "metadata": {},
   "outputs": [
    {
     "data": {
      "text/html": [
       "<div>\n",
       "<style scoped>\n",
       "    .dataframe tbody tr th:only-of-type {\n",
       "        vertical-align: middle;\n",
       "    }\n",
       "\n",
       "    .dataframe tbody tr th {\n",
       "        vertical-align: top;\n",
       "    }\n",
       "\n",
       "    .dataframe thead th {\n",
       "        text-align: right;\n",
       "    }\n",
       "</style>\n",
       "<table border=\"1\" class=\"dataframe\">\n",
       "  <thead>\n",
       "    <tr style=\"text-align: right;\">\n",
       "      <th>movieId</th>\n",
       "      <th>1</th>\n",
       "      <th>2</th>\n",
       "      <th>3</th>\n",
       "      <th>4</th>\n",
       "      <th>5</th>\n",
       "      <th>6</th>\n",
       "      <th>7</th>\n",
       "      <th>8</th>\n",
       "      <th>9</th>\n",
       "      <th>10</th>\n",
       "      <th>...</th>\n",
       "      <th>193565</th>\n",
       "      <th>193567</th>\n",
       "      <th>193571</th>\n",
       "      <th>193573</th>\n",
       "      <th>193579</th>\n",
       "      <th>193581</th>\n",
       "      <th>193583</th>\n",
       "      <th>193585</th>\n",
       "      <th>193587</th>\n",
       "      <th>193609</th>\n",
       "    </tr>\n",
       "    <tr>\n",
       "      <th>userId</th>\n",
       "      <th></th>\n",
       "      <th></th>\n",
       "      <th></th>\n",
       "      <th></th>\n",
       "      <th></th>\n",
       "      <th></th>\n",
       "      <th></th>\n",
       "      <th></th>\n",
       "      <th></th>\n",
       "      <th></th>\n",
       "      <th></th>\n",
       "      <th></th>\n",
       "      <th></th>\n",
       "      <th></th>\n",
       "      <th></th>\n",
       "      <th></th>\n",
       "      <th></th>\n",
       "      <th></th>\n",
       "      <th></th>\n",
       "      <th></th>\n",
       "      <th></th>\n",
       "    </tr>\n",
       "  </thead>\n",
       "  <tbody>\n",
       "    <tr>\n",
       "      <th>1</th>\n",
       "      <td>4.0</td>\n",
       "      <td>NaN</td>\n",
       "      <td>4.0</td>\n",
       "      <td>NaN</td>\n",
       "      <td>NaN</td>\n",
       "      <td>4.0</td>\n",
       "      <td>NaN</td>\n",
       "      <td>NaN</td>\n",
       "      <td>NaN</td>\n",
       "      <td>NaN</td>\n",
       "      <td>...</td>\n",
       "      <td>NaN</td>\n",
       "      <td>NaN</td>\n",
       "      <td>NaN</td>\n",
       "      <td>NaN</td>\n",
       "      <td>NaN</td>\n",
       "      <td>NaN</td>\n",
       "      <td>NaN</td>\n",
       "      <td>NaN</td>\n",
       "      <td>NaN</td>\n",
       "      <td>NaN</td>\n",
       "    </tr>\n",
       "    <tr>\n",
       "      <th>2</th>\n",
       "      <td>NaN</td>\n",
       "      <td>NaN</td>\n",
       "      <td>NaN</td>\n",
       "      <td>NaN</td>\n",
       "      <td>NaN</td>\n",
       "      <td>NaN</td>\n",
       "      <td>NaN</td>\n",
       "      <td>NaN</td>\n",
       "      <td>NaN</td>\n",
       "      <td>NaN</td>\n",
       "      <td>...</td>\n",
       "      <td>NaN</td>\n",
       "      <td>NaN</td>\n",
       "      <td>NaN</td>\n",
       "      <td>NaN</td>\n",
       "      <td>NaN</td>\n",
       "      <td>NaN</td>\n",
       "      <td>NaN</td>\n",
       "      <td>NaN</td>\n",
       "      <td>NaN</td>\n",
       "      <td>NaN</td>\n",
       "    </tr>\n",
       "    <tr>\n",
       "      <th>3</th>\n",
       "      <td>NaN</td>\n",
       "      <td>NaN</td>\n",
       "      <td>NaN</td>\n",
       "      <td>NaN</td>\n",
       "      <td>NaN</td>\n",
       "      <td>NaN</td>\n",
       "      <td>NaN</td>\n",
       "      <td>NaN</td>\n",
       "      <td>NaN</td>\n",
       "      <td>NaN</td>\n",
       "      <td>...</td>\n",
       "      <td>NaN</td>\n",
       "      <td>NaN</td>\n",
       "      <td>NaN</td>\n",
       "      <td>NaN</td>\n",
       "      <td>NaN</td>\n",
       "      <td>NaN</td>\n",
       "      <td>NaN</td>\n",
       "      <td>NaN</td>\n",
       "      <td>NaN</td>\n",
       "      <td>NaN</td>\n",
       "    </tr>\n",
       "    <tr>\n",
       "      <th>4</th>\n",
       "      <td>NaN</td>\n",
       "      <td>NaN</td>\n",
       "      <td>NaN</td>\n",
       "      <td>NaN</td>\n",
       "      <td>NaN</td>\n",
       "      <td>NaN</td>\n",
       "      <td>NaN</td>\n",
       "      <td>NaN</td>\n",
       "      <td>NaN</td>\n",
       "      <td>NaN</td>\n",
       "      <td>...</td>\n",
       "      <td>NaN</td>\n",
       "      <td>NaN</td>\n",
       "      <td>NaN</td>\n",
       "      <td>NaN</td>\n",
       "      <td>NaN</td>\n",
       "      <td>NaN</td>\n",
       "      <td>NaN</td>\n",
       "      <td>NaN</td>\n",
       "      <td>NaN</td>\n",
       "      <td>NaN</td>\n",
       "    </tr>\n",
       "    <tr>\n",
       "      <th>5</th>\n",
       "      <td>4.0</td>\n",
       "      <td>NaN</td>\n",
       "      <td>NaN</td>\n",
       "      <td>NaN</td>\n",
       "      <td>NaN</td>\n",
       "      <td>NaN</td>\n",
       "      <td>NaN</td>\n",
       "      <td>NaN</td>\n",
       "      <td>NaN</td>\n",
       "      <td>NaN</td>\n",
       "      <td>...</td>\n",
       "      <td>NaN</td>\n",
       "      <td>NaN</td>\n",
       "      <td>NaN</td>\n",
       "      <td>NaN</td>\n",
       "      <td>NaN</td>\n",
       "      <td>NaN</td>\n",
       "      <td>NaN</td>\n",
       "      <td>NaN</td>\n",
       "      <td>NaN</td>\n",
       "      <td>NaN</td>\n",
       "    </tr>\n",
       "  </tbody>\n",
       "</table>\n",
       "<p>5 rows × 9724 columns</p>\n",
       "</div>"
      ],
      "text/plain": [
       "movieId  1       2       3       4       5       6       7       8       \\\n",
       "userId                                                                    \n",
       "1           4.0     NaN     4.0     NaN     NaN     4.0     NaN     NaN   \n",
       "2           NaN     NaN     NaN     NaN     NaN     NaN     NaN     NaN   \n",
       "3           NaN     NaN     NaN     NaN     NaN     NaN     NaN     NaN   \n",
       "4           NaN     NaN     NaN     NaN     NaN     NaN     NaN     NaN   \n",
       "5           4.0     NaN     NaN     NaN     NaN     NaN     NaN     NaN   \n",
       "\n",
       "movieId  9       10      ...  193565  193567  193571  193573  193579  193581  \\\n",
       "userId                   ...                                                   \n",
       "1           NaN     NaN  ...     NaN     NaN     NaN     NaN     NaN     NaN   \n",
       "2           NaN     NaN  ...     NaN     NaN     NaN     NaN     NaN     NaN   \n",
       "3           NaN     NaN  ...     NaN     NaN     NaN     NaN     NaN     NaN   \n",
       "4           NaN     NaN  ...     NaN     NaN     NaN     NaN     NaN     NaN   \n",
       "5           NaN     NaN  ...     NaN     NaN     NaN     NaN     NaN     NaN   \n",
       "\n",
       "movieId  193583  193585  193587  193609  \n",
       "userId                                   \n",
       "1           NaN     NaN     NaN     NaN  \n",
       "2           NaN     NaN     NaN     NaN  \n",
       "3           NaN     NaN     NaN     NaN  \n",
       "4           NaN     NaN     NaN     NaN  \n",
       "5           NaN     NaN     NaN     NaN  \n",
       "\n",
       "[5 rows x 9724 columns]"
      ]
     },
     "execution_count": 315,
     "metadata": {},
     "output_type": "execute_result"
    }
   ],
   "source": [
    "from scipy.spatial.distance import pdist, squareform\n",
    "#Transform ratings to \"wide\" format to calculate similarities between users\n",
    "wide = ratings.pivot(index = 'userId', columns='movieId', values='rating')\n",
    "wide.head()"
   ]
  },
  {
   "cell_type": "code",
   "execution_count": 316,
   "id": "2226dd1e-48d3-400e-ae42-1912d4331b40",
   "metadata": {},
   "outputs": [],
   "source": [
    "#Fill missing values with -1\n",
    "wide.fillna(-1, inplace=True)"
   ]
  },
  {
   "cell_type": "code",
   "execution_count": 317,
   "id": "a7d4fdc6-296b-4015-81ce-afbf06f0a342",
   "metadata": {},
   "outputs": [
    {
     "data": {
      "text/plain": [
       "userId\n",
       "2        0.000000\n",
       "442     29.000000\n",
       "461     30.495901\n",
       "189     30.809901\n",
       "508     31.488093\n",
       "          ...    \n",
       "448    171.200175\n",
       "610    171.373860\n",
       "599    185.184368\n",
       "474    206.630709\n",
       "414    232.408046\n",
       "Name: 2, Length: 610, dtype: float64"
      ]
     },
     "execution_count": 317,
     "metadata": {},
     "output_type": "execute_result"
    }
   ],
   "source": [
    "#Create an array of euclidean distances for each user\n",
    "euclidean_distances = squareform(pdist(wide, metric=euclidean)) \n",
    "#Create dataframe from euclidean_distances array\n",
    "euclidean_df = pd.DataFrame(data=euclidean_distances, columns=wide.index, index=wide.index)\n",
    "#Sort euclidean distances\n",
    "euclidean_df.loc[2].sort_values()"
   ]
  },
  {
   "cell_type": "markdown",
   "id": "06d5a257-fa98-445f-8b53-12368532e113",
   "metadata": {},
   "source": [
    "##### Most similar user to user 2 is user 442 based off of the euclidean distance"
   ]
  },
  {
   "cell_type": "code",
   "execution_count": 318,
   "id": "6a78812d-e8cf-429e-915a-dffc539f9ee9",
   "metadata": {},
   "outputs": [
    {
     "name": "stdout",
     "output_type": "stream",
     "text": [
      "Euclidean distance from user 2 to user 442 is: 29.0\n"
     ]
    }
   ],
   "source": [
    "print('Euclidean distance from user 2 to user 442 is:', round(euclidean_df.loc[2].sort_values().loc[442],2))"
   ]
  },
  {
   "cell_type": "code",
   "execution_count": 319,
   "id": "d241be09-34a5-43bd-a878-43aaefb1b947",
   "metadata": {},
   "outputs": [
    {
     "data": {
      "text/plain": [
       "userId\n",
       "2      0.000000\n",
       "442    0.042025\n",
       "461    0.046059\n",
       "189    0.046957\n",
       "508    0.049443\n",
       "         ...   \n",
       "610    0.762312\n",
       "448    0.817785\n",
       "599    0.936812\n",
       "474    0.975777\n",
       "414    1.084648\n",
       "Name: 2, Length: 610, dtype: float64"
      ]
     },
     "execution_count": 319,
     "metadata": {},
     "output_type": "execute_result"
    }
   ],
   "source": [
    "#Check cosine distance\n",
    "cosine_distances = squareform(pdist(wide, metric='cosine'))\n",
    "cosine_df = pd.DataFrame(data=cosine_distances, columns=wide.index, index=wide.index)\n",
    "cosine_df.loc[2].sort_values()"
   ]
  },
  {
   "cell_type": "code",
   "execution_count": 320,
   "id": "984f1f75-21a4-4554-9fa1-08e84f3a4389",
   "metadata": {},
   "outputs": [
    {
     "name": "stdout",
     "output_type": "stream",
     "text": [
      "Cosine distance from user 2 to user 442 is: 0.04\n"
     ]
    }
   ],
   "source": [
    "print('Cosine distance from user 2 to user 442 is:', round(cosine_df.loc[2].sort_values().loc[442],2))"
   ]
  },
  {
   "cell_type": "markdown",
   "id": "cd9f51ce-4aed-4b18-96a2-2cbdb5587ec1",
   "metadata": {},
   "source": [
    "#### 5. Recommend a few movies for user 2 using similarity metrics."
   ]
  },
  {
   "cell_type": "code",
   "execution_count": 350,
   "id": "b082fbe3-ba87-44c0-9673-578b321aca75",
   "metadata": {},
   "outputs": [
    {
     "data": {
      "text/html": [
       "<div>\n",
       "<style scoped>\n",
       "    .dataframe tbody tr th:only-of-type {\n",
       "        vertical-align: middle;\n",
       "    }\n",
       "\n",
       "    .dataframe tbody tr th {\n",
       "        vertical-align: top;\n",
       "    }\n",
       "\n",
       "    .dataframe thead th {\n",
       "        text-align: right;\n",
       "    }\n",
       "</style>\n",
       "<table border=\"1\" class=\"dataframe\">\n",
       "  <thead>\n",
       "    <tr style=\"text-align: right;\">\n",
       "      <th>movieId</th>\n",
       "      <th>1</th>\n",
       "      <th>2</th>\n",
       "      <th>3</th>\n",
       "      <th>4</th>\n",
       "      <th>5</th>\n",
       "      <th>6</th>\n",
       "      <th>7</th>\n",
       "      <th>8</th>\n",
       "      <th>9</th>\n",
       "      <th>10</th>\n",
       "      <th>...</th>\n",
       "      <th>193565</th>\n",
       "      <th>193567</th>\n",
       "      <th>193571</th>\n",
       "      <th>193573</th>\n",
       "      <th>193579</th>\n",
       "      <th>193581</th>\n",
       "      <th>193583</th>\n",
       "      <th>193585</th>\n",
       "      <th>193587</th>\n",
       "      <th>193609</th>\n",
       "    </tr>\n",
       "    <tr>\n",
       "      <th>userId</th>\n",
       "      <th></th>\n",
       "      <th></th>\n",
       "      <th></th>\n",
       "      <th></th>\n",
       "      <th></th>\n",
       "      <th></th>\n",
       "      <th></th>\n",
       "      <th></th>\n",
       "      <th></th>\n",
       "      <th></th>\n",
       "      <th></th>\n",
       "      <th></th>\n",
       "      <th></th>\n",
       "      <th></th>\n",
       "      <th></th>\n",
       "      <th></th>\n",
       "      <th></th>\n",
       "      <th></th>\n",
       "      <th></th>\n",
       "      <th></th>\n",
       "      <th></th>\n",
       "    </tr>\n",
       "  </thead>\n",
       "  <tbody>\n",
       "    <tr>\n",
       "      <th>1</th>\n",
       "      <td>4.0</td>\n",
       "      <td>-1.0</td>\n",
       "      <td>4.0</td>\n",
       "      <td>-1.0</td>\n",
       "      <td>-1.0</td>\n",
       "      <td>4.0</td>\n",
       "      <td>-1.0</td>\n",
       "      <td>-1.0</td>\n",
       "      <td>-1.0</td>\n",
       "      <td>-1.0</td>\n",
       "      <td>...</td>\n",
       "      <td>-1.0</td>\n",
       "      <td>-1.0</td>\n",
       "      <td>-1.0</td>\n",
       "      <td>-1.0</td>\n",
       "      <td>-1.0</td>\n",
       "      <td>-1.0</td>\n",
       "      <td>-1.0</td>\n",
       "      <td>-1.0</td>\n",
       "      <td>-1.0</td>\n",
       "      <td>-1.0</td>\n",
       "    </tr>\n",
       "    <tr>\n",
       "      <th>2</th>\n",
       "      <td>-1.0</td>\n",
       "      <td>-1.0</td>\n",
       "      <td>-1.0</td>\n",
       "      <td>-1.0</td>\n",
       "      <td>-1.0</td>\n",
       "      <td>-1.0</td>\n",
       "      <td>-1.0</td>\n",
       "      <td>-1.0</td>\n",
       "      <td>-1.0</td>\n",
       "      <td>-1.0</td>\n",
       "      <td>...</td>\n",
       "      <td>-1.0</td>\n",
       "      <td>-1.0</td>\n",
       "      <td>-1.0</td>\n",
       "      <td>-1.0</td>\n",
       "      <td>-1.0</td>\n",
       "      <td>-1.0</td>\n",
       "      <td>-1.0</td>\n",
       "      <td>-1.0</td>\n",
       "      <td>-1.0</td>\n",
       "      <td>-1.0</td>\n",
       "    </tr>\n",
       "    <tr>\n",
       "      <th>3</th>\n",
       "      <td>-1.0</td>\n",
       "      <td>-1.0</td>\n",
       "      <td>-1.0</td>\n",
       "      <td>-1.0</td>\n",
       "      <td>-1.0</td>\n",
       "      <td>-1.0</td>\n",
       "      <td>-1.0</td>\n",
       "      <td>-1.0</td>\n",
       "      <td>-1.0</td>\n",
       "      <td>-1.0</td>\n",
       "      <td>...</td>\n",
       "      <td>-1.0</td>\n",
       "      <td>-1.0</td>\n",
       "      <td>-1.0</td>\n",
       "      <td>-1.0</td>\n",
       "      <td>-1.0</td>\n",
       "      <td>-1.0</td>\n",
       "      <td>-1.0</td>\n",
       "      <td>-1.0</td>\n",
       "      <td>-1.0</td>\n",
       "      <td>-1.0</td>\n",
       "    </tr>\n",
       "    <tr>\n",
       "      <th>4</th>\n",
       "      <td>-1.0</td>\n",
       "      <td>-1.0</td>\n",
       "      <td>-1.0</td>\n",
       "      <td>-1.0</td>\n",
       "      <td>-1.0</td>\n",
       "      <td>-1.0</td>\n",
       "      <td>-1.0</td>\n",
       "      <td>-1.0</td>\n",
       "      <td>-1.0</td>\n",
       "      <td>-1.0</td>\n",
       "      <td>...</td>\n",
       "      <td>-1.0</td>\n",
       "      <td>-1.0</td>\n",
       "      <td>-1.0</td>\n",
       "      <td>-1.0</td>\n",
       "      <td>-1.0</td>\n",
       "      <td>-1.0</td>\n",
       "      <td>-1.0</td>\n",
       "      <td>-1.0</td>\n",
       "      <td>-1.0</td>\n",
       "      <td>-1.0</td>\n",
       "    </tr>\n",
       "    <tr>\n",
       "      <th>5</th>\n",
       "      <td>4.0</td>\n",
       "      <td>-1.0</td>\n",
       "      <td>-1.0</td>\n",
       "      <td>-1.0</td>\n",
       "      <td>-1.0</td>\n",
       "      <td>-1.0</td>\n",
       "      <td>-1.0</td>\n",
       "      <td>-1.0</td>\n",
       "      <td>-1.0</td>\n",
       "      <td>-1.0</td>\n",
       "      <td>...</td>\n",
       "      <td>-1.0</td>\n",
       "      <td>-1.0</td>\n",
       "      <td>-1.0</td>\n",
       "      <td>-1.0</td>\n",
       "      <td>-1.0</td>\n",
       "      <td>-1.0</td>\n",
       "      <td>-1.0</td>\n",
       "      <td>-1.0</td>\n",
       "      <td>-1.0</td>\n",
       "      <td>-1.0</td>\n",
       "    </tr>\n",
       "  </tbody>\n",
       "</table>\n",
       "<p>5 rows × 9724 columns</p>\n",
       "</div>"
      ],
      "text/plain": [
       "movieId  1       2       3       4       5       6       7       8       \\\n",
       "userId                                                                    \n",
       "1           4.0    -1.0     4.0    -1.0    -1.0     4.0    -1.0    -1.0   \n",
       "2          -1.0    -1.0    -1.0    -1.0    -1.0    -1.0    -1.0    -1.0   \n",
       "3          -1.0    -1.0    -1.0    -1.0    -1.0    -1.0    -1.0    -1.0   \n",
       "4          -1.0    -1.0    -1.0    -1.0    -1.0    -1.0    -1.0    -1.0   \n",
       "5           4.0    -1.0    -1.0    -1.0    -1.0    -1.0    -1.0    -1.0   \n",
       "\n",
       "movieId  9       10      ...  193565  193567  193571  193573  193579  193581  \\\n",
       "userId                   ...                                                   \n",
       "1          -1.0    -1.0  ...    -1.0    -1.0    -1.0    -1.0    -1.0    -1.0   \n",
       "2          -1.0    -1.0  ...    -1.0    -1.0    -1.0    -1.0    -1.0    -1.0   \n",
       "3          -1.0    -1.0  ...    -1.0    -1.0    -1.0    -1.0    -1.0    -1.0   \n",
       "4          -1.0    -1.0  ...    -1.0    -1.0    -1.0    -1.0    -1.0    -1.0   \n",
       "5          -1.0    -1.0  ...    -1.0    -1.0    -1.0    -1.0    -1.0    -1.0   \n",
       "\n",
       "movieId  193583  193585  193587  193609  \n",
       "userId                                   \n",
       "1          -1.0    -1.0    -1.0    -1.0  \n",
       "2          -1.0    -1.0    -1.0    -1.0  \n",
       "3          -1.0    -1.0    -1.0    -1.0  \n",
       "4          -1.0    -1.0    -1.0    -1.0  \n",
       "5          -1.0    -1.0    -1.0    -1.0  \n",
       "\n",
       "[5 rows x 9724 columns]"
      ]
     },
     "execution_count": 350,
     "metadata": {},
     "output_type": "execute_result"
    }
   ],
   "source": [
    "wide.head()"
   ]
  },
  {
   "cell_type": "code",
   "execution_count": 348,
   "id": "c79b6691-b9d7-4de1-a00d-7c4f463fac2b",
   "metadata": {},
   "outputs": [
    {
     "name": "stdout",
     "output_type": "stream",
     "text": [
      "Series([], Name: 2, dtype: float64)\n"
     ]
    }
   ],
   "source": [
    "watchedby_442 = (wide.loc[442] == 5.0) & (wide.loc[2] == -1.0)\n",
    "print(wide.loc[2][watchedby_442])"
   ]
  },
  {
   "cell_type": "code",
   "execution_count": 351,
   "id": "538f54e4-6f87-48bc-ac54-c039fdfee986",
   "metadata": {},
   "outputs": [
    {
     "name": "stdout",
     "output_type": "stream",
     "text": [
      "movieId\n",
      "1     -1.0\n",
      "21    -1.0\n",
      "34    -1.0\n",
      "36    -1.0\n",
      "50    -1.0\n",
      "110   -1.0\n",
      "232   -1.0\n",
      "261   -1.0\n",
      "367   -1.0\n",
      "457   -1.0\n",
      "474   -1.0\n",
      "531   -1.0\n",
      "588   -1.0\n",
      "Name: 2, dtype: float64\n"
     ]
    }
   ],
   "source": [
    "#Checking method results to user 5 since the no movies were returned in above code\n",
    "watchedby_442 = (wide.loc[5] == 4.0) & (wide.loc[2] == -1.0)\n",
    "print(wide.loc[2][watchedby_442])\n",
    "##we see that user 5 rated movie 1 as 5. This was not seen by user 2, so this confirms our above code was correct and indeed user 442 and 2 have seen the same movies."
   ]
  },
  {
   "cell_type": "markdown",
   "id": "43c62d79",
   "metadata": {},
   "source": [
    "# Analysis/Summary"
   ]
  },
  {
   "cell_type": "markdown",
   "id": "9d6b7d48",
   "metadata": {},
   "source": [
    "For both parts of the assignment, write a short analysis and summary of what you did, the results, and the significance. Do this in a markdown cell here at the bottom, like this one."
   ]
  },
  {
   "cell_type": "markdown",
   "id": "74840e73-4101-4e6e-8cbf-76cf2c37c0bc",
   "metadata": {},
   "source": [
    "Part 1\n",
    "I filtered the user dataframe to only include user 2. This made it much eaiser to perform the EDA. User 2 watched 29 unique movies and gave most of them a rating of 4. Their top 2 movies were The Jinx and Mad Max.\n",
    "\n",
    "Part 2\n",
    "This section was more involved than part 1 but I did not have any issues setting up the code. What was found was that user 2 is most similar to user 442. This was supported by both distance metrics. There were not any recommendations given to User 2 based off of movies seen by User 442 since they have seen the same moveis. These results made made me question my code so I validated User 2 against User 5 becuase I could seen the data eaiser using wide.head()."
   ]
  },
  {
   "cell_type": "code",
   "execution_count": null,
   "id": "48dffab4-910e-4ac5-bae5-feb086a83bee",
   "metadata": {},
   "outputs": [],
   "source": []
  }
 ],
 "metadata": {
  "kernelspec": {
   "display_name": "Python 3",
   "language": "python",
   "name": "python3"
  },
  "language_info": {
   "codemirror_mode": {
    "name": "ipython",
    "version": 3
   },
   "file_extension": ".py",
   "mimetype": "text/x-python",
   "name": "python",
   "nbconvert_exporter": "python",
   "pygments_lexer": "ipython3",
   "version": "3.10.1"
  }
 },
 "nbformat": 4,
 "nbformat_minor": 5
}
