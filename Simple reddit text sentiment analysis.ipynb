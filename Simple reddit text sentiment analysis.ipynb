{
 "cells": [
  {
   "cell_type": "markdown",
   "id": "da97052f",
   "metadata": {},
   "source": [
    "# Week 8 assignment: NLP on social media data\n",
    "\n",
    "Take our social media we collected last week and:\n",
    "\n",
    "- extract the sentiment scores of the titles of the posts\n",
    "    - you can use the keyword method, Python packages, or other methods to extract the sentiment scores\n",
    "- plot a histogram of the sentiment scores\n",
    "- look at descriptive statistics (mean, median, standard deviation) of the sentiment scores\n",
    "- examine the text for some of the highest and lowest sentiment scores\n",
    "- write a short analysis of the results and our process, as well as propose one idea for something we could use this data for\n",
    "\n",
    "Optional advanced challenges:\n",
    "- Compare different sentiment analysis methods (e.g. textblob and VADER). Does one seem to work better than another?\n",
    "- Get the sentiments of the comments for each post. We can do a lot with this, such as:\n",
    "    - look at the average sentiment for each post and compare it with the sentiment of the title and/or text\n",
    "    - look at the distribution of sentiments for each post and find the posts with the widest range of sentiments (controversial posts)\n",
    "- Examine the subjectivity of our data (e.g. using textblob)\n",
    "- Use topic modeling on the posts\n",
    "    - you can also add in the comments to the topic model\n",
    "- Look at the most frequent words for positive and negative sentiment posts\n",
    "\n",
    "Note: There is no assignment solution file for this week."
   ]
  },
  {
   "cell_type": "code",
   "execution_count": 1,
   "id": "e5e84e50",
   "metadata": {},
   "outputs": [],
   "source": [
    "import sqlite3\n",
    "import pandas as pd\n",
    "import numpy as np\n",
    "import matplotlib as plt\n",
    "from textblob import TextBlob\n",
    "from vaderSentiment.vaderSentiment import SentimentIntensityAnalyzer"
   ]
  },
  {
   "cell_type": "code",
   "execution_count": 2,
   "id": "d91a3304-2c1a-4786-b29c-42c316cc06b0",
   "metadata": {},
   "outputs": [
    {
     "data": {
      "text/html": [
       "<div>\n",
       "<style scoped>\n",
       "    .dataframe tbody tr th:only-of-type {\n",
       "        vertical-align: middle;\n",
       "    }\n",
       "\n",
       "    .dataframe tbody tr th {\n",
       "        vertical-align: top;\n",
       "    }\n",
       "\n",
       "    .dataframe thead th {\n",
       "        text-align: right;\n",
       "    }\n",
       "</style>\n",
       "<table border=\"1\" class=\"dataframe\">\n",
       "  <thead>\n",
       "    <tr style=\"text-align: right;\">\n",
       "      <th></th>\n",
       "      <th>index</th>\n",
       "      <th>title</th>\n",
       "      <th>link</th>\n",
       "      <th>author</th>\n",
       "      <th>n_comments</th>\n",
       "      <th>score</th>\n",
       "      <th>text</th>\n",
       "      <th>post_id</th>\n",
       "      <th>dt_created</th>\n",
       "    </tr>\n",
       "  </thead>\n",
       "  <tbody>\n",
       "    <tr>\n",
       "      <th>0</th>\n",
       "      <td>0</td>\n",
       "      <td>FreeRossDAO has raised 1000+ ETH. Powerful Eth...</td>\n",
       "      <td>/r/ethereum/comments/r9frxg/freerossdao_has_ra...</td>\n",
       "      <td>sassypersona16</td>\n",
       "      <td>8</td>\n",
       "      <td>122</td>\n",
       "      <td>https://twitter.com/TrashbagsCash/status/14674...</td>\n",
       "      <td>r9frxg</td>\n",
       "      <td>2021/12/05 08:30:59</td>\n",
       "    </tr>\n",
       "    <tr>\n",
       "      <th>1</th>\n",
       "      <td>1</td>\n",
       "      <td>Satoshi owns 5.2% of all the bitcoin supply an...</td>\n",
       "      <td>/r/ethereum/comments/r90qoy/satoshi_owns_52_of...</td>\n",
       "      <td>Historian_investor</td>\n",
       "      <td>414</td>\n",
       "      <td>993</td>\n",
       "      <td>.23% of all ethereum supply</td>\n",
       "      <td>r90qoy</td>\n",
       "      <td>2021/12/04 17:23:57</td>\n",
       "    </tr>\n",
       "    <tr>\n",
       "      <th>2</th>\n",
       "      <td>2</td>\n",
       "      <td>$13 million of stolen ETH is being sold right ...</td>\n",
       "      <td>/r/ethereum/comments/r94obk/13_million_of_stol...</td>\n",
       "      <td>sandygws</td>\n",
       "      <td>68</td>\n",
       "      <td>177</td>\n",
       "      <td>$13 million of stolen ETH being sold live righ...</td>\n",
       "      <td>r94obk</td>\n",
       "      <td>2021/12/04 20:51:12</td>\n",
       "    </tr>\n",
       "    <tr>\n",
       "      <th>3</th>\n",
       "      <td>3</td>\n",
       "      <td>Ethereum showing relative market strength comp...</td>\n",
       "      <td>/r/ethereum/comments/r9bvvb/ethereum_showing_r...</td>\n",
       "      <td>WhalesHeaven</td>\n",
       "      <td>6</td>\n",
       "      <td>40</td>\n",
       "      <td>This isn't a price discussion post, but rather...</td>\n",
       "      <td>r9bvvb</td>\n",
       "      <td>2021/12/05 04:10:57</td>\n",
       "    </tr>\n",
       "    <tr>\n",
       "      <th>4</th>\n",
       "      <td>4</td>\n",
       "      <td>Ethereum for beginners</td>\n",
       "      <td>/r/ethereum/comments/r9h8ri/ethereum_for_begin...</td>\n",
       "      <td>Artistic_Dwilko</td>\n",
       "      <td>1</td>\n",
       "      <td>10</td>\n",
       "      <td></td>\n",
       "      <td>r9h8ri</td>\n",
       "      <td>2021/12/05 09:49:44</td>\n",
       "    </tr>\n",
       "  </tbody>\n",
       "</table>\n",
       "</div>"
      ],
      "text/plain": [
       "   index                                              title  \\\n",
       "0      0  FreeRossDAO has raised 1000+ ETH. Powerful Eth...   \n",
       "1      1  Satoshi owns 5.2% of all the bitcoin supply an...   \n",
       "2      2  $13 million of stolen ETH is being sold right ...   \n",
       "3      3  Ethereum showing relative market strength comp...   \n",
       "4      4                             Ethereum for beginners   \n",
       "\n",
       "                                                link              author  \\\n",
       "0  /r/ethereum/comments/r9frxg/freerossdao_has_ra...      sassypersona16   \n",
       "1  /r/ethereum/comments/r90qoy/satoshi_owns_52_of...  Historian_investor   \n",
       "2  /r/ethereum/comments/r94obk/13_million_of_stol...            sandygws   \n",
       "3  /r/ethereum/comments/r9bvvb/ethereum_showing_r...        WhalesHeaven   \n",
       "4  /r/ethereum/comments/r9h8ri/ethereum_for_begin...     Artistic_Dwilko   \n",
       "\n",
       "   n_comments  score                                               text  \\\n",
       "0           8    122  https://twitter.com/TrashbagsCash/status/14674...   \n",
       "1         414    993                        .23% of all ethereum supply   \n",
       "2          68    177  $13 million of stolen ETH being sold live righ...   \n",
       "3           6     40  This isn't a price discussion post, but rather...   \n",
       "4           1     10                                                      \n",
       "\n",
       "  post_id           dt_created  \n",
       "0  r9frxg  2021/12/05 08:30:59  \n",
       "1  r90qoy  2021/12/04 17:23:57  \n",
       "2  r94obk  2021/12/04 20:51:12  \n",
       "3  r9bvvb  2021/12/05 04:10:57  \n",
       "4  r9h8ri  2021/12/05 09:49:44  "
      ]
     },
     "execution_count": 2,
     "metadata": {},
     "output_type": "execute_result"
    }
   ],
   "source": [
    "#Load post titles\n",
    "con = sqlite3.connect('Week7_co_reddit.sqlite')\n",
    "df_title = pd.read_sql_query('SELECT * FROM posts;', con)\n",
    "con.close()\n",
    "df_title.head()"
   ]
  },
  {
   "cell_type": "code",
   "execution_count": 3,
   "id": "72e4570a-d7ca-4eb7-94c6-755ff0fda89f",
   "metadata": {},
   "outputs": [
    {
     "data": {
      "text/html": [
       "<div>\n",
       "<style scoped>\n",
       "    .dataframe tbody tr th:only-of-type {\n",
       "        vertical-align: middle;\n",
       "    }\n",
       "\n",
       "    .dataframe tbody tr th {\n",
       "        vertical-align: top;\n",
       "    }\n",
       "\n",
       "    .dataframe thead th {\n",
       "        text-align: right;\n",
       "    }\n",
       "</style>\n",
       "<table border=\"1\" class=\"dataframe\">\n",
       "  <thead>\n",
       "    <tr style=\"text-align: right;\">\n",
       "      <th></th>\n",
       "      <th>index</th>\n",
       "      <th>author</th>\n",
       "      <th>score</th>\n",
       "      <th>text</th>\n",
       "      <th>post_id</th>\n",
       "    </tr>\n",
       "  </thead>\n",
       "  <tbody>\n",
       "    <tr>\n",
       "      <th>0</th>\n",
       "      <td>0</td>\n",
       "      <td>Sutied</td>\n",
       "      <td>2</td>\n",
       "      <td>If I only had 100 ETH to donate lmao</td>\n",
       "      <td>r9frxg</td>\n",
       "    </tr>\n",
       "    <tr>\n",
       "      <th>1</th>\n",
       "      <td>1</td>\n",
       "      <td>ProfessorCrumbledore</td>\n",
       "      <td>2</td>\n",
       "      <td>Could have almost bought a pardon a year ago w...</td>\n",
       "      <td>r9frxg</td>\n",
       "    </tr>\n",
       "    <tr>\n",
       "      <th>2</th>\n",
       "      <td>2</td>\n",
       "      <td>DonLemonAIDS</td>\n",
       "      <td>2</td>\n",
       "      <td>Of all the valid objects of sympathy out there...</td>\n",
       "      <td>r9frxg</td>\n",
       "    </tr>\n",
       "    <tr>\n",
       "      <th>3</th>\n",
       "      <td>3</td>\n",
       "      <td>atxdevdude</td>\n",
       "      <td>57</td>\n",
       "      <td>I mean clearly Vitalik would make less of an i...</td>\n",
       "      <td>r90qoy</td>\n",
       "    </tr>\n",
       "    <tr>\n",
       "      <th>4</th>\n",
       "      <td>4</td>\n",
       "      <td>hesiod2</td>\n",
       "      <td>44</td>\n",
       "      <td>For context: Jeff Bezos owns 10% of Amazon.  Z...</td>\n",
       "      <td>r90qoy</td>\n",
       "    </tr>\n",
       "  </tbody>\n",
       "</table>\n",
       "</div>"
      ],
      "text/plain": [
       "   index                author  score  \\\n",
       "0      0                Sutied      2   \n",
       "1      1  ProfessorCrumbledore      2   \n",
       "2      2          DonLemonAIDS      2   \n",
       "3      3            atxdevdude     57   \n",
       "4      4               hesiod2     44   \n",
       "\n",
       "                                                text post_id  \n",
       "0               If I only had 100 ETH to donate lmao  r9frxg  \n",
       "1  Could have almost bought a pardon a year ago w...  r9frxg  \n",
       "2  Of all the valid objects of sympathy out there...  r9frxg  \n",
       "3  I mean clearly Vitalik would make less of an i...  r90qoy  \n",
       "4  For context: Jeff Bezos owns 10% of Amazon.  Z...  r90qoy  "
      ]
     },
     "execution_count": 3,
     "metadata": {},
     "output_type": "execute_result"
    }
   ],
   "source": [
    "#Load post comments\n",
    "con = sqlite3.connect('Week7_co_reddit.sqlite')\n",
    "df_comment = pd.read_sql_query('SELECT * FROM comments;', con)\n",
    "con.close()\n",
    "df_comment.head()"
   ]
  },
  {
   "cell_type": "code",
   "execution_count": 4,
   "id": "c7e4a5d2-fb6a-4e65-8972-82a8d1f8cf95",
   "metadata": {},
   "outputs": [],
   "source": [
    "analyzer = SentimentIntensityAnalyzer()"
   ]
  },
  {
   "cell_type": "markdown",
   "id": "3d5e6c3e-dabe-4c81-9608-fd508732a6f7",
   "metadata": {},
   "source": [
    "### 1. Extract the sentiment scores of the titles of the posts (and comments)"
   ]
  },
  {
   "cell_type": "code",
   "execution_count": 5,
   "id": "1543f8ed-b57b-428d-9711-7dbf55cca44f",
   "metadata": {},
   "outputs": [],
   "source": [
    "i=0 #reset counter for loop\n",
    "\n",
    "#initialize variables\n",
    "my_vader_score_compound = [ ] \n",
    "my_vader_score_positive = [ ] \n",
    "my_vader_score_negative = [ ] \n",
    "my_vader_score_neutral = [ ] \n",
    "\n",
    "while (i<len(df_title)):\n",
    "\n",
    "    my_analyzer = analyzer.polarity_scores(df_title.iloc[i]['title'])\n",
    "    my_vader_score_compound.append(my_analyzer['compound'])\n",
    "    my_vader_score_positive.append(my_analyzer['pos'])\n",
    "    my_vader_score_negative.append(my_analyzer['neg']) \n",
    "    my_vader_score_neutral.append(my_analyzer['neu']) \n",
    "\n",
    "    i = i + 1\n",
    "\n",
    "#converting sentiment values to numpy for easier usage\n",
    "my_vader_score_compound = np.array(my_vader_score_compound)\n",
    "my_vader_score_positive = np.array(my_vader_score_positive)\n",
    "my_vader_score_negative = np.array(my_vader_score_negative)\n",
    "my_vader_score_neutral = np.array(my_vader_score_neutral)\n",
    "\n",
    "\n",
    "df_title['Compositie score'] = my_vader_score_compound\n",
    "df_title['Positive Score'] = my_vader_score_positive\n",
    "df_title['Negative Score'] = my_vader_score_negative\n",
    "df_title['Neutral Score'] = my_vader_score_neutral\n",
    "\n",
    "i=0 #reset counter for loop\n",
    "\n",
    "#initialize variables\n",
    "my_prediction = [ ] \n",
    "\n",
    "while (i<len(df_title)):\n",
    "    if ((df_title.iloc[i]['Compositie score'] >= 0.3)):\n",
    "        my_prediction.append('Positive Score')\n",
    "    elif ((df_title.iloc[i]['Compositie score'] >= 0) & (df_title.iloc[i]['Compositie score'] < 0.3)):\n",
    "        my_prediction.append('Neutral Score')\n",
    "    elif ((df_title.iloc[i]['Compositie score'] < 0)):\n",
    "        my_prediction.append('Negative Score') \n",
    "\n",
    "    i = i+1\n",
    "    \n",
    "df_title['Sentiment'] = my_prediction\n",
    "    \n",
    "df_title_sentiment = df_title[['index', 'title', 'Compositie score', 'Positive Score', 'Negative Score', 'Neutral Score', 'Sentiment']]"
   ]
  },
  {
   "cell_type": "code",
   "execution_count": 6,
   "id": "14959879-b74a-4775-b87a-023f026e4c8e",
   "metadata": {},
   "outputs": [
    {
     "data": {
      "text/html": [
       "<div>\n",
       "<style scoped>\n",
       "    .dataframe tbody tr th:only-of-type {\n",
       "        vertical-align: middle;\n",
       "    }\n",
       "\n",
       "    .dataframe tbody tr th {\n",
       "        vertical-align: top;\n",
       "    }\n",
       "\n",
       "    .dataframe thead th {\n",
       "        text-align: right;\n",
       "    }\n",
       "</style>\n",
       "<table border=\"1\" class=\"dataframe\">\n",
       "  <thead>\n",
       "    <tr style=\"text-align: right;\">\n",
       "      <th></th>\n",
       "      <th>index</th>\n",
       "      <th>title</th>\n",
       "      <th>Compositie score</th>\n",
       "      <th>Positive Score</th>\n",
       "      <th>Negative Score</th>\n",
       "      <th>Neutral Score</th>\n",
       "      <th>Sentiment</th>\n",
       "    </tr>\n",
       "  </thead>\n",
       "  <tbody>\n",
       "    <tr>\n",
       "      <th>0</th>\n",
       "      <td>0</td>\n",
       "      <td>FreeRossDAO has raised 1000+ ETH. Powerful Eth...</td>\n",
       "      <td>0.4753</td>\n",
       "      <td>0.306</td>\n",
       "      <td>0.000</td>\n",
       "      <td>0.694</td>\n",
       "      <td>Positive Score</td>\n",
       "    </tr>\n",
       "    <tr>\n",
       "      <th>1</th>\n",
       "      <td>1</td>\n",
       "      <td>Satoshi owns 5.2% of all the bitcoin supply an...</td>\n",
       "      <td>0.1280</td>\n",
       "      <td>0.078</td>\n",
       "      <td>0.066</td>\n",
       "      <td>0.856</td>\n",
       "      <td>Neutral Score</td>\n",
       "    </tr>\n",
       "    <tr>\n",
       "      <th>2</th>\n",
       "      <td>2</td>\n",
       "      <td>$13 million of stolen ETH is being sold right ...</td>\n",
       "      <td>-0.4939</td>\n",
       "      <td>0.000</td>\n",
       "      <td>0.158</td>\n",
       "      <td>0.842</td>\n",
       "      <td>Negative Score</td>\n",
       "    </tr>\n",
       "    <tr>\n",
       "      <th>3</th>\n",
       "      <td>3</td>\n",
       "      <td>Ethereum showing relative market strength comp...</td>\n",
       "      <td>0.8166</td>\n",
       "      <td>0.346</td>\n",
       "      <td>0.000</td>\n",
       "      <td>0.654</td>\n",
       "      <td>Positive Score</td>\n",
       "    </tr>\n",
       "    <tr>\n",
       "      <th>4</th>\n",
       "      <td>4</td>\n",
       "      <td>Ethereum for beginners</td>\n",
       "      <td>0.0000</td>\n",
       "      <td>0.000</td>\n",
       "      <td>0.000</td>\n",
       "      <td>1.000</td>\n",
       "      <td>Neutral Score</td>\n",
       "    </tr>\n",
       "  </tbody>\n",
       "</table>\n",
       "</div>"
      ],
      "text/plain": [
       "   index                                              title  Compositie score  \\\n",
       "0      0  FreeRossDAO has raised 1000+ ETH. Powerful Eth...            0.4753   \n",
       "1      1  Satoshi owns 5.2% of all the bitcoin supply an...            0.1280   \n",
       "2      2  $13 million of stolen ETH is being sold right ...           -0.4939   \n",
       "3      3  Ethereum showing relative market strength comp...            0.8166   \n",
       "4      4                             Ethereum for beginners            0.0000   \n",
       "\n",
       "   Positive Score  Negative Score  Neutral Score       Sentiment  \n",
       "0           0.306           0.000          0.694  Positive Score  \n",
       "1           0.078           0.066          0.856   Neutral Score  \n",
       "2           0.000           0.158          0.842  Negative Score  \n",
       "3           0.346           0.000          0.654  Positive Score  \n",
       "4           0.000           0.000          1.000   Neutral Score  "
      ]
     },
     "execution_count": 6,
     "metadata": {},
     "output_type": "execute_result"
    }
   ],
   "source": [
    "df_title_sentiment.head()"
   ]
  },
  {
   "cell_type": "code",
   "execution_count": 7,
   "id": "9f3043c7-98b8-4a9d-89bd-46c5b5abcce8",
   "metadata": {},
   "outputs": [],
   "source": [
    "i=0 #reset counter for loop\n",
    "\n",
    "#initialize variables\n",
    "my_vader_score_compound = [ ] \n",
    "my_vader_score_positive = [ ] \n",
    "my_vader_score_negative = [ ] \n",
    "my_vader_score_neutral = [ ] \n",
    "\n",
    "while (i<len(df_comment)):\n",
    "\n",
    "    my_analyzer = analyzer.polarity_scores(df_comment.iloc[i]['text'])\n",
    "    my_vader_score_compound.append(my_analyzer['compound'])\n",
    "    my_vader_score_positive.append(my_analyzer['pos'])\n",
    "    my_vader_score_negative.append(my_analyzer['neg']) \n",
    "    my_vader_score_neutral.append(my_analyzer['neu']) \n",
    "\n",
    "    i = i + 1\n",
    "\n",
    "#converting sentiment values to numpy for easier usage\n",
    "my_vader_score_compound = np.array(my_vader_score_compound)\n",
    "my_vader_score_positive = np.array(my_vader_score_positive)\n",
    "my_vader_score_negative = np.array(my_vader_score_negative)\n",
    "my_vader_score_neutral = np.array(my_vader_score_neutral)\n",
    "\n",
    "\n",
    "df_comment['Compositie score'] = my_vader_score_compound\n",
    "df_comment['Positive Score'] = my_vader_score_positive\n",
    "df_comment['Negative Score'] = my_vader_score_negative\n",
    "df_comment['Neutral Score'] = my_vader_score_neutral\n",
    "\n",
    "i=0 #reset counter for loop\n",
    "\n",
    "\n",
    "#initialize variables\n",
    "my_prediction = [ ] \n",
    "\n",
    "while (i<len(df_comment)):\n",
    "    if ((df_comment.iloc[i]['Compositie score'] >= 0.3)):\n",
    "        my_prediction.append('Positive Score')\n",
    "    elif ((df_comment.iloc[i]['Compositie score'] >= 0) & (df_comment.iloc[i]['Compositie score'] < 0.3)):\n",
    "        my_prediction.append('Neutral Score')\n",
    "    elif ((df_comment.iloc[i]['Compositie score'] < 0)):\n",
    "        my_prediction.append('Negative Score') \n",
    "\n",
    "    i = i+1\n",
    "    \n",
    "df_comment['Sentiment'] = my_prediction\n",
    "\n",
    "df_comment_sentiment = df_comment[['index', 'text', 'Compositie score', 'Positive Score', 'Negative Score', 'Neutral Score', 'Sentiment']]"
   ]
  },
  {
   "cell_type": "code",
   "execution_count": 8,
   "id": "60710762-28e8-4f64-80ec-c232dc601824",
   "metadata": {},
   "outputs": [
    {
     "data": {
      "text/html": [
       "<div>\n",
       "<style scoped>\n",
       "    .dataframe tbody tr th:only-of-type {\n",
       "        vertical-align: middle;\n",
       "    }\n",
       "\n",
       "    .dataframe tbody tr th {\n",
       "        vertical-align: top;\n",
       "    }\n",
       "\n",
       "    .dataframe thead th {\n",
       "        text-align: right;\n",
       "    }\n",
       "</style>\n",
       "<table border=\"1\" class=\"dataframe\">\n",
       "  <thead>\n",
       "    <tr style=\"text-align: right;\">\n",
       "      <th></th>\n",
       "      <th>index</th>\n",
       "      <th>text</th>\n",
       "      <th>Compositie score</th>\n",
       "      <th>Positive Score</th>\n",
       "      <th>Negative Score</th>\n",
       "      <th>Neutral Score</th>\n",
       "      <th>Sentiment</th>\n",
       "    </tr>\n",
       "  </thead>\n",
       "  <tbody>\n",
       "    <tr>\n",
       "      <th>0</th>\n",
       "      <td>0</td>\n",
       "      <td>If I only had 100 ETH to donate lmao</td>\n",
       "      <td>0.5994</td>\n",
       "      <td>0.328</td>\n",
       "      <td>0.0</td>\n",
       "      <td>0.672</td>\n",
       "      <td>Positive Score</td>\n",
       "    </tr>\n",
       "    <tr>\n",
       "      <th>1</th>\n",
       "      <td>1</td>\n",
       "      <td>Could have almost bought a pardon a year ago w...</td>\n",
       "      <td>0.2585</td>\n",
       "      <td>0.145</td>\n",
       "      <td>0.0</td>\n",
       "      <td>0.855</td>\n",
       "      <td>Neutral Score</td>\n",
       "    </tr>\n",
       "    <tr>\n",
       "      <th>2</th>\n",
       "      <td>2</td>\n",
       "      <td>Of all the valid objects of sympathy out there...</td>\n",
       "      <td>0.3612</td>\n",
       "      <td>0.172</td>\n",
       "      <td>0.0</td>\n",
       "      <td>0.828</td>\n",
       "      <td>Positive Score</td>\n",
       "    </tr>\n",
       "    <tr>\n",
       "      <th>3</th>\n",
       "      <td>3</td>\n",
       "      <td>I mean clearly Vitalik would make less of an i...</td>\n",
       "      <td>0.4019</td>\n",
       "      <td>0.213</td>\n",
       "      <td>0.0</td>\n",
       "      <td>0.787</td>\n",
       "      <td>Positive Score</td>\n",
       "    </tr>\n",
       "    <tr>\n",
       "      <th>4</th>\n",
       "      <td>4</td>\n",
       "      <td>For context: Jeff Bezos owns 10% of Amazon.  Z...</td>\n",
       "      <td>0.6557</td>\n",
       "      <td>0.137</td>\n",
       "      <td>0.0</td>\n",
       "      <td>0.863</td>\n",
       "      <td>Positive Score</td>\n",
       "    </tr>\n",
       "  </tbody>\n",
       "</table>\n",
       "</div>"
      ],
      "text/plain": [
       "   index                                               text  Compositie score  \\\n",
       "0      0               If I only had 100 ETH to donate lmao            0.5994   \n",
       "1      1  Could have almost bought a pardon a year ago w...            0.2585   \n",
       "2      2  Of all the valid objects of sympathy out there...            0.3612   \n",
       "3      3  I mean clearly Vitalik would make less of an i...            0.4019   \n",
       "4      4  For context: Jeff Bezos owns 10% of Amazon.  Z...            0.6557   \n",
       "\n",
       "   Positive Score  Negative Score  Neutral Score       Sentiment  \n",
       "0           0.328             0.0          0.672  Positive Score  \n",
       "1           0.145             0.0          0.855   Neutral Score  \n",
       "2           0.172             0.0          0.828  Positive Score  \n",
       "3           0.213             0.0          0.787  Positive Score  \n",
       "4           0.137             0.0          0.863  Positive Score  "
      ]
     },
     "execution_count": 8,
     "metadata": {},
     "output_type": "execute_result"
    }
   ],
   "source": [
    "df_comment_sentiment.head()"
   ]
  },
  {
   "cell_type": "markdown",
   "id": "4c730444-a6f6-48dd-9f0a-5d7ed8bba1a9",
   "metadata": {},
   "source": [
    "### 2. Plot a histogram of the sentiment scores\n",
    "### 3. Look at descriptive statistics (mean, median, standard deviation) of the sentiment scores"
   ]
  },
  {
   "cell_type": "code",
   "execution_count": 9,
   "id": "12db715e-681d-4279-b921-8a57f1121c7e",
   "metadata": {},
   "outputs": [
    {
     "data": {
      "text/plain": [
       "<AxesSubplot:ylabel='Frequency'>"
      ]
     },
     "execution_count": 9,
     "metadata": {},
     "output_type": "execute_result"
    },
    {
     "data": {
      "image/png": "[encoded data removed]",
      "text/plain": [
       "<Figure size 432x288 with 1 Axes>"
      ]
     },
     "metadata": {
      "needs_background": "light"
     },
     "output_type": "display_data"
    }
   ],
   "source": [
    "#Plot title sentiments\n",
    "df_title_sentiment['Compositie score'].plot.hist(bins=30)"
   ]
  },
  {
   "cell_type": "code",
   "execution_count": 10,
   "id": "0ee6987f-4d1c-443a-88c6-d093e84347ab",
   "metadata": {},
   "outputs": [
    {
     "data": {
      "text/html": [
       "<div>\n",
       "<style scoped>\n",
       "    .dataframe tbody tr th:only-of-type {\n",
       "        vertical-align: middle;\n",
       "    }\n",
       "\n",
       "    .dataframe tbody tr th {\n",
       "        vertical-align: top;\n",
       "    }\n",
       "\n",
       "    .dataframe thead th {\n",
       "        text-align: right;\n",
       "    }\n",
       "</style>\n",
       "<table border=\"1\" class=\"dataframe\">\n",
       "  <thead>\n",
       "    <tr style=\"text-align: right;\">\n",
       "      <th></th>\n",
       "      <th>Compositie score</th>\n",
       "      <th>Positive Score</th>\n",
       "      <th>Negative Score</th>\n",
       "      <th>Neutral Score</th>\n",
       "    </tr>\n",
       "  </thead>\n",
       "  <tbody>\n",
       "    <tr>\n",
       "      <th>count</th>\n",
       "      <td>20.000000</td>\n",
       "      <td>20.000000</td>\n",
       "      <td>20.000000</td>\n",
       "      <td>20.000000</td>\n",
       "    </tr>\n",
       "    <tr>\n",
       "      <th>mean</th>\n",
       "      <td>0.065645</td>\n",
       "      <td>0.068100</td>\n",
       "      <td>0.064350</td>\n",
       "      <td>0.867550</td>\n",
       "    </tr>\n",
       "    <tr>\n",
       "      <th>std</th>\n",
       "      <td>0.307701</td>\n",
       "      <td>0.119293</td>\n",
       "      <td>0.135053</td>\n",
       "      <td>0.163861</td>\n",
       "    </tr>\n",
       "    <tr>\n",
       "      <th>min</th>\n",
       "      <td>-0.493900</td>\n",
       "      <td>0.000000</td>\n",
       "      <td>0.000000</td>\n",
       "      <td>0.455000</td>\n",
       "    </tr>\n",
       "    <tr>\n",
       "      <th>25%</th>\n",
       "      <td>0.000000</td>\n",
       "      <td>0.000000</td>\n",
       "      <td>0.000000</td>\n",
       "      <td>0.729000</td>\n",
       "    </tr>\n",
       "    <tr>\n",
       "      <th>50%</th>\n",
       "      <td>0.000000</td>\n",
       "      <td>0.000000</td>\n",
       "      <td>0.000000</td>\n",
       "      <td>0.945000</td>\n",
       "    </tr>\n",
       "    <tr>\n",
       "      <th>75%</th>\n",
       "      <td>0.175550</td>\n",
       "      <td>0.093750</td>\n",
       "      <td>0.077000</td>\n",
       "      <td>1.000000</td>\n",
       "    </tr>\n",
       "    <tr>\n",
       "      <th>max</th>\n",
       "      <td>0.816600</td>\n",
       "      <td>0.346000</td>\n",
       "      <td>0.545000</td>\n",
       "      <td>1.000000</td>\n",
       "    </tr>\n",
       "  </tbody>\n",
       "</table>\n",
       "</div>"
      ],
      "text/plain": [
       "       Compositie score  Positive Score  Negative Score  Neutral Score\n",
       "count         20.000000       20.000000       20.000000      20.000000\n",
       "mean           0.065645        0.068100        0.064350       0.867550\n",
       "std            0.307701        0.119293        0.135053       0.163861\n",
       "min           -0.493900        0.000000        0.000000       0.455000\n",
       "25%            0.000000        0.000000        0.000000       0.729000\n",
       "50%            0.000000        0.000000        0.000000       0.945000\n",
       "75%            0.175550        0.093750        0.077000       1.000000\n",
       "max            0.816600        0.346000        0.545000       1.000000"
      ]
     },
     "execution_count": 10,
     "metadata": {},
     "output_type": "execute_result"
    }
   ],
   "source": [
    "#View descriptive statistics for title scores\n",
    "df_title_sentiment.drop('index', axis=1).describe()"
   ]
  },
  {
   "cell_type": "code",
   "execution_count": 11,
   "id": "2cac6305-dda5-4dbb-b670-f62cd7a75320",
   "metadata": {},
   "outputs": [
    {
     "data": {
      "image/png": "[encoded data removed]",
      "text/plain": [
       "<Figure size 432x288 with 1 Axes>"
      ]
     },
     "metadata": {
      "needs_background": "light"
     },
     "output_type": "display_data"
    }
   ],
   "source": [
    "#View distribution of sentiment in title\n",
    "df_title_sentiment.groupby('Sentiment').size().plot(kind='barh');"
   ]
  },
  {
   "cell_type": "code",
   "execution_count": 12,
   "id": "c4aa5129-ecb0-4c9b-a2db-8e965ab73d5a",
   "metadata": {},
   "outputs": [
    {
     "data": {
      "text/plain": [
       "<AxesSubplot:ylabel='Frequency'>"
      ]
     },
     "execution_count": 12,
     "metadata": {},
     "output_type": "execute_result"
    },
    {
     "data": {
      "image/png": "[encoded data removed]",
      "text/plain": [
       "<Figure size 432x288 with 1 Axes>"
      ]
     },
     "metadata": {
      "needs_background": "light"
     },
     "output_type": "display_data"
    }
   ],
   "source": [
    "#Plot comment sentiments\n",
    "df_comment_sentiment['Compositie score'].plot.hist(bins=30)"
   ]
  },
  {
   "cell_type": "code",
   "execution_count": 13,
   "id": "d3b26c87-dded-404b-9520-d08247bf2b72",
   "metadata": {},
   "outputs": [
    {
     "data": {
      "text/html": [
       "<div>\n",
       "<style scoped>\n",
       "    .dataframe tbody tr th:only-of-type {\n",
       "        vertical-align: middle;\n",
       "    }\n",
       "\n",
       "    .dataframe tbody tr th {\n",
       "        vertical-align: top;\n",
       "    }\n",
       "\n",
       "    .dataframe thead th {\n",
       "        text-align: right;\n",
       "    }\n",
       "</style>\n",
       "<table border=\"1\" class=\"dataframe\">\n",
       "  <thead>\n",
       "    <tr style=\"text-align: right;\">\n",
       "      <th></th>\n",
       "      <th>Compositie score</th>\n",
       "      <th>Positive Score</th>\n",
       "      <th>Negative Score</th>\n",
       "      <th>Neutral Score</th>\n",
       "    </tr>\n",
       "  </thead>\n",
       "  <tbody>\n",
       "    <tr>\n",
       "      <th>count</th>\n",
       "      <td>216.000000</td>\n",
       "      <td>216.000000</td>\n",
       "      <td>216.000000</td>\n",
       "      <td>216.000000</td>\n",
       "    </tr>\n",
       "    <tr>\n",
       "      <th>mean</th>\n",
       "      <td>0.130722</td>\n",
       "      <td>0.116829</td>\n",
       "      <td>0.090935</td>\n",
       "      <td>0.792241</td>\n",
       "    </tr>\n",
       "    <tr>\n",
       "      <th>std</th>\n",
       "      <td>0.471969</td>\n",
       "      <td>0.136766</td>\n",
       "      <td>0.143392</td>\n",
       "      <td>0.178757</td>\n",
       "    </tr>\n",
       "    <tr>\n",
       "      <th>min</th>\n",
       "      <td>-0.902000</td>\n",
       "      <td>0.000000</td>\n",
       "      <td>0.000000</td>\n",
       "      <td>0.116000</td>\n",
       "    </tr>\n",
       "    <tr>\n",
       "      <th>25%</th>\n",
       "      <td>-0.205925</td>\n",
       "      <td>0.000000</td>\n",
       "      <td>0.000000</td>\n",
       "      <td>0.685750</td>\n",
       "    </tr>\n",
       "    <tr>\n",
       "      <th>50%</th>\n",
       "      <td>0.012900</td>\n",
       "      <td>0.090000</td>\n",
       "      <td>0.000000</td>\n",
       "      <td>0.820500</td>\n",
       "    </tr>\n",
       "    <tr>\n",
       "      <th>75%</th>\n",
       "      <td>0.544200</td>\n",
       "      <td>0.190250</td>\n",
       "      <td>0.119500</td>\n",
       "      <td>0.925250</td>\n",
       "    </tr>\n",
       "    <tr>\n",
       "      <th>max</th>\n",
       "      <td>0.961300</td>\n",
       "      <td>0.884000</td>\n",
       "      <td>0.773000</td>\n",
       "      <td>1.000000</td>\n",
       "    </tr>\n",
       "  </tbody>\n",
       "</table>\n",
       "</div>"
      ],
      "text/plain": [
       "       Compositie score  Positive Score  Negative Score  Neutral Score\n",
       "count        216.000000      216.000000      216.000000     216.000000\n",
       "mean           0.130722        0.116829        0.090935       0.792241\n",
       "std            0.471969        0.136766        0.143392       0.178757\n",
       "min           -0.902000        0.000000        0.000000       0.116000\n",
       "25%           -0.205925        0.000000        0.000000       0.685750\n",
       "50%            0.012900        0.090000        0.000000       0.820500\n",
       "75%            0.544200        0.190250        0.119500       0.925250\n",
       "max            0.961300        0.884000        0.773000       1.000000"
      ]
     },
     "execution_count": 13,
     "metadata": {},
     "output_type": "execute_result"
    }
   ],
   "source": [
    "#View descriptive statistics for comment scores\n",
    "df_comment_sentiment.drop('index', axis=1).describe()"
   ]
  },
  {
   "cell_type": "code",
   "execution_count": 14,
   "id": "0d9cb889-8b87-44de-ab50-44df698ab209",
   "metadata": {},
   "outputs": [
    {
     "data": {
      "image/png": "[encoded data removed]",
      "text/plain": [
       "<Figure size 432x288 with 1 Axes>"
      ]
     },
     "metadata": {
      "needs_background": "light"
     },
     "output_type": "display_data"
    }
   ],
   "source": [
    "#View distribution of sentiment in comments\n",
    "df_comment_sentiment.groupby('Sentiment').size().plot(kind='barh');"
   ]
  },
  {
   "cell_type": "markdown",
   "id": "9f4727fc-da8f-45c2-b747-35d2789fa46a",
   "metadata": {},
   "source": [
    "#### 4. Examine the text for some of the highest and lowest sentiment scores"
   ]
  },
  {
   "cell_type": "code",
   "execution_count": 15,
   "id": "63573e0e-88cb-464d-aecd-828fc244fbfe",
   "metadata": {},
   "outputs": [
    {
     "data": {
      "text/plain": [
       "['WTF would percentage ownership have to do with this? .23% of $500B is $1.15B\\n\\nAm I missing something or is this stupid AF?',\n",
       " 'It depends on your viewpoint.  \\n\\nAs the creator of the block its the moment your machine validates the block.\\n\\nAs other fullnode operators its when their machines validate the block.\\n\\nIn general you would want the block accepted by at least 51% of the network, and have at least one other block built on it.\\n\\nThere is no \"official\" in decentralized & permissionless systems, only \"consensus\".',\n",
       " 'I think you could risk an out of gas error where it fails and you lose gas money',\n",
       " \"ooooh weird it hasn't been processed yet when the gas price was at 200 and you put 33... Bad news for you, probably the tx will fail and you will lose the gas fee used (and you deserve this).\",\n",
       " 'It doesn’t matter if satoshi were to sell, and if there was a dip everyone would be buying it. No one person or entity can control bitcoin so, I don’t give a fuck who satoshi is or whether or not he holds or sell those coins. It’s literally meaningless',\n",
       " 'I expect satoshi to be dead and the private keys/coins to be lost.',\n",
       " \"It's very possible Satoshi died and that's the reason he never sold any or even moved them around. If that's the case that would mean bitcoin is more scarce as a lot of wallets are lost or inaccessible.\",\n",
       " \"What about the fact that eth and vitaliks control over it. He can do whatever he wants sith the block chain. It's not decentralized it's as centralized as it gets. And that Is worse then him holding Lots of coins\",\n",
       " 'Satoshi is dead or lost the keys.\\n Vitalik premimed the supply and sold the top.',\n",
       " 'I hate these posts like how stupid is this']"
      ]
     },
     "execution_count": 15,
     "metadata": {},
     "output_type": "execute_result"
    }
   ],
   "source": [
    "#Lowest sentiment scores\n",
    "df_comment_sentiment.sort_values(by='Compositie score')['text'].to_list()[:10]"
   ]
  },
  {
   "cell_type": "code",
   "execution_count": 16,
   "id": "6a1a92e6-1473-4cb2-a001-25c7dcf1015c",
   "metadata": {},
   "outputs": [
    {
     "data": {
      "text/plain": [
       "['Hi! I recently started working with solidity has a hobbie. Is not my primary language but the semantics are so rich that it doesn’t bother if you coming from a OOP background. If you been programming in Java then solidity is not going to be difficult for you, but you need to understand that smart contracts are not always objects, as you would declare in a Java or c class.\\n\\nHappy to answer more questions if so, I’m not expert but somehow we can help each other :)',\n",
       " 'Go read something and listen to a few podcasts.  Or better yet, buy a small amount of the top ten currencies and try to use them and do things with them and come to your own conclusions about their strengths and weaknesses.  If you can afford to burn a couple hundred dollars moving stuff around and experimenting it’s the best education on the subject that you can buy.  You’ll have answers to all of your questions by the time you are done.  A lot of people holding these things are just investors / gamblers not actual users, so there’s a lot they won’t know because they simply haven’t done it they’ve just heard other people talk about it.  Gain first hand experience using these networks and you’ll have an edge over 90% of the people in crypto.',\n",
       " 'I’m somewhat new to crypto but my thoughts are that until Ethereum gas prices go down I just can’t use it to its full potential, but I know that days soon, so I’m getting ready for it. \\n\\nUntil then, bitcoin is the pioneer that inspired ethereum. So I can’t complain about Satoshi making whatever profit he might have made. \\n\\nHe started this, give him some success and anonymity, that’s all he seems to want.',\n",
       " 'And this is what we have in store for mainstream? Would not last...too many issues too many hacks..too many cross your fingers and hope it got there....i know crypto still fairly young but the original use case is out the door...now it seems the rich getting richer and us poor folks still getting stepped on...sounds familiar because it is....nothing in this sad world ever have poor people best interest....if its started by a poor person then that poor person suddenly becomes rich and now looks down on the same people they vowed to help....then other rich people join in and find ways to step on more poor people by promising riches but only think about themselves...nothing will change until poor people stop living the lie of becoming rich.....state lottos are another example.....system not set up for us to become rich....i mean someone has to supply the rich with money......',\n",
       " 'And this is what we have in store for mainstream? Would not last...too many issues too many hacks..too many cross your fingers and hope it got there....i know crypto still fairly young but the original use case is out the door...now it seems the rich getting richer and us poor folks still getting stepped on...sounds familiar because it is....nothing in this sad world ever have poor people best interest....if its started by a poor person then that poor person suddenly becomes rich and now looks down on the same people they vowed to help....then other rich people join in and find ways to step on more poor people by promising riches but only think about themselves...nothing will change until poor people stop living the lie of becoming rich.....state lottos are another example.....system not set up for us to become rich....i mean someone has to supply the rich with money......',\n",
       " \"I think the market will buy all the coins. Sure we dip but will recover! Don't think Satoshi will touch it, or maybe when he becomes the richest man in the world... But I'm sure he has other unknown wallets and is living of that! No worries if you ask me! He did not start this to f it up. Same for Vitalik.\",\n",
       " 'If something like that happened, I would just like to text Satoshi and tell them they are a great person and I hope they are doing fine.',\n",
       " \"Scammers exist inside and outside crypto space: a 'too good to be true' scheme should raise flags whether it's a YouTuber or an ICO. An obvious signal is  tokenization: if the service can/will work without tokens or tokens serve no real purpose, steer clear of it. In a dark forest it's called not taking the bait in a obvious trap. The other trick is to realize most of the so-called innovations are repackaging of already existing financial sector services. What is crypto currency doing better than using a credit card? What is left is utility class Dapps and onboarding that really benefit a use case. Look at Gnosis applications, escrow and voting contracts for instance, read Solidity code instead of landing page handwaving marketing campaigns.\",\n",
       " 'The only way Eth survives and becomes the leader is lower gas fees.  As long as the miners are steering, that is not going to happen.  Eth is doomed.   \\n\\nThe final currency will be a low cost but secure chain supporting real value stable coin.  Dont be surprised if the EV, rocket science, brain AI, Joker is right.  What if its Doge with a stable coin?   Eth and BTC to zero.',\n",
       " '> The Most Trusted Crypto Trading Platform\\n\\nBitMarts twitter bio. They are laughing all the way to the bank :D']"
      ]
     },
     "execution_count": 16,
     "metadata": {},
     "output_type": "execute_result"
    }
   ],
   "source": [
    "#Highest sentiment scores\n",
    "df_comment_sentiment.sort_values(by='Compositie score', ascending=False)['text'].to_list()[:10]"
   ]
  },
  {
   "cell_type": "markdown",
   "id": "c93e84be-689b-4556-ac2c-259d210345aa",
   "metadata": {},
   "source": [
    "### Compare Vader to TextBlob"
   ]
  },
  {
   "cell_type": "code",
   "execution_count": 17,
   "id": "5a8d35f1-c539-484f-917c-4eb9deb5d90d",
   "metadata": {},
   "outputs": [
    {
     "name": "stderr",
     "output_type": "stream",
     "text": [
      "C:\\Users\\jwkon\\AppData\\Local\\Temp/ipykernel_4808/691044810.py:6: SettingWithCopyWarning: \n",
      "A value is trying to be set on a copy of a slice from a DataFrame.\n",
      "Try using .loc[row_indexer,col_indexer] = value instead\n",
      "\n",
      "See the caveats in the documentation: https://pandas.pydata.org/pandas-docs/stable/user_guide/indexing.html#returning-a-view-versus-a-copy\n",
      "  df_comment_sentiment['Score_tb'] = df_comment_sentiment['text'].apply(get_tb_sentiment)\n"
     ]
    }
   ],
   "source": [
    "def get_tb_sentiment(text):\n",
    "    tb = TextBlob(text)\n",
    "    return tb.sentiment[0]\n",
    "\n",
    "#Perform analysis on text column using TextBlob\n",
    "df_comment_sentiment['Score_tb'] = df_comment_sentiment['text'].apply(get_tb_sentiment)"
   ]
  },
  {
   "cell_type": "code",
   "execution_count": 19,
   "id": "5ca883ad-9f0f-46eb-8e03-458725ab6650",
   "metadata": {},
   "outputs": [
    {
     "data": {
      "text/html": [
       "<div>\n",
       "<style scoped>\n",
       "    .dataframe tbody tr th:only-of-type {\n",
       "        vertical-align: middle;\n",
       "    }\n",
       "\n",
       "    .dataframe tbody tr th {\n",
       "        vertical-align: top;\n",
       "    }\n",
       "\n",
       "    .dataframe thead th {\n",
       "        text-align: right;\n",
       "    }\n",
       "</style>\n",
       "<table border=\"1\" class=\"dataframe\">\n",
       "  <thead>\n",
       "    <tr style=\"text-align: right;\">\n",
       "      <th></th>\n",
       "      <th>index</th>\n",
       "      <th>text</th>\n",
       "      <th>Compositie score</th>\n",
       "      <th>Positive Score</th>\n",
       "      <th>Negative Score</th>\n",
       "      <th>Neutral Score</th>\n",
       "      <th>Sentiment</th>\n",
       "      <th>Score_tb</th>\n",
       "    </tr>\n",
       "  </thead>\n",
       "  <tbody>\n",
       "    <tr>\n",
       "      <th>0</th>\n",
       "      <td>0</td>\n",
       "      <td>If I only had 100 ETH to donate lmao</td>\n",
       "      <td>0.5994</td>\n",
       "      <td>0.328</td>\n",
       "      <td>0.0</td>\n",
       "      <td>0.672</td>\n",
       "      <td>Positive Score</td>\n",
       "      <td>0.300000</td>\n",
       "    </tr>\n",
       "    <tr>\n",
       "      <th>1</th>\n",
       "      <td>1</td>\n",
       "      <td>Could have almost bought a pardon a year ago w...</td>\n",
       "      <td>0.2585</td>\n",
       "      <td>0.145</td>\n",
       "      <td>0.0</td>\n",
       "      <td>0.855</td>\n",
       "      <td>Neutral Score</td>\n",
       "      <td>0.000000</td>\n",
       "    </tr>\n",
       "    <tr>\n",
       "      <th>2</th>\n",
       "      <td>2</td>\n",
       "      <td>Of all the valid objects of sympathy out there...</td>\n",
       "      <td>0.3612</td>\n",
       "      <td>0.172</td>\n",
       "      <td>0.0</td>\n",
       "      <td>0.828</td>\n",
       "      <td>Positive Score</td>\n",
       "      <td>0.000000</td>\n",
       "    </tr>\n",
       "    <tr>\n",
       "      <th>3</th>\n",
       "      <td>3</td>\n",
       "      <td>I mean clearly Vitalik would make less of an i...</td>\n",
       "      <td>0.4019</td>\n",
       "      <td>0.213</td>\n",
       "      <td>0.0</td>\n",
       "      <td>0.787</td>\n",
       "      <td>Positive Score</td>\n",
       "      <td>-0.094792</td>\n",
       "    </tr>\n",
       "    <tr>\n",
       "      <th>4</th>\n",
       "      <td>4</td>\n",
       "      <td>For context: Jeff Bezos owns 10% of Amazon.  Z...</td>\n",
       "      <td>0.6557</td>\n",
       "      <td>0.137</td>\n",
       "      <td>0.0</td>\n",
       "      <td>0.863</td>\n",
       "      <td>Positive Score</td>\n",
       "      <td>-0.006111</td>\n",
       "    </tr>\n",
       "  </tbody>\n",
       "</table>\n",
       "</div>"
      ],
      "text/plain": [
       "   index                                               text  Compositie score  \\\n",
       "0      0               If I only had 100 ETH to donate lmao            0.5994   \n",
       "1      1  Could have almost bought a pardon a year ago w...            0.2585   \n",
       "2      2  Of all the valid objects of sympathy out there...            0.3612   \n",
       "3      3  I mean clearly Vitalik would make less of an i...            0.4019   \n",
       "4      4  For context: Jeff Bezos owns 10% of Amazon.  Z...            0.6557   \n",
       "\n",
       "   Positive Score  Negative Score  Neutral Score       Sentiment  Score_tb  \n",
       "0           0.328             0.0          0.672  Positive Score  0.300000  \n",
       "1           0.145             0.0          0.855   Neutral Score  0.000000  \n",
       "2           0.172             0.0          0.828  Positive Score  0.000000  \n",
       "3           0.213             0.0          0.787  Positive Score -0.094792  \n",
       "4           0.137             0.0          0.863  Positive Score -0.006111  "
      ]
     },
     "execution_count": 19,
     "metadata": {},
     "output_type": "execute_result"
    }
   ],
   "source": [
    "df_comment_sentiment.head()"
   ]
  },
  {
   "cell_type": "code",
   "execution_count": 20,
   "id": "0881e23d-f467-45ca-8f2a-271e9ebd4ada",
   "metadata": {},
   "outputs": [
    {
     "name": "stderr",
     "output_type": "stream",
     "text": [
      "C:\\Users\\jwkon\\AppData\\Local\\Temp/ipykernel_4808/2633099374.py:17: SettingWithCopyWarning: \n",
      "A value is trying to be set on a copy of a slice from a DataFrame.\n",
      "Try using .loc[row_indexer,col_indexer] = value instead\n",
      "\n",
      "See the caveats in the documentation: https://pandas.pydata.org/pandas-docs/stable/user_guide/indexing.html#returning-a-view-versus-a-copy\n",
      "  df_comment_sentiment['Sentiment_tb'] = my_prediction\n"
     ]
    }
   ],
   "source": [
    "i=0 #reset counter for loop\n",
    "\n",
    "my_prediction = [ ] \n",
    "\n",
    "while (i<len(df_comment_sentiment)):\n",
    "    if ((df_comment_sentiment.iloc[i]['Score_tb'] >= 0.3)):\n",
    "        my_prediction.append('Positive Score')\n",
    "    elif ((df_comment_sentiment.iloc[i]['Score_tb'] >= 0) & (df_comment_sentiment.iloc[i]['Score_tb'] < 0.3)):\n",
    "        my_prediction.append('Neutral Score')\n",
    "    elif ((df_comment_sentiment.iloc[i]['Score_tb'] < 0)):\n",
    "        my_prediction.append('Negative Score') \n",
    "\n",
    "    i = i+1\n",
    "    \n",
    "df_comment_sentiment['Sentiment_tb'] = my_prediction\n",
    "\n",
    "\n",
    "#Create dataframe for only text and sentiment columns\n",
    "df_comment_complete_sentiment = df_comment_sentiment[['text', 'Sentiment', 'Sentiment_tb']]\n",
    "df_comment_complete_scores = df_comment_sentiment[['text', 'Compositie score', 'Score_tb']]"
   ]
  },
  {
   "cell_type": "code",
   "execution_count": 23,
   "id": "d3c5c6e2-c68b-40b9-8e6c-dfbaf289bc6b",
   "metadata": {},
   "outputs": [
    {
     "data": {
      "text/html": [
       "<div>\n",
       "<style scoped>\n",
       "    .dataframe tbody tr th:only-of-type {\n",
       "        vertical-align: middle;\n",
       "    }\n",
       "\n",
       "    .dataframe tbody tr th {\n",
       "        vertical-align: top;\n",
       "    }\n",
       "\n",
       "    .dataframe thead th {\n",
       "        text-align: right;\n",
       "    }\n",
       "</style>\n",
       "<table border=\"1\" class=\"dataframe\">\n",
       "  <thead>\n",
       "    <tr style=\"text-align: right;\">\n",
       "      <th></th>\n",
       "      <th>text</th>\n",
       "      <th>Sentiment</th>\n",
       "      <th>Sentiment_tb</th>\n",
       "    </tr>\n",
       "  </thead>\n",
       "  <tbody>\n",
       "    <tr>\n",
       "      <th>0</th>\n",
       "      <td>If I only had 100 ETH to donate lmao</td>\n",
       "      <td>Positive Score</td>\n",
       "      <td>Positive Score</td>\n",
       "    </tr>\n",
       "    <tr>\n",
       "      <th>1</th>\n",
       "      <td>Could have almost bought a pardon a year ago w...</td>\n",
       "      <td>Neutral Score</td>\n",
       "      <td>Neutral Score</td>\n",
       "    </tr>\n",
       "    <tr>\n",
       "      <th>2</th>\n",
       "      <td>Of all the valid objects of sympathy out there...</td>\n",
       "      <td>Positive Score</td>\n",
       "      <td>Neutral Score</td>\n",
       "    </tr>\n",
       "    <tr>\n",
       "      <th>3</th>\n",
       "      <td>I mean clearly Vitalik would make less of an i...</td>\n",
       "      <td>Positive Score</td>\n",
       "      <td>Negative Score</td>\n",
       "    </tr>\n",
       "    <tr>\n",
       "      <th>4</th>\n",
       "      <td>For context: Jeff Bezos owns 10% of Amazon.  Z...</td>\n",
       "      <td>Positive Score</td>\n",
       "      <td>Negative Score</td>\n",
       "    </tr>\n",
       "  </tbody>\n",
       "</table>\n",
       "</div>"
      ],
      "text/plain": [
       "                                                text       Sentiment  \\\n",
       "0               If I only had 100 ETH to donate lmao  Positive Score   \n",
       "1  Could have almost bought a pardon a year ago w...   Neutral Score   \n",
       "2  Of all the valid objects of sympathy out there...  Positive Score   \n",
       "3  I mean clearly Vitalik would make less of an i...  Positive Score   \n",
       "4  For context: Jeff Bezos owns 10% of Amazon.  Z...  Positive Score   \n",
       "\n",
       "     Sentiment_tb  \n",
       "0  Positive Score  \n",
       "1   Neutral Score  \n",
       "2   Neutral Score  \n",
       "3  Negative Score  \n",
       "4  Negative Score  "
      ]
     },
     "execution_count": 23,
     "metadata": {},
     "output_type": "execute_result"
    }
   ],
   "source": [
    "#Preview sentiment dataframe\n",
    "df_comment_complete_sentiment.head()"
   ]
  },
  {
   "cell_type": "markdown",
   "id": "1806d9c7-4330-4c92-bf0a-0d37b50239fc",
   "metadata": {},
   "source": [
    "#### Compare VADER and TextBlob scores"
   ]
  },
  {
   "cell_type": "code",
   "execution_count": 24,
   "id": "39d50b6e-c67a-46bf-941e-83679c7763b6",
   "metadata": {},
   "outputs": [
    {
     "data": {
      "text/html": [
       "<div>\n",
       "<style scoped>\n",
       "    .dataframe tbody tr th:only-of-type {\n",
       "        vertical-align: middle;\n",
       "    }\n",
       "\n",
       "    .dataframe tbody tr th {\n",
       "        vertical-align: top;\n",
       "    }\n",
       "\n",
       "    .dataframe thead th {\n",
       "        text-align: right;\n",
       "    }\n",
       "</style>\n",
       "<table border=\"1\" class=\"dataframe\">\n",
       "  <thead>\n",
       "    <tr style=\"text-align: right;\">\n",
       "      <th></th>\n",
       "      <th>Compositie score</th>\n",
       "      <th>Score_tb</th>\n",
       "    </tr>\n",
       "  </thead>\n",
       "  <tbody>\n",
       "    <tr>\n",
       "      <th>count</th>\n",
       "      <td>216.000000</td>\n",
       "      <td>216.000000</td>\n",
       "    </tr>\n",
       "    <tr>\n",
       "      <th>mean</th>\n",
       "      <td>0.130722</td>\n",
       "      <td>0.045379</td>\n",
       "    </tr>\n",
       "    <tr>\n",
       "      <th>std</th>\n",
       "      <td>0.471969</td>\n",
       "      <td>0.281117</td>\n",
       "    </tr>\n",
       "    <tr>\n",
       "      <th>min</th>\n",
       "      <td>-0.902000</td>\n",
       "      <td>-1.000000</td>\n",
       "    </tr>\n",
       "    <tr>\n",
       "      <th>25%</th>\n",
       "      <td>-0.205925</td>\n",
       "      <td>-0.016964</td>\n",
       "    </tr>\n",
       "    <tr>\n",
       "      <th>50%</th>\n",
       "      <td>0.012900</td>\n",
       "      <td>0.000000</td>\n",
       "    </tr>\n",
       "    <tr>\n",
       "      <th>75%</th>\n",
       "      <td>0.544200</td>\n",
       "      <td>0.185417</td>\n",
       "    </tr>\n",
       "    <tr>\n",
       "      <th>max</th>\n",
       "      <td>0.961300</td>\n",
       "      <td>1.000000</td>\n",
       "    </tr>\n",
       "  </tbody>\n",
       "</table>\n",
       "</div>"
      ],
      "text/plain": [
       "       Compositie score    Score_tb\n",
       "count        216.000000  216.000000\n",
       "mean           0.130722    0.045379\n",
       "std            0.471969    0.281117\n",
       "min           -0.902000   -1.000000\n",
       "25%           -0.205925   -0.016964\n",
       "50%            0.012900    0.000000\n",
       "75%            0.544200    0.185417\n",
       "max            0.961300    1.000000"
      ]
     },
     "execution_count": 24,
     "metadata": {},
     "output_type": "execute_result"
    }
   ],
   "source": [
    "#Descriptive statistics\n",
    "df_comment_complete_scores.describe()"
   ]
  },
  {
   "cell_type": "code",
   "execution_count": 26,
   "id": "9fcc6bca-9c9a-4bca-92c9-3d4a6f4db86f",
   "metadata": {},
   "outputs": [
    {
     "data": {
      "image/png": "[encoded data removed]",
      "text/plain": [
       "<Figure size 432x288 with 1 Axes>"
      ]
     },
     "metadata": {
      "needs_background": "light"
     },
     "output_type": "display_data"
    }
   ],
   "source": [
    "#View distribution of sentiment values from VADER\n",
    "df_comment_complete_sentiment.groupby('Sentiment').size().plot(kind='barh');"
   ]
  },
  {
   "cell_type": "code",
   "execution_count": 27,
   "id": "61a5d0bc-9468-4449-8af3-5cf115e7bfea",
   "metadata": {},
   "outputs": [
    {
     "data": {
      "image/png": "[encoded data removed]",
      "text/plain": [
       "<Figure size 432x288 with 1 Axes>"
      ]
     },
     "metadata": {
      "needs_background": "light"
     },
     "output_type": "display_data"
    }
   ],
   "source": [
    "#View distribution of sentiment values from TextBlob\n",
    "df_comment_complete_sentiment.groupby('Sentiment_tb').size().plot(kind='barh');"
   ]
  },
  {
   "cell_type": "markdown",
   "id": "236f9eda",
   "metadata": {},
   "source": [
    "# Summary"
   ]
  },
  {
   "cell_type": "markdown",
   "id": "c7d6282c",
   "metadata": {},
   "source": [
    "Analyzing the Ethereum subreddit data was easier than gathering the data. I’ve done a sentiment analysis in the past but was continually faced with data structure-related issues; this was not the case for this assignment. The process was straightforward, and I encountered very few errors. The results matched my expectations as the market had a particularly volatile week. Still, the price of ETH (Ethereum’s main asset) held up comparatively well. The bar chart of comment sentiment showed a higher count of positive sentiment. When looking at the comments with the lowest sentiment, they appeared not to be directed toward ETH but on other blockchain ecosystems. \n",
    "I compared VADER to TextBlob, and the TextBlob results showed a very high count for Neutral sentiment values while Positive values were the lowest. If I had been doing this for a client or a project I’m working on, I would rely on VADER to analyze my data since the results aligned more with what I saw in the text. We could use this data to gauge market conditions, specifically for a specific asset, to view the sentiment within a single ecosystem when investor anxiety is high. \n"
   ]
  },
  {
   "cell_type": "code",
   "execution_count": null,
   "id": "c835700d-f866-4fc6-bbf0-b829d03ff7d9",
   "metadata": {},
   "outputs": [],
   "source": []
  }
 ],
 "metadata": {
  "kernelspec": {
   "display_name": "Python 3",
   "language": "python",
   "name": "python3"
  },
  "language_info": {
   "codemirror_mode": {
    "name": "ipython",
    "version": 3
   },
   "file_extension": ".py",
   "mimetype": "text/x-python",
   "name": "python",
   "nbconvert_exporter": "python",
   "pygments_lexer": "ipython3",
   "version": "3.10.1"
  }
 },
 "nbformat": 4,
 "nbformat_minor": 5
}
