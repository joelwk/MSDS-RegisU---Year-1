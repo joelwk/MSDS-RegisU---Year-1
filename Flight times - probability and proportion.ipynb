{
 "cells": [
  {
   "cell_type": "markdown",
   "metadata": {
    "tags": []
   },
   "source": [
    "- Joel Konitzer\n",
    "- 3/20/2022\n",
    "- Week 2 / Probability and Proportion\n",
    "- Data Analytics"
   ]
  },
  {
   "cell_type": "markdown",
   "metadata": {},
   "source": [
    "I. Introduction: The purpose of this analysis is to generate analytics from histoircal flight data in order to deteremine the prerfered airport to depart from. The data has been cleaned and preped for this analysis, and each row represents unique flight information. By applying python functions to calcuatie the proportion, probability, mean, and standard deviation of each airport, based on hsistorical flight data, we should be able to determine our departing flight."
   ]
  },
  {
   "cell_type": "markdown",
   "metadata": {},
   "source": [
    "*II. Methods & Code **III. Results/Output ***IV. Analysis of Results"
   ]
  },
  {
   "cell_type": "code",
   "execution_count": 355,
   "metadata": {},
   "outputs": [],
   "source": [
    "import pandas as pd\n",
    "import numpy as np"
   ]
  },
  {
   "cell_type": "code",
   "execution_count": 378,
   "metadata": {},
   "outputs": [],
   "source": [
    "df = pd.read_csv('Data/flights_clean.csv')"
   ]
  },
  {
   "cell_type": "code",
   "execution_count": 379,
   "metadata": {},
   "outputs": [
    {
     "data": {
      "text/html": [
       "<div>\n",
       "<style scoped>\n",
       "    .dataframe tbody tr th:only-of-type {\n",
       "        vertical-align: middle;\n",
       "    }\n",
       "\n",
       "    .dataframe tbody tr th {\n",
       "        vertical-align: top;\n",
       "    }\n",
       "\n",
       "    .dataframe thead th {\n",
       "        text-align: right;\n",
       "    }\n",
       "</style>\n",
       "<table border=\"1\" class=\"dataframe\">\n",
       "  <thead>\n",
       "    <tr style=\"text-align: right;\">\n",
       "      <th></th>\n",
       "      <th>year</th>\n",
       "      <th>month</th>\n",
       "      <th>day</th>\n",
       "      <th>day_of_week</th>\n",
       "      <th>airline</th>\n",
       "      <th>flight_number</th>\n",
       "      <th>origin_airport</th>\n",
       "      <th>destination_airport</th>\n",
       "      <th>scheduled_departure</th>\n",
       "      <th>departure_time</th>\n",
       "      <th>departure_delay</th>\n",
       "      <th>scheduled_time</th>\n",
       "      <th>elapsed_time</th>\n",
       "      <th>scheduled_arrival</th>\n",
       "      <th>arrival_time</th>\n",
       "      <th>arrival_delay</th>\n",
       "      <th>diverted</th>\n",
       "      <th>cancelled</th>\n",
       "    </tr>\n",
       "  </thead>\n",
       "  <tbody>\n",
       "    <tr>\n",
       "      <th>0</th>\n",
       "      <td>2015</td>\n",
       "      <td>1</td>\n",
       "      <td>1</td>\n",
       "      <td>4</td>\n",
       "      <td>AS</td>\n",
       "      <td>98</td>\n",
       "      <td>ANC</td>\n",
       "      <td>SEA</td>\n",
       "      <td>5</td>\n",
       "      <td>2354.0</td>\n",
       "      <td>-11.0</td>\n",
       "      <td>205.0</td>\n",
       "      <td>194.0</td>\n",
       "      <td>430</td>\n",
       "      <td>408.0</td>\n",
       "      <td>-22.0</td>\n",
       "      <td>0</td>\n",
       "      <td>0</td>\n",
       "    </tr>\n",
       "    <tr>\n",
       "      <th>1</th>\n",
       "      <td>2015</td>\n",
       "      <td>1</td>\n",
       "      <td>1</td>\n",
       "      <td>4</td>\n",
       "      <td>AA</td>\n",
       "      <td>2336</td>\n",
       "      <td>LAX</td>\n",
       "      <td>PBI</td>\n",
       "      <td>10</td>\n",
       "      <td>2.0</td>\n",
       "      <td>-8.0</td>\n",
       "      <td>280.0</td>\n",
       "      <td>279.0</td>\n",
       "      <td>750</td>\n",
       "      <td>741.0</td>\n",
       "      <td>-9.0</td>\n",
       "      <td>0</td>\n",
       "      <td>0</td>\n",
       "    </tr>\n",
       "    <tr>\n",
       "      <th>2</th>\n",
       "      <td>2015</td>\n",
       "      <td>1</td>\n",
       "      <td>1</td>\n",
       "      <td>4</td>\n",
       "      <td>US</td>\n",
       "      <td>840</td>\n",
       "      <td>SFO</td>\n",
       "      <td>CLT</td>\n",
       "      <td>20</td>\n",
       "      <td>18.0</td>\n",
       "      <td>-2.0</td>\n",
       "      <td>286.0</td>\n",
       "      <td>293.0</td>\n",
       "      <td>806</td>\n",
       "      <td>811.0</td>\n",
       "      <td>5.0</td>\n",
       "      <td>0</td>\n",
       "      <td>0</td>\n",
       "    </tr>\n",
       "    <tr>\n",
       "      <th>3</th>\n",
       "      <td>2015</td>\n",
       "      <td>1</td>\n",
       "      <td>1</td>\n",
       "      <td>4</td>\n",
       "      <td>AA</td>\n",
       "      <td>258</td>\n",
       "      <td>LAX</td>\n",
       "      <td>MIA</td>\n",
       "      <td>20</td>\n",
       "      <td>15.0</td>\n",
       "      <td>-5.0</td>\n",
       "      <td>285.0</td>\n",
       "      <td>281.0</td>\n",
       "      <td>805</td>\n",
       "      <td>756.0</td>\n",
       "      <td>-9.0</td>\n",
       "      <td>0</td>\n",
       "      <td>0</td>\n",
       "    </tr>\n",
       "    <tr>\n",
       "      <th>4</th>\n",
       "      <td>2015</td>\n",
       "      <td>1</td>\n",
       "      <td>1</td>\n",
       "      <td>4</td>\n",
       "      <td>AS</td>\n",
       "      <td>135</td>\n",
       "      <td>SEA</td>\n",
       "      <td>ANC</td>\n",
       "      <td>25</td>\n",
       "      <td>24.0</td>\n",
       "      <td>-1.0</td>\n",
       "      <td>235.0</td>\n",
       "      <td>215.0</td>\n",
       "      <td>320</td>\n",
       "      <td>259.0</td>\n",
       "      <td>-21.0</td>\n",
       "      <td>0</td>\n",
       "      <td>0</td>\n",
       "    </tr>\n",
       "  </tbody>\n",
       "</table>\n",
       "</div>"
      ],
      "text/plain": [
       "   year  month  day  day_of_week airline  flight_number origin_airport  \\\n",
       "0  2015      1    1            4      AS             98            ANC   \n",
       "1  2015      1    1            4      AA           2336            LAX   \n",
       "2  2015      1    1            4      US            840            SFO   \n",
       "3  2015      1    1            4      AA            258            LAX   \n",
       "4  2015      1    1            4      AS            135            SEA   \n",
       "\n",
       "  destination_airport  scheduled_departure  departure_time  departure_delay  \\\n",
       "0                 SEA                    5          2354.0            -11.0   \n",
       "1                 PBI                   10             2.0             -8.0   \n",
       "2                 CLT                   20            18.0             -2.0   \n",
       "3                 MIA                   20            15.0             -5.0   \n",
       "4                 ANC                   25            24.0             -1.0   \n",
       "\n",
       "   scheduled_time  elapsed_time  scheduled_arrival  arrival_time  \\\n",
       "0           205.0         194.0                430         408.0   \n",
       "1           280.0         279.0                750         741.0   \n",
       "2           286.0         293.0                806         811.0   \n",
       "3           285.0         281.0                805         756.0   \n",
       "4           235.0         215.0                320         259.0   \n",
       "\n",
       "   arrival_delay  diverted  cancelled  \n",
       "0          -22.0         0          0  \n",
       "1           -9.0         0          0  \n",
       "2            5.0         0          0  \n",
       "3           -9.0         0          0  \n",
       "4          -21.0         0          0  "
      ]
     },
     "execution_count": 379,
     "metadata": {},
     "output_type": "execute_result"
    }
   ],
   "source": [
    "#Preview dataframe\n",
    "df.head()"
   ]
  },
  {
   "cell_type": "code",
   "execution_count": 380,
   "metadata": {},
   "outputs": [
    {
     "name": "stdout",
     "output_type": "stream",
     "text": [
      "                      Null     type\n",
      "year                 False    int64\n",
      "month                False    int64\n",
      "day                  False    int64\n",
      "day_of_week          False    int64\n",
      "airline              False   object\n",
      "flight_number        False    int64\n",
      "origin_airport       False   object\n",
      "destination_airport  False   object\n",
      "scheduled_departure  False    int64\n",
      "departure_time       False  float64\n",
      "departure_delay      False  float64\n",
      "scheduled_time        True  float64\n",
      "elapsed_time          True  float64\n",
      "scheduled_arrival    False    int64\n",
      "arrival_time          True  float64\n",
      "arrival_delay        False  float64\n",
      "diverted             False    int64\n",
      "cancelled            False    int64\n",
      "======================================================\n",
      "Dataframe shape: (5245484, 18)\n"
     ]
    }
   ],
   "source": [
    "#Create two value pairs from df to identify the datatypes and null values\n",
    "null_ = df.isna().any()\n",
    "dtypes = df.dtypes\n",
    "info = pd.concat([null_,dtypes], axis=1,keys=['Null','type'])\n",
    "print(info)\n",
    "print('======================================================')\n",
    "#View dataframe shape\n",
    "print(\"Dataframe shape:\", df.shape)"
   ]
  },
  {
   "cell_type": "code",
   "execution_count": 381,
   "metadata": {},
   "outputs": [],
   "source": [
    "#Create new dataframe that filters for delayed flights\n",
    "delayed = df[df.arrival_delay > 0].groupby('origin_airport')['arrival_delay'].count().reset_index()\n",
    "delayed['Total_Delayed'] = delayed.arrival_delay.sum()"
   ]
  },
  {
   "cell_type": "markdown",
   "metadata": {},
   "source": [
    "1. Determine the originaing airport with the largest proportion of flights arriving late to their destination. Do the same for the airport with the smallest proportion."
   ]
  },
  {
   "cell_type": "code",
   "execution_count": 382,
   "metadata": {},
   "outputs": [
    {
     "data": {
      "text/html": [
       "<div>\n",
       "<style scoped>\n",
       "    .dataframe tbody tr th:only-of-type {\n",
       "        vertical-align: middle;\n",
       "    }\n",
       "\n",
       "    .dataframe tbody tr th {\n",
       "        vertical-align: top;\n",
       "    }\n",
       "\n",
       "    .dataframe thead th {\n",
       "        text-align: right;\n",
       "    }\n",
       "</style>\n",
       "<table border=\"1\" class=\"dataframe\">\n",
       "  <thead>\n",
       "    <tr style=\"text-align: right;\">\n",
       "      <th></th>\n",
       "      <th>origin_airport</th>\n",
       "      <th>arrival_delay</th>\n",
       "      <th>Total_Delayed</th>\n",
       "      <th>Delayed_Prop</th>\n",
       "    </tr>\n",
       "  </thead>\n",
       "  <tbody>\n",
       "    <tr>\n",
       "      <th>20</th>\n",
       "      <td>ATL</td>\n",
       "      <td>115034</td>\n",
       "      <td>1947990</td>\n",
       "      <td>0.059053</td>\n",
       "    </tr>\n",
       "  </tbody>\n",
       "</table>\n",
       "</div>"
      ],
      "text/plain": [
       "   origin_airport  arrival_delay  Total_Delayed  Delayed_Prop\n",
       "20            ATL         115034        1947990      0.059053"
      ]
     },
     "execution_count": 382,
     "metadata": {},
     "output_type": "execute_result"
    }
   ],
   "source": [
    "#Calculate the airport with the highest proportion of delayed flights\n",
    "delayed['Delayed_Prop'] = delayed.arrival_delay / delayed.Total_Delayed\n",
    "delayed.sort_values('Delayed_Prop', ascending=False).head(1)"
   ]
  },
  {
   "cell_type": "markdown",
   "metadata": {},
   "source": [
    "* The originating airport with the highest proportion of delayed flights is ATL with a total of 5% of their flights being delayed."
   ]
  },
  {
   "cell_type": "markdown",
   "metadata": {},
   "source": [
    "1b. do the same for the airport with the smallest proportion."
   ]
  },
  {
   "cell_type": "code",
   "execution_count": 383,
   "metadata": {},
   "outputs": [
    {
     "data": {
      "text/html": [
       "<div>\n",
       "<style scoped>\n",
       "    .dataframe tbody tr th:only-of-type {\n",
       "        vertical-align: middle;\n",
       "    }\n",
       "\n",
       "    .dataframe tbody tr th {\n",
       "        vertical-align: top;\n",
       "    }\n",
       "\n",
       "    .dataframe thead th {\n",
       "        text-align: right;\n",
       "    }\n",
       "</style>\n",
       "<table border=\"1\" class=\"dataframe\">\n",
       "  <thead>\n",
       "    <tr style=\"text-align: right;\">\n",
       "      <th></th>\n",
       "      <th>origin_airport</th>\n",
       "      <th>arrival_delay</th>\n",
       "      <th>Total_Delayed</th>\n",
       "      <th>Delayed_Prop</th>\n",
       "    </tr>\n",
       "  </thead>\n",
       "  <tbody>\n",
       "    <tr>\n",
       "      <th>70</th>\n",
       "      <td>CNY</td>\n",
       "      <td>8</td>\n",
       "      <td>1947990</td>\n",
       "      <td>0.000004</td>\n",
       "    </tr>\n",
       "  </tbody>\n",
       "</table>\n",
       "</div>"
      ],
      "text/plain": [
       "   origin_airport  arrival_delay  Total_Delayed  Delayed_Prop\n",
       "70            CNY              8        1947990      0.000004"
      ]
     },
     "execution_count": 383,
     "metadata": {},
     "output_type": "execute_result"
    }
   ],
   "source": [
    "#Calculate the airport with the lowest proportion of delayed flights\n",
    "delayed.sort_values('Delayed_Prop', ascending=True).head(1)"
   ]
  },
  {
   "cell_type": "markdown",
   "metadata": {},
   "source": [
    "* The originating airport with the highest proportion of delayed flights is CNY with a total of 0.00004% of their flights being delayed."
   ]
  },
  {
   "cell_type": "markdown",
   "metadata": {
    "tags": []
   },
   "source": [
    "2. What is the probablity a flight leaving from a given airport will arrive at its destination late?\n",
    "- Hint: Calculate the probablity of late arrival at destination for each originating airport."
   ]
  },
  {
   "cell_type": "code",
   "execution_count": 384,
   "metadata": {},
   "outputs": [],
   "source": [
    "delayed = df[df.arrival_delay > 0].groupby('origin_airport')['arrival_delay'].count()\n",
    "groupedbyFlight = df.groupby('origin_airport')['arrival_delay'].count()"
   ]
  },
  {
   "cell_type": "code",
   "execution_count": 385,
   "metadata": {},
   "outputs": [],
   "source": [
    "#Calculation the probability of delayed arrival flights \n",
    "df_prob = delayed / groupedbyFlight\n",
    "df_prob = df_prob.reset_index().sort_values('arrival_delay', ascending=False)\n",
    "cols = ['Origin_Airport','Prob_ArriveLate']\n",
    "df_prob.columns = cols"
   ]
  },
  {
   "cell_type": "code",
   "execution_count": 386,
   "metadata": {},
   "outputs": [
    {
     "name": "stdout",
     "output_type": "stream",
     "text": [
      "==============================================================================================================\n",
      "Total average probability of a flight leaving from a given airport will arrive at its destination late:  0.346\n",
      "==============================================================================================================\n"
     ]
    },
    {
     "data": {
      "text/html": [
       "<div>\n",
       "<style scoped>\n",
       "    .dataframe tbody tr th:only-of-type {\n",
       "        vertical-align: middle;\n",
       "    }\n",
       "\n",
       "    .dataframe tbody tr th {\n",
       "        vertical-align: top;\n",
       "    }\n",
       "\n",
       "    .dataframe thead th {\n",
       "        text-align: right;\n",
       "    }\n",
       "</style>\n",
       "<table border=\"1\" class=\"dataframe\">\n",
       "  <thead>\n",
       "    <tr style=\"text-align: right;\">\n",
       "      <th></th>\n",
       "      <th>Origin_Airport</th>\n",
       "      <th>Prob_ArriveLate</th>\n",
       "    </tr>\n",
       "  </thead>\n",
       "  <tbody>\n",
       "    <tr>\n",
       "      <th>133</th>\n",
       "      <td>GST</td>\n",
       "      <td>0.671053</td>\n",
       "    </tr>\n",
       "    <tr>\n",
       "      <th>9</th>\n",
       "      <td>ADK</td>\n",
       "      <td>0.640449</td>\n",
       "    </tr>\n",
       "    <tr>\n",
       "      <th>246</th>\n",
       "      <td>PPG</td>\n",
       "      <td>0.626168</td>\n",
       "    </tr>\n",
       "    <tr>\n",
       "      <th>154</th>\n",
       "      <td>ILG</td>\n",
       "      <td>0.557895</td>\n",
       "    </tr>\n",
       "    <tr>\n",
       "      <th>13</th>\n",
       "      <td>AKN</td>\n",
       "      <td>0.507937</td>\n",
       "    </tr>\n",
       "    <tr>\n",
       "      <th>...</th>\n",
       "      <td>...</td>\n",
       "      <td>...</td>\n",
       "    </tr>\n",
       "    <tr>\n",
       "      <th>88</th>\n",
       "      <td>DIK</td>\n",
       "      <td>0.207383</td>\n",
       "    </tr>\n",
       "    <tr>\n",
       "      <th>189</th>\n",
       "      <td>LWS</td>\n",
       "      <td>0.164966</td>\n",
       "    </tr>\n",
       "    <tr>\n",
       "      <th>46</th>\n",
       "      <td>BTM</td>\n",
       "      <td>0.152778</td>\n",
       "    </tr>\n",
       "    <tr>\n",
       "      <th>314</th>\n",
       "      <td>VEL</td>\n",
       "      <td>0.115000</td>\n",
       "    </tr>\n",
       "    <tr>\n",
       "      <th>70</th>\n",
       "      <td>CNY</td>\n",
       "      <td>0.039024</td>\n",
       "    </tr>\n",
       "  </tbody>\n",
       "</table>\n",
       "<p>322 rows × 2 columns</p>\n",
       "</div>"
      ],
      "text/plain": [
       "    Origin_Airport  Prob_ArriveLate\n",
       "133            GST         0.671053\n",
       "9              ADK         0.640449\n",
       "246            PPG         0.626168\n",
       "154            ILG         0.557895\n",
       "13             AKN         0.507937\n",
       "..             ...              ...\n",
       "88             DIK         0.207383\n",
       "189            LWS         0.164966\n",
       "46             BTM         0.152778\n",
       "314            VEL         0.115000\n",
       "70             CNY         0.039024\n",
       "\n",
       "[322 rows x 2 columns]"
      ]
     },
     "execution_count": 386,
     "metadata": {},
     "output_type": "execute_result"
    }
   ],
   "source": [
    "#Calculate and round the total average probability of delayed arrival flights\n",
    "print('==============================================================================================================')\n",
    "print('Total average probability of a flight leaving from a given airport will arrive at its destination late: ', round(df_prob.Prob_ArriveLate.mean(), 3))\n",
    "print('==============================================================================================================')\n",
    "df_prob"
   ]
  },
  {
   "cell_type": "markdown",
   "metadata": {},
   "source": [
    "The total average probability of a flight arriving at its destination late is 34.6%. The originating airport with the highest probability of a flight arriving late to its destination is GST followed by ADK, both of these are in Alaska."
   ]
  },
  {
   "cell_type": "markdown",
   "metadata": {},
   "source": [
    "3. What is the mean and std of late arrival times for both of these airports\n",
    "- Based on the mean and std information ONLY, which airport seems like a better choice?"
   ]
  },
  {
   "cell_type": "code",
   "execution_count": 387,
   "metadata": {},
   "outputs": [],
   "source": [
    "#Group the data by origin_airport and aggregate the data to calculate mean and standard standard deviation\n",
    "grouped = df[df.arrival_delay > 0].groupby('origin_airport')\n",
    "df_grouped = grouped['arrival_time'].agg([np.mean, np.std]).reset_index()\n",
    "df_prob[['Mean_ArriveLate', 'STD_ArriveLate']] = df_grouped[['mean', 'std']]"
   ]
  },
  {
   "cell_type": "markdown",
   "metadata": {
    "tags": []
   },
   "source": [
    "Mean of late arrival times, descending order"
   ]
  },
  {
   "cell_type": "code",
   "execution_count": 388,
   "metadata": {},
   "outputs": [
    {
     "data": {
      "text/html": [
       "<div>\n",
       "<style scoped>\n",
       "    .dataframe tbody tr th:only-of-type {\n",
       "        vertical-align: middle;\n",
       "    }\n",
       "\n",
       "    .dataframe tbody tr th {\n",
       "        vertical-align: top;\n",
       "    }\n",
       "\n",
       "    .dataframe thead th {\n",
       "        text-align: right;\n",
       "    }\n",
       "</style>\n",
       "<table border=\"1\" class=\"dataframe\">\n",
       "  <thead>\n",
       "    <tr style=\"text-align: right;\">\n",
       "      <th></th>\n",
       "      <th>Origin_Airport</th>\n",
       "      <th>Mean_ArriveLate</th>\n",
       "      <th>Prob_ArriveLate</th>\n",
       "    </tr>\n",
       "  </thead>\n",
       "  <tbody>\n",
       "    <tr>\n",
       "      <th>9</th>\n",
       "      <td>ADK</td>\n",
       "      <td>2141.491228</td>\n",
       "      <td>0.640449</td>\n",
       "    </tr>\n",
       "    <tr>\n",
       "      <th>313</th>\n",
       "      <td>UST</td>\n",
       "      <td>1922.950820</td>\n",
       "      <td>0.423611</td>\n",
       "    </tr>\n",
       "    <tr>\n",
       "      <th>133</th>\n",
       "      <td>GST</td>\n",
       "      <td>1851.196078</td>\n",
       "      <td>0.671053</td>\n",
       "    </tr>\n",
       "    <tr>\n",
       "      <th>13</th>\n",
       "      <td>AKN</td>\n",
       "      <td>1838.062500</td>\n",
       "      <td>0.507937</td>\n",
       "    </tr>\n",
       "    <tr>\n",
       "      <th>219</th>\n",
       "      <td>MVY</td>\n",
       "      <td>1812.385714</td>\n",
       "      <td>0.341463</td>\n",
       "    </tr>\n",
       "    <tr>\n",
       "      <th>...</th>\n",
       "      <td>...</td>\n",
       "      <td>...</td>\n",
       "      <td>...</td>\n",
       "    </tr>\n",
       "    <tr>\n",
       "      <th>168</th>\n",
       "      <td>JMS</td>\n",
       "      <td>879.023077</td>\n",
       "      <td>0.346614</td>\n",
       "    </tr>\n",
       "    <tr>\n",
       "      <th>234</th>\n",
       "      <td>PBG</td>\n",
       "      <td>857.738462</td>\n",
       "      <td>0.465950</td>\n",
       "    </tr>\n",
       "    <tr>\n",
       "      <th>42</th>\n",
       "      <td>BQN</td>\n",
       "      <td>831.312775</td>\n",
       "      <td>0.340841</td>\n",
       "    </tr>\n",
       "    <tr>\n",
       "      <th>248</th>\n",
       "      <td>PSE</td>\n",
       "      <td>819.868132</td>\n",
       "      <td>0.246612</td>\n",
       "    </tr>\n",
       "    <tr>\n",
       "      <th>246</th>\n",
       "      <td>PPG</td>\n",
       "      <td>609.701493</td>\n",
       "      <td>0.626168</td>\n",
       "    </tr>\n",
       "  </tbody>\n",
       "</table>\n",
       "<p>322 rows × 3 columns</p>\n",
       "</div>"
      ],
      "text/plain": [
       "    Origin_Airport  Mean_ArriveLate  Prob_ArriveLate\n",
       "9              ADK      2141.491228         0.640449\n",
       "313            UST      1922.950820         0.423611\n",
       "133            GST      1851.196078         0.671053\n",
       "13             AKN      1838.062500         0.507937\n",
       "219            MVY      1812.385714         0.341463\n",
       "..             ...              ...              ...\n",
       "168            JMS       879.023077         0.346614\n",
       "234            PBG       857.738462         0.465950\n",
       "42             BQN       831.312775         0.340841\n",
       "248            PSE       819.868132         0.246612\n",
       "246            PPG       609.701493         0.626168\n",
       "\n",
       "[322 rows x 3 columns]"
      ]
     },
     "execution_count": 388,
     "metadata": {},
     "output_type": "execute_result"
    }
   ],
   "source": [
    "#Calculate the standard deviation\n",
    "df_prob[['Origin_Airport', 'Mean_ArriveLate', 'Prob_ArriveLate']].sort_values('Mean_ArriveLate',ascending=False)"
   ]
  },
  {
   "cell_type": "markdown",
   "metadata": {},
   "source": [
    "STD of late arrival times, descending order"
   ]
  },
  {
   "cell_type": "code",
   "execution_count": 389,
   "metadata": {},
   "outputs": [
    {
     "data": {
      "text/html": [
       "<div>\n",
       "<style scoped>\n",
       "    .dataframe tbody tr th:only-of-type {\n",
       "        vertical-align: middle;\n",
       "    }\n",
       "\n",
       "    .dataframe tbody tr th {\n",
       "        vertical-align: top;\n",
       "    }\n",
       "\n",
       "    .dataframe thead th {\n",
       "        text-align: right;\n",
       "    }\n",
       "</style>\n",
       "<table border=\"1\" class=\"dataframe\">\n",
       "  <thead>\n",
       "    <tr style=\"text-align: right;\">\n",
       "      <th></th>\n",
       "      <th>Origin_Airport</th>\n",
       "      <th>STD_ArriveLate</th>\n",
       "      <th>Prob_ArriveLate</th>\n",
       "    </tr>\n",
       "  </thead>\n",
       "  <tbody>\n",
       "    <tr>\n",
       "      <th>154</th>\n",
       "      <td>ILG</td>\n",
       "      <td>777.867633</td>\n",
       "      <td>0.557895</td>\n",
       "    </tr>\n",
       "    <tr>\n",
       "      <th>166</th>\n",
       "      <td>JFK</td>\n",
       "      <td>697.138470</td>\n",
       "      <td>0.364821</td>\n",
       "    </tr>\n",
       "    <tr>\n",
       "      <th>203</th>\n",
       "      <td>MIA</td>\n",
       "      <td>667.308383</td>\n",
       "      <td>0.405146</td>\n",
       "    </tr>\n",
       "    <tr>\n",
       "      <th>195</th>\n",
       "      <td>MDW</td>\n",
       "      <td>666.939960</td>\n",
       "      <td>0.404196</td>\n",
       "    </tr>\n",
       "    <tr>\n",
       "      <th>114</th>\n",
       "      <td>FLL</td>\n",
       "      <td>665.127546</td>\n",
       "      <td>0.340711</td>\n",
       "    </tr>\n",
       "    <tr>\n",
       "      <th>...</th>\n",
       "      <td>...</td>\n",
       "      <td>...</td>\n",
       "      <td>...</td>\n",
       "    </tr>\n",
       "    <tr>\n",
       "      <th>70</th>\n",
       "      <td>CNY</td>\n",
       "      <td>134.480947</td>\n",
       "      <td>0.039024</td>\n",
       "    </tr>\n",
       "    <tr>\n",
       "      <th>231</th>\n",
       "      <td>OTH</td>\n",
       "      <td>125.335238</td>\n",
       "      <td>0.433962</td>\n",
       "    </tr>\n",
       "    <tr>\n",
       "      <th>133</th>\n",
       "      <td>GST</td>\n",
       "      <td>63.396536</td>\n",
       "      <td>0.671053</td>\n",
       "    </tr>\n",
       "    <tr>\n",
       "      <th>89</th>\n",
       "      <td>DLG</td>\n",
       "      <td>54.869431</td>\n",
       "      <td>0.220779</td>\n",
       "    </tr>\n",
       "    <tr>\n",
       "      <th>13</th>\n",
       "      <td>AKN</td>\n",
       "      <td>21.348019</td>\n",
       "      <td>0.507937</td>\n",
       "    </tr>\n",
       "  </tbody>\n",
       "</table>\n",
       "<p>322 rows × 3 columns</p>\n",
       "</div>"
      ],
      "text/plain": [
       "    Origin_Airport  STD_ArriveLate  Prob_ArriveLate\n",
       "154            ILG      777.867633         0.557895\n",
       "166            JFK      697.138470         0.364821\n",
       "203            MIA      667.308383         0.405146\n",
       "195            MDW      666.939960         0.404196\n",
       "114            FLL      665.127546         0.340711\n",
       "..             ...             ...              ...\n",
       "70             CNY      134.480947         0.039024\n",
       "231            OTH      125.335238         0.433962\n",
       "133            GST       63.396536         0.671053\n",
       "89             DLG       54.869431         0.220779\n",
       "13             AKN       21.348019         0.507937\n",
       "\n",
       "[322 rows x 3 columns]"
      ]
     },
     "execution_count": 389,
     "metadata": {},
     "output_type": "execute_result"
    }
   ],
   "source": [
    "#Calculate the standard deviation\n",
    "df_prob[['Origin_Airport', 'STD_ArriveLate', 'Prob_ArriveLate']].sort_values('STD_ArriveLate',ascending=False)"
   ]
  },
  {
   "cell_type": "markdown",
   "metadata": {},
   "source": [
    "It appears that the standard deviation would be a better metric to go by considering the highest STD value has a lower probability of arriving late than the highest mean does."
   ]
  },
  {
   "cell_type": "markdown",
   "metadata": {},
   "source": [
    "4. Define a question that would utilize Bernoulli's Equation and preform a calculation to support your question."
   ]
  },
  {
   "cell_type": "code",
   "execution_count": 390,
   "metadata": {},
   "outputs": [],
   "source": [
    "from scipy import stats"
   ]
  },
  {
   "cell_type": "markdown",
   "metadata": {},
   "source": [
    "Q. I need to fly out of Chicago 5 times during the month of May, what Chicagoland airport should I choose so that reduce the chances of having a delayed flight, and if I do, I will at least have a shorter delay?"
   ]
  },
  {
   "cell_type": "code",
   "execution_count": 391,
   "metadata": {},
   "outputs": [],
   "source": [
    "#List of Chicagoland airports (to include Milwaukee)\n",
    "airports_q = ['ORD' ,'MDW', 'MKE']"
   ]
  },
  {
   "cell_type": "code",
   "execution_count": 392,
   "metadata": {},
   "outputs": [],
   "source": [
    "#Calculate the probability mass function for the airports of interest\n",
    "df_prob['BinaryDist_Prob'] = df_prob.Prob_ArriveLate.apply(lambda x: stats.binom.pmf(1, n=5, p=x))"
   ]
  },
  {
   "cell_type": "code",
   "execution_count": 393,
   "metadata": {},
   "outputs": [
    {
     "data": {
      "text/html": [
       "<div>\n",
       "<style scoped>\n",
       "    .dataframe tbody tr th:only-of-type {\n",
       "        vertical-align: middle;\n",
       "    }\n",
       "\n",
       "    .dataframe tbody tr th {\n",
       "        vertical-align: top;\n",
       "    }\n",
       "\n",
       "    .dataframe thead th {\n",
       "        text-align: right;\n",
       "    }\n",
       "</style>\n",
       "<table border=\"1\" class=\"dataframe\">\n",
       "  <thead>\n",
       "    <tr style=\"text-align: right;\">\n",
       "      <th></th>\n",
       "      <th>Origin_Airport</th>\n",
       "      <th>Prob_ArriveLate</th>\n",
       "      <th>Mean_ArriveLate</th>\n",
       "      <th>STD_ArriveLate</th>\n",
       "      <th>BinaryDist_Prob</th>\n",
       "    </tr>\n",
       "  </thead>\n",
       "  <tbody>\n",
       "    <tr>\n",
       "      <th>228</th>\n",
       "      <td>ORD</td>\n",
       "      <td>0.408937</td>\n",
       "      <td>1564.041881</td>\n",
       "      <td>583.924122</td>\n",
       "      <td>0.249552</td>\n",
       "    </tr>\n",
       "    <tr>\n",
       "      <th>195</th>\n",
       "      <td>MDW</td>\n",
       "      <td>0.404196</td>\n",
       "      <td>1515.746364</td>\n",
       "      <td>666.939960</td>\n",
       "      <td>0.254668</td>\n",
       "    </tr>\n",
       "    <tr>\n",
       "      <th>204</th>\n",
       "      <td>MKE</td>\n",
       "      <td>0.327202</td>\n",
       "      <td>1530.420926</td>\n",
       "      <td>506.791787</td>\n",
       "      <td>0.335216</td>\n",
       "    </tr>\n",
       "  </tbody>\n",
       "</table>\n",
       "</div>"
      ],
      "text/plain": [
       "    Origin_Airport  Prob_ArriveLate  Mean_ArriveLate  STD_ArriveLate  \\\n",
       "228            ORD         0.408937      1564.041881      583.924122   \n",
       "195            MDW         0.404196      1515.746364      666.939960   \n",
       "204            MKE         0.327202      1530.420926      506.791787   \n",
       "\n",
       "     BinaryDist_Prob  \n",
       "228         0.249552  \n",
       "195         0.254668  \n",
       "204         0.335216  "
      ]
     },
     "execution_count": 393,
     "metadata": {},
     "output_type": "execute_result"
    }
   ],
   "source": [
    "#Filter to view only airports of interest\n",
    "df_prob[df_prob.Origin_Airport.isin(airports_q)].copy()"
   ]
  },
  {
   "cell_type": "markdown",
   "metadata": {},
   "source": [
    "- Using the probability mass function to deteremine the our late flight arrival probability, we see that ORD will actually give us a lower probability than both MKE and MDW.\n",
    "- The probability of having 1 flight delayed out of the 5 I plan to take is 24% if I decide to choose ORD"
   ]
  },
  {
   "cell_type": "markdown",
   "metadata": {},
   "source": [
    "5. Provide a summary of all the values that you calculated for 3 airports"
   ]
  },
  {
   "cell_type": "code",
   "execution_count": 394,
   "metadata": {},
   "outputs": [
    {
     "data": {
      "text/html": [
       "<div>\n",
       "<style scoped>\n",
       "    .dataframe tbody tr th:only-of-type {\n",
       "        vertical-align: middle;\n",
       "    }\n",
       "\n",
       "    .dataframe tbody tr th {\n",
       "        vertical-align: top;\n",
       "    }\n",
       "\n",
       "    .dataframe thead th {\n",
       "        text-align: right;\n",
       "    }\n",
       "</style>\n",
       "<table border=\"1\" class=\"dataframe\">\n",
       "  <thead>\n",
       "    <tr style=\"text-align: right;\">\n",
       "      <th></th>\n",
       "      <th>Origin_Airport</th>\n",
       "      <th>Prob_ArriveLate</th>\n",
       "      <th>Mean_ArriveLate</th>\n",
       "      <th>STD_ArriveLate</th>\n",
       "      <th>BinaryDist_Prob</th>\n",
       "    </tr>\n",
       "  </thead>\n",
       "  <tbody>\n",
       "    <tr>\n",
       "      <th>133</th>\n",
       "      <td>GST</td>\n",
       "      <td>0.671053</td>\n",
       "      <td>1851.196078</td>\n",
       "      <td>63.396536</td>\n",
       "      <td>0.039285</td>\n",
       "    </tr>\n",
       "    <tr>\n",
       "      <th>20</th>\n",
       "      <td>ATL</td>\n",
       "      <td>0.334130</td>\n",
       "      <td>1567.160106</td>\n",
       "      <td>583.868142</td>\n",
       "      <td>0.328430</td>\n",
       "    </tr>\n",
       "    <tr>\n",
       "      <th>70</th>\n",
       "      <td>CNY</td>\n",
       "      <td>0.039024</td>\n",
       "      <td>1337.375000</td>\n",
       "      <td>134.480947</td>\n",
       "      <td>0.166401</td>\n",
       "    </tr>\n",
       "  </tbody>\n",
       "</table>\n",
       "</div>"
      ],
      "text/plain": [
       "    Origin_Airport  Prob_ArriveLate  Mean_ArriveLate  STD_ArriveLate  \\\n",
       "133            GST         0.671053      1851.196078       63.396536   \n",
       "20             ATL         0.334130      1567.160106      583.868142   \n",
       "70             CNY         0.039024      1337.375000      134.480947   \n",
       "\n",
       "     BinaryDist_Prob  \n",
       "133         0.039285  \n",
       "20          0.328430  \n",
       "70          0.166401  "
      ]
     },
     "execution_count": 394,
     "metadata": {},
     "output_type": "execute_result"
    }
   ],
   "source": [
    "#Filter to view only airports of interest\n",
    "airports = ['ATL', 'CNY', 'GST']\n",
    "df_prob[df_prob.Origin_Airport.isin(airports)].copy()"
   ]
  },
  {
   "cell_type": "markdown",
   "metadata": {},
   "source": [
    "- Compare the three to each other.\n",
    "- Which airport would you prefer to fly out of based on your results."
   ]
  },
  {
   "cell_type": "markdown",
   "metadata": {},
   "source": [
    "The three airports chosen were the airports with extreme  mean, std, and probability values. Each airport showed to have similar total mean arrival times, but very different standard deviations. Based on these, I would have to choose CNY since it has a much lower standard deviation of late arrival times as well as a much lower probability of being late. "
   ]
  },
  {
   "cell_type": "markdown",
   "metadata": {},
   "source": [
    "V. Conclusion"
   ]
  },
  {
   "cell_type": "markdown",
   "metadata": {},
   "source": [
    "This analysis showed that it is less helpful to use late arrival probability to determine a departing airport than to use mean late arrival time and standard deviation. Additionally, using the binomial distribution functions provided by pandas, we can anticipate our expectations around arrival times given a set of conditions. Important items to discuss for this analysis is that late arrivals are considered even if a flight is 1 minute late, this is responsible for the high probability of late arrivals but low mean arrival time for airports like ATL or ORD. The arrivals with the highest mean arrival time were geographically isolated airports, with lower standard deivation. "
   ]
  },
  {
   "cell_type": "markdown",
   "metadata": {},
   "source": [
    "VI. Sources"
   ]
  },
  {
   "cell_type": "markdown",
   "metadata": {},
   "source": [
    "- Pandas.dataframe.round¶. pandas.DataFrame.round - pandas 1.4.1 documentation. (n.d.). Retrieved March 20, 2022, from https://pandas.pydata.org/pandas-docs/stable/reference/api/pandas.DataFrame.round.html \n",
    "- Python Pandas - GroupBy. Python pandas - groupby. (n.d.). Retrieved March 20, 2022, from https://www.tutorialspoint.com/python_pandas/python_pandas_groupby.htm "
   ]
  },
  {
   "cell_type": "code",
   "execution_count": null,
   "metadata": {},
   "outputs": [],
   "source": []
  }
 ],
 "metadata": {
  "kernelspec": {
   "display_name": "Python 3",
   "language": "python",
   "name": "python3"
  },
  "language_info": {
   "codemirror_mode": {
    "name": "ipython",
    "version": 3
   },
   "file_extension": ".py",
   "mimetype": "text/x-python",
   "name": "python",
   "nbconvert_exporter": "python",
   "pygments_lexer": "ipython3",
   "version": "3.9.12"
  },
  "toc-autonumbering": true
 },
 "nbformat": 4,
 "nbformat_minor": 4
}
