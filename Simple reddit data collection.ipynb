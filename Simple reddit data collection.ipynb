{
 "cells": [
  {
   "cell_type": "markdown",
   "id": "73fa2b84",
   "metadata": {},
   "source": [
    "# Week 7 Assignment"
   ]
  },
  {
   "cell_type": "markdown",
   "id": "f48ee1c5",
   "metadata": {},
   "source": [
    "This week we are collecting some data from Reddit and doing some basic EDA on it. You should:\n",
    "\n",
    "- create your Reddit account and API keys\n",
    "- collect data from a subreddit of your choice\n",
    "    - at a minimum, collect the posts from the subreddit; optionally collect comments on the posts\n",
    "- save the data to a SQLite3 database\n",
    "- perform some basic EDA on the data\n",
    "    - create at least 2 plots\n",
    "- write a short analysis at the end describing the process and results\n",
    "- turn in the Jupyter Notebook and PDF printout or export to the week 7 dropbox\n",
    "\n",
    "***Optional* advanced section**\n",
    "- Practice SQL queries and select a subsection of the posts you collected\n",
    "- Modify your code to collect data beyond the 1000 item limit\n",
    "- Collect comments from the posts for analysis next week and do some EDA on the comments (e.g. who is the top commenter, which commenters have the most up and down votes or most controversial posts, etc)\n",
    "- examine n-grams ([bigrams](https://stackoverflow.com/a/37651184/4549682), trigrams) or [collocations](https://www.geeksforgeeks.org/nlp-word-collocations/)\n",
    "\n",
    "Note: There is no solution file for this week."
   ]
  },
  {
   "cell_type": "code",
   "execution_count": 1,
   "id": "7c87d583",
   "metadata": {},
   "outputs": [
    {
     "ename": "ModuleNotFoundError",
     "evalue": "No module named 'praw'",
     "output_type": "error",
     "traceback": [
      "\u001b[1;31m---------------------------------------------------------------------------\u001b[0m",
      "\u001b[1;31mModuleNotFoundError\u001b[0m                       Traceback (most recent call last)",
      "\u001b[1;32m~\\AppData\\Local\\Temp/ipykernel_23840/967223257.py\u001b[0m in \u001b[0;36m<module>\u001b[1;34m\u001b[0m\n\u001b[1;32m----> 1\u001b[1;33m \u001b[1;32mimport\u001b[0m \u001b[0mpraw\u001b[0m\u001b[1;33m\u001b[0m\u001b[1;33m\u001b[0m\u001b[0m\n\u001b[0m\u001b[0;32m      2\u001b[0m \u001b[1;32mimport\u001b[0m \u001b[0mpandas\u001b[0m \u001b[1;32mas\u001b[0m \u001b[0mpd\u001b[0m\u001b[1;33m\u001b[0m\u001b[1;33m\u001b[0m\u001b[0m\n\u001b[0;32m      3\u001b[0m \u001b[1;32mimport\u001b[0m \u001b[0mmatplotlib\u001b[0m\u001b[1;33m.\u001b[0m\u001b[0mpyplot\u001b[0m \u001b[1;32mas\u001b[0m \u001b[0mplt\u001b[0m\u001b[1;33m\u001b[0m\u001b[1;33m\u001b[0m\u001b[0m\n\u001b[0;32m      4\u001b[0m \u001b[1;32mimport\u001b[0m \u001b[0mcredentials\u001b[0m \u001b[1;31m#(API key .py)\u001b[0m\u001b[1;33m\u001b[0m\u001b[1;33m\u001b[0m\u001b[0m\n",
      "\u001b[1;31mModuleNotFoundError\u001b[0m: No module named 'praw'"
     ]
    }
   ],
   "source": [
    "import praw\n",
    "import pandas as pd\n",
    "import matplotlib.pyplot as plt\n",
    "import credentials #(API key .py)"
   ]
  },
  {
   "cell_type": "markdown",
   "id": "0950b7bf-e92c-4f54-a94d-37f3ddd83015",
   "metadata": {},
   "source": [
    "#### 1. Create your Reddit account and API keys"
   ]
  },
  {
   "cell_type": "code",
   "execution_count": 2,
   "id": "351691f0-9cb5-4ce9-ad5d-9c82a4bf6148",
   "metadata": {},
   "outputs": [],
   "source": [
    "reddit = praw.Reddit(client_id = credentials.client_id,\n",
    "                    client_secret = credentials.client_secret,\n",
    "                    user_agent = credentials.user_agent)"
   ]
  },
  {
   "cell_type": "code",
   "execution_count": 28,
   "id": "14e868e3-d9e0-4946-92da-f53bb5ff6e52",
   "metadata": {},
   "outputs": [],
   "source": [
    "#Use list comprehension\n",
    "reddit_posts_data = {'title': [],\n",
    "                    'link': [],\n",
    "                     'created': [],\n",
    "                    'author': [],\n",
    "                    'n_comments': [],\n",
    "                    'score': [],\n",
    "                    'text': [],\n",
    "                    'post_id': []}\n",
    "\n",
    "reddit_comments_data = {'author': [],\n",
    "                        'score': [],\n",
    "                        'text': [],\n",
    "                        'post_id': []}"
   ]
  },
  {
   "cell_type": "markdown",
   "id": "32f59340-d7d6-451c-b69a-37dfb90f4a7f",
   "metadata": {},
   "source": [
    "#### 2. Collect data from a subreddit of your choice"
   ]
  },
  {
   "cell_type": "code",
   "execution_count": 29,
   "id": "f1d7bd7b-2ce4-4459-b53e-0f5f5a3727b9",
   "metadata": {},
   "outputs": [],
   "source": [
    "#Pull the top 15 hot posts on the Ethereum subreddit\n",
    "co_subreddit = reddit.subreddit('ethereum').hot(limit=20)\n",
    "\n",
    "#Collect subreddit posts\n",
    "for post in list(co_subreddit):\n",
    "    reddit_posts_data['title'].append(post.title)\n",
    "    reddit_posts_data['link'].append(post.permalink)\n",
    "    reddit_posts_data['created'].append(post.created)\n",
    "    if post.author is None:\n",
    "        reddit_posts_data['author'].append(None)\n",
    "    else:\n",
    "        reddit_posts_data['author'].append(post.author.name)\n",
    "    reddit_posts_data['n_comments'].append(post.num_comments)\n",
    "    reddit_posts_data['score'].append(post.score)\n",
    "    reddit_posts_data['text'].append(post.selftext)\n",
    "    reddit_posts_data['post_id'].append(post.id)\n",
    "    \n",
    "    #Collect subreddit comments\n",
    "    post.comments.replace_more(limit=None)\n",
    "    for comment in post.comments:\n",
    "        if comment.author is None:\n",
    "            reddit_comments_data['author'].append('')\n",
    "        else:\n",
    "            reddit_comments_data['author'].append(comment.author.name)\n",
    "        reddit_comments_data['score'].append(comment.score)\n",
    "        reddit_comments_data['text'].append(comment.body)\n",
    "        reddit_comments_data['post_id'].append(post.id)\n",
    "\n",
    "post_df = pd.DataFrame(reddit_posts_data)\n",
    "comment_df = pd.DataFrame(reddit_comments_data)"
   ]
  },
  {
   "cell_type": "code",
   "execution_count": 31,
   "id": "13fb9a47-f422-49ca-8264-b3c68e731717",
   "metadata": {},
   "outputs": [],
   "source": [
    "#Convert ISO8601 value to datetime type\n",
    "from datetime import datetime\n",
    "from datetime import timedelta\n",
    "\n",
    "post_df.created = pd.to_numeric(post_df.created, errors='coerce')\n",
    "post_df.created = post_df.created.astype(int)\n",
    "\n",
    "for index, row in post_df.iterrows():\n",
    "    iso8601 = datetime.fromtimestamp(row['created'])\n",
    "    post_df.at[index,'dt_created'] = datetime.strftime(iso8601, \"%Y/%m/%d %H:%M:%S\")\n",
    "\n",
    "post_df = post_df.drop('created', axis=1)"
   ]
  },
  {
   "cell_type": "code",
   "execution_count": 34,
   "id": "4ad75aab-3c1b-4b11-aca0-84799e78b69a",
   "metadata": {},
   "outputs": [
    {
     "data": {
      "text/html": [
       "<div>\n",
       "<style scoped>\n",
       "    .dataframe tbody tr th:only-of-type {\n",
       "        vertical-align: middle;\n",
       "    }\n",
       "\n",
       "    .dataframe tbody tr th {\n",
       "        vertical-align: top;\n",
       "    }\n",
       "\n",
       "    .dataframe thead th {\n",
       "        text-align: right;\n",
       "    }\n",
       "</style>\n",
       "<table border=\"1\" class=\"dataframe\">\n",
       "  <thead>\n",
       "    <tr style=\"text-align: right;\">\n",
       "      <th></th>\n",
       "      <th>title</th>\n",
       "      <th>link</th>\n",
       "      <th>author</th>\n",
       "      <th>n_comments</th>\n",
       "      <th>score</th>\n",
       "      <th>text</th>\n",
       "      <th>post_id</th>\n",
       "      <th>dt_created</th>\n",
       "    </tr>\n",
       "  </thead>\n",
       "  <tbody>\n",
       "    <tr>\n",
       "      <th>0</th>\n",
       "      <td>FreeRossDAO has raised 1000+ ETH. Powerful Eth...</td>\n",
       "      <td>/r/ethereum/comments/r9frxg/freerossdao_has_ra...</td>\n",
       "      <td>sassypersona16</td>\n",
       "      <td>8</td>\n",
       "      <td>122</td>\n",
       "      <td>https://twitter.com/TrashbagsCash/status/14674...</td>\n",
       "      <td>r9frxg</td>\n",
       "      <td>2021/12/05 08:30:59</td>\n",
       "    </tr>\n",
       "    <tr>\n",
       "      <th>1</th>\n",
       "      <td>Satoshi owns 5.2% of all the bitcoin supply an...</td>\n",
       "      <td>/r/ethereum/comments/r90qoy/satoshi_owns_52_of...</td>\n",
       "      <td>Historian_investor</td>\n",
       "      <td>414</td>\n",
       "      <td>993</td>\n",
       "      <td>.23% of all ethereum supply</td>\n",
       "      <td>r90qoy</td>\n",
       "      <td>2021/12/04 17:23:57</td>\n",
       "    </tr>\n",
       "    <tr>\n",
       "      <th>2</th>\n",
       "      <td>$13 million of stolen ETH is being sold right ...</td>\n",
       "      <td>/r/ethereum/comments/r94obk/13_million_of_stol...</td>\n",
       "      <td>sandygws</td>\n",
       "      <td>68</td>\n",
       "      <td>177</td>\n",
       "      <td>$13 million of stolen ETH being sold live righ...</td>\n",
       "      <td>r94obk</td>\n",
       "      <td>2021/12/04 20:51:12</td>\n",
       "    </tr>\n",
       "    <tr>\n",
       "      <th>3</th>\n",
       "      <td>Ethereum showing relative market strength comp...</td>\n",
       "      <td>/r/ethereum/comments/r9bvvb/ethereum_showing_r...</td>\n",
       "      <td>WhalesHeaven</td>\n",
       "      <td>6</td>\n",
       "      <td>40</td>\n",
       "      <td>This isn't a price discussion post, but rather...</td>\n",
       "      <td>r9bvvb</td>\n",
       "      <td>2021/12/05 04:10:57</td>\n",
       "    </tr>\n",
       "    <tr>\n",
       "      <th>4</th>\n",
       "      <td>Ethereum for beginners</td>\n",
       "      <td>/r/ethereum/comments/r9h8ri/ethereum_for_begin...</td>\n",
       "      <td>Artistic_Dwilko</td>\n",
       "      <td>1</td>\n",
       "      <td>10</td>\n",
       "      <td></td>\n",
       "      <td>r9h8ri</td>\n",
       "      <td>2021/12/05 09:49:44</td>\n",
       "    </tr>\n",
       "  </tbody>\n",
       "</table>\n",
       "</div>"
      ],
      "text/plain": [
       "                                               title  \\\n",
       "0  FreeRossDAO has raised 1000+ ETH. Powerful Eth...   \n",
       "1  Satoshi owns 5.2% of all the bitcoin supply an...   \n",
       "2  $13 million of stolen ETH is being sold right ...   \n",
       "3  Ethereum showing relative market strength comp...   \n",
       "4                             Ethereum for beginners   \n",
       "\n",
       "                                                link              author  \\\n",
       "0  /r/ethereum/comments/r9frxg/freerossdao_has_ra...      sassypersona16   \n",
       "1  /r/ethereum/comments/r90qoy/satoshi_owns_52_of...  Historian_investor   \n",
       "2  /r/ethereum/comments/r94obk/13_million_of_stol...            sandygws   \n",
       "3  /r/ethereum/comments/r9bvvb/ethereum_showing_r...        WhalesHeaven   \n",
       "4  /r/ethereum/comments/r9h8ri/ethereum_for_begin...     Artistic_Dwilko   \n",
       "\n",
       "   n_comments  score                                               text  \\\n",
       "0           8    122  https://twitter.com/TrashbagsCash/status/14674...   \n",
       "1         414    993                        .23% of all ethereum supply   \n",
       "2          68    177  $13 million of stolen ETH being sold live righ...   \n",
       "3           6     40  This isn't a price discussion post, but rather...   \n",
       "4           1     10                                                      \n",
       "\n",
       "  post_id           dt_created  \n",
       "0  r9frxg  2021/12/05 08:30:59  \n",
       "1  r90qoy  2021/12/04 17:23:57  \n",
       "2  r94obk  2021/12/04 20:51:12  \n",
       "3  r9bvvb  2021/12/05 04:10:57  \n",
       "4  r9h8ri  2021/12/05 09:49:44  "
      ]
     },
     "execution_count": 34,
     "metadata": {},
     "output_type": "execute_result"
    }
   ],
   "source": [
    "#Preview post df\n",
    "post_df.head()"
   ]
  },
  {
   "cell_type": "code",
   "execution_count": 58,
   "id": "3c6a972c-aea2-425f-a817-fa913c574847",
   "metadata": {},
   "outputs": [
    {
     "data": {
      "text/html": [
       "<div>\n",
       "<style scoped>\n",
       "    .dataframe tbody tr th:only-of-type {\n",
       "        vertical-align: middle;\n",
       "    }\n",
       "\n",
       "    .dataframe tbody tr th {\n",
       "        vertical-align: top;\n",
       "    }\n",
       "\n",
       "    .dataframe thead th {\n",
       "        text-align: right;\n",
       "    }\n",
       "</style>\n",
       "<table border=\"1\" class=\"dataframe\">\n",
       "  <thead>\n",
       "    <tr style=\"text-align: right;\">\n",
       "      <th></th>\n",
       "      <th>author</th>\n",
       "      <th>score</th>\n",
       "      <th>text</th>\n",
       "      <th>post_id</th>\n",
       "    </tr>\n",
       "  </thead>\n",
       "  <tbody>\n",
       "    <tr>\n",
       "      <th>0</th>\n",
       "      <td>Sutied</td>\n",
       "      <td>2</td>\n",
       "      <td>If I only had 100 ETH to donate lmao</td>\n",
       "      <td>r9frxg</td>\n",
       "    </tr>\n",
       "    <tr>\n",
       "      <th>1</th>\n",
       "      <td>ProfessorCrumbledore</td>\n",
       "      <td>2</td>\n",
       "      <td>Could have almost bought a pardon a year ago w...</td>\n",
       "      <td>r9frxg</td>\n",
       "    </tr>\n",
       "    <tr>\n",
       "      <th>2</th>\n",
       "      <td>DonLemonAIDS</td>\n",
       "      <td>2</td>\n",
       "      <td>Of all the valid objects of sympathy out there...</td>\n",
       "      <td>r9frxg</td>\n",
       "    </tr>\n",
       "    <tr>\n",
       "      <th>3</th>\n",
       "      <td>atxdevdude</td>\n",
       "      <td>57</td>\n",
       "      <td>I mean clearly Vitalik would make less of an i...</td>\n",
       "      <td>r90qoy</td>\n",
       "    </tr>\n",
       "    <tr>\n",
       "      <th>4</th>\n",
       "      <td>hesiod2</td>\n",
       "      <td>44</td>\n",
       "      <td>For context: Jeff Bezos owns 10% of Amazon.  Z...</td>\n",
       "      <td>r90qoy</td>\n",
       "    </tr>\n",
       "  </tbody>\n",
       "</table>\n",
       "</div>"
      ],
      "text/plain": [
       "                 author  score  \\\n",
       "0                Sutied      2   \n",
       "1  ProfessorCrumbledore      2   \n",
       "2          DonLemonAIDS      2   \n",
       "3            atxdevdude     57   \n",
       "4               hesiod2     44   \n",
       "\n",
       "                                                text post_id  \n",
       "0               If I only had 100 ETH to donate lmao  r9frxg  \n",
       "1  Could have almost bought a pardon a year ago w...  r9frxg  \n",
       "2  Of all the valid objects of sympathy out there...  r9frxg  \n",
       "3  I mean clearly Vitalik would make less of an i...  r90qoy  \n",
       "4  For context: Jeff Bezos owns 10% of Amazon.  Z...  r90qoy  "
      ]
     },
     "execution_count": 58,
     "metadata": {},
     "output_type": "execute_result"
    }
   ],
   "source": [
    "comment_df.head()"
   ]
  },
  {
   "cell_type": "markdown",
   "id": "45dbf33c-e964-4865-90f4-3d6c289b2025",
   "metadata": {},
   "source": [
    "#### 3. Save the data to a SQLite3 database"
   ]
  },
  {
   "cell_type": "code",
   "execution_count": 36,
   "id": "b2e8e444-876f-44b5-bac9-cda671577843",
   "metadata": {},
   "outputs": [],
   "source": [
    "import sqlite3\n",
    "con = sqlite3.connect('Week7_co_reddit.sqlite')\n",
    "post_df.to_sql('posts', con, if_exists='replace')\n",
    "comment_df.to_sql('comments', con, if_exists='replace')\n",
    "con.close()"
   ]
  },
  {
   "cell_type": "code",
   "execution_count": 40,
   "id": "e537fedf-a395-4a8f-b327-f4b487a6c563",
   "metadata": {},
   "outputs": [
    {
     "data": {
      "text/html": [
       "<div>\n",
       "<style scoped>\n",
       "    .dataframe tbody tr th:only-of-type {\n",
       "        vertical-align: middle;\n",
       "    }\n",
       "\n",
       "    .dataframe tbody tr th {\n",
       "        vertical-align: top;\n",
       "    }\n",
       "\n",
       "    .dataframe thead th {\n",
       "        text-align: right;\n",
       "    }\n",
       "</style>\n",
       "<table border=\"1\" class=\"dataframe\">\n",
       "  <thead>\n",
       "    <tr style=\"text-align: right;\">\n",
       "      <th></th>\n",
       "      <th>title</th>\n",
       "      <th>n_comments</th>\n",
       "    </tr>\n",
       "  </thead>\n",
       "  <tbody>\n",
       "    <tr>\n",
       "      <th>0</th>\n",
       "      <td>FreeRossDAO has raised 1000+ ETH. Powerful Eth...</td>\n",
       "      <td>8</td>\n",
       "    </tr>\n",
       "    <tr>\n",
       "      <th>1</th>\n",
       "      <td>Satoshi owns 5.2% of all the bitcoin supply an...</td>\n",
       "      <td>414</td>\n",
       "    </tr>\n",
       "    <tr>\n",
       "      <th>2</th>\n",
       "      <td>$13 million of stolen ETH is being sold right ...</td>\n",
       "      <td>68</td>\n",
       "    </tr>\n",
       "    <tr>\n",
       "      <th>3</th>\n",
       "      <td>Ethereum showing relative market strength comp...</td>\n",
       "      <td>6</td>\n",
       "    </tr>\n",
       "    <tr>\n",
       "      <th>4</th>\n",
       "      <td>Ethereum for beginners</td>\n",
       "      <td>1</td>\n",
       "    </tr>\n",
       "    <tr>\n",
       "      <th>5</th>\n",
       "      <td>I bought 1.1 ETH on Nov 10th for $5000. I am s...</td>\n",
       "      <td>38</td>\n",
       "    </tr>\n",
       "    <tr>\n",
       "      <th>6</th>\n",
       "      <td>Updated and detailed roadmap for the Ethereum ...</td>\n",
       "      <td>2</td>\n",
       "    </tr>\n",
       "    <tr>\n",
       "      <th>7</th>\n",
       "      <td>Why is Foundation.app running on my phone even...</td>\n",
       "      <td>5</td>\n",
       "    </tr>\n",
       "    <tr>\n",
       "      <th>8</th>\n",
       "      <td>Illuminating the Dark Forest</td>\n",
       "      <td>6</td>\n",
       "    </tr>\n",
       "    <tr>\n",
       "      <th>9</th>\n",
       "      <td>The Ethereum Data Service - a gas-efficient so...</td>\n",
       "      <td>0</td>\n",
       "    </tr>\n",
       "    <tr>\n",
       "      <th>10</th>\n",
       "      <td>Is the blockchain Metaverse too salesy for mas...</td>\n",
       "      <td>0</td>\n",
       "    </tr>\n",
       "    <tr>\n",
       "      <th>11</th>\n",
       "      <td>Is Solidity anybody's first programming language?</td>\n",
       "      <td>10</td>\n",
       "    </tr>\n",
       "    <tr>\n",
       "      <th>12</th>\n",
       "      <td>Gas Fees for Compound &amp; in general</td>\n",
       "      <td>2</td>\n",
       "    </tr>\n",
       "    <tr>\n",
       "      <th>13</th>\n",
       "      <td>If I'm not in a hurry, can I just set a low ga...</td>\n",
       "      <td>262</td>\n",
       "    </tr>\n",
       "    <tr>\n",
       "      <th>14</th>\n",
       "      <td>Noob question</td>\n",
       "      <td>8</td>\n",
       "    </tr>\n",
       "    <tr>\n",
       "      <th>15</th>\n",
       "      <td>What are the biggest issues that Ethereum faces?</td>\n",
       "      <td>7</td>\n",
       "    </tr>\n",
       "    <tr>\n",
       "      <th>16</th>\n",
       "      <td>I've set a transaction to 33 Gwei and it hasn'...</td>\n",
       "      <td>34</td>\n",
       "    </tr>\n",
       "    <tr>\n",
       "      <th>17</th>\n",
       "      <td>Layer 2 security on Ethereum vs. Bitcoin</td>\n",
       "      <td>25</td>\n",
       "    </tr>\n",
       "    <tr>\n",
       "      <th>18</th>\n",
       "      <td>When is a block actually added onto the blockc...</td>\n",
       "      <td>3</td>\n",
       "    </tr>\n",
       "    <tr>\n",
       "      <th>19</th>\n",
       "      <td>Polygon</td>\n",
       "      <td>24</td>\n",
       "    </tr>\n",
       "  </tbody>\n",
       "</table>\n",
       "</div>"
      ],
      "text/plain": [
       "                                                title  n_comments\n",
       "0   FreeRossDAO has raised 1000+ ETH. Powerful Eth...           8\n",
       "1   Satoshi owns 5.2% of all the bitcoin supply an...         414\n",
       "2   $13 million of stolen ETH is being sold right ...          68\n",
       "3   Ethereum showing relative market strength comp...           6\n",
       "4                              Ethereum for beginners           1\n",
       "5   I bought 1.1 ETH on Nov 10th for $5000. I am s...          38\n",
       "6   Updated and detailed roadmap for the Ethereum ...           2\n",
       "7   Why is Foundation.app running on my phone even...           5\n",
       "8                        Illuminating the Dark Forest           6\n",
       "9   The Ethereum Data Service - a gas-efficient so...           0\n",
       "10  Is the blockchain Metaverse too salesy for mas...           0\n",
       "11  Is Solidity anybody's first programming language?          10\n",
       "12                 Gas Fees for Compound & in general           2\n",
       "13  If I'm not in a hurry, can I just set a low ga...         262\n",
       "14                                      Noob question           8\n",
       "15   What are the biggest issues that Ethereum faces?           7\n",
       "16  I've set a transaction to 33 Gwei and it hasn'...          34\n",
       "17           Layer 2 security on Ethereum vs. Bitcoin          25\n",
       "18  When is a block actually added onto the blockc...           3\n",
       "19                                            Polygon          24"
      ]
     },
     "execution_count": 40,
     "metadata": {},
     "output_type": "execute_result"
    }
   ],
   "source": [
    "#Preview SQL with query\n",
    "test_con = sqlite3.connect('Week7_co_reddit.sqlite')\n",
    "test_df = pd.read_sql_query('SELECT title, n_comments FROM posts;', test_con)\n",
    "test_con.close()\n",
    "test_df"
   ]
  },
  {
   "cell_type": "markdown",
   "id": "996a5eff-28b7-4df4-938d-8b996fb84898",
   "metadata": {},
   "source": [
    "#### 4. Perform some basic EDA on the data"
   ]
  },
  {
   "cell_type": "code",
   "execution_count": 76,
   "id": "cee9ff88-ef4b-4c99-a58e-611facc29f55",
   "metadata": {},
   "outputs": [
    {
     "data": {
      "text/plain": [
       "<AxesSubplot:xlabel='score', ylabel='n_comments'>"
      ]
     },
     "execution_count": 76,
     "metadata": {},
     "output_type": "execute_result"
    },
    {
     "data": {
      "image/png": "[encoded data removed]",
      "text/plain": [
       "<Figure size 720x360 with 1 Axes>"
      ]
     },
     "metadata": {
      "needs_background": "light"
     },
     "output_type": "display_data"
    }
   ],
   "source": [
    "#View relationship between number of comments and score\n",
    "import seaborn as sns\n",
    "plt.figure(figsize=(10,5))\n",
    "sns.scatterplot(data=post_df, x=\"score\", y=\"n_comments\", size=\"score\", legend=False, sizes=(20, 150))"
   ]
  },
  {
   "cell_type": "code",
   "execution_count": 56,
   "id": "b79949b3-8b09-4239-9bd9-0fc42db0e24d",
   "metadata": {},
   "outputs": [
    {
     "data": {
      "image/png": "[encoded data removed]",
      "text/plain": [
       "<Figure size 1800x360 with 2 Axes>"
      ]
     },
     "metadata": {
      "needs_background": "light"
     },
     "output_type": "display_data"
    }
   ],
   "source": [
    "#View comment & score outliers\n",
    "plt.figure(figsize=(25, 5))\n",
    "cnt = 1\n",
    "outlier_col = ['n_comments','score']\n",
    "for x in outlier_col:\n",
    "    plt.subplot(1,3, cnt)\n",
    "    plt1 = plt.boxplot(post_df[x])\n",
    "    plt2 = plt.boxplot(post_df[x])\n",
    "    plt3 = plt.boxplot(post_df[x])\n",
    "    plt.title(x)\n",
    "    cnt = cnt + 1\n",
    "    plt.yscale('log')"
   ]
  },
  {
   "cell_type": "markdown",
   "id": "ec5fce48",
   "metadata": {},
   "source": [
    "# Analysis"
   ]
  },
  {
   "cell_type": "markdown",
   "id": "ed918e12",
   "metadata": {},
   "source": [
    "This assignment was well designed, and I did not have any issues collecting the data. The data I collected was from the subreddit Ethereum. Ethereum is the second-largest cryptocurrency by market capitalization. The conversations within this community can be pretty polarizing, so I'm looking forward to next week's assignment. I limited the number of posts gathered to 20 since anymore had a heavy hit on performance. I also collected the comments for each post as they will provide greater insight into what is being discussed within this subreddit. "
   ]
  }
 ],
 "metadata": {
  "kernelspec": {
   "display_name": "Python 3 (ipykernel)",
   "language": "python",
   "name": "python3"
  },
  "language_info": {
   "codemirror_mode": {
    "name": "ipython",
    "version": 3
   },
   "file_extension": ".py",
   "mimetype": "text/x-python",
   "name": "python",
   "nbconvert_exporter": "python",
   "pygments_lexer": "ipython3",
   "version": "3.8.12"
  }
 },
 "nbformat": 4,
 "nbformat_minor": 5
}
